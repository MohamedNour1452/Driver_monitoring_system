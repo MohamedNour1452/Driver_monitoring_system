{
 "cells": [
  {
   "cell_type": "markdown",
   "metadata": {
    "id": "QUANWN3rpfC9"
   },
   "source": [
    "# 0. Setup Paths"
   ]
  },
  {
   "cell_type": "code",
   "execution_count": 1,
   "metadata": {
    "id": "146BB11JpfDA"
   },
   "outputs": [],
   "source": [
    "import os"
   ]
  },
  {
   "cell_type": "code",
   "execution_count": 2,
   "metadata": {
    "id": "42hJEdo_pfDB"
   },
   "outputs": [],
   "source": [
    "CUSTOM_MODEL_NAME = 'DMS_JetsonNano' \n",
    "PRETRAINED_MODEL_NAME = 'ssd_mobilenet_v2_fpnlite_320x320_coco17_tpu-8'\n",
    "PRETRAINED_MODEL_URL = 'http://download.tensorflow.org/models/object_detection/tf2/20200711/ssd_mobilenet_v2_fpnlite_320x320_coco17_tpu-8.tar.gz'\n",
    "TF_RECORD_SCRIPT_NAME = 'generate_tfrecord.py'\n",
    "LABEL_MAP_NAME = 'label_map.pbtxt'"
   ]
  },
  {
   "cell_type": "code",
   "execution_count": 3,
   "metadata": {
    "id": "hbPhYVy_pfDB"
   },
   "outputs": [],
   "source": [
    "paths = {\n",
    "    'WORKSPACE_PATH': os.path.join('Tensorflow', 'workspace'),\n",
    "    'SCRIPTS_PATH': os.path.join('Tensorflow','scripts'),\n",
    "    'APIMODEL_PATH': os.path.join('Tensorflow','models'),\n",
    "    'ANNOTATION_PATH': os.path.join('Tensorflow', 'workspace','annotations'),\n",
    "    'IMAGE_PATH': os.path.join('Tensorflow', 'workspace','images'),\n",
    "    'MODEL_PATH': os.path.join('Tensorflow', 'workspace','models'),\n",
    "    'PRETRAINED_MODEL_PATH': os.path.join('Tensorflow', 'workspace','pre-trained-models'),\n",
    "    'CHECKPOINT_PATH': os.path.join('Tensorflow', 'workspace','models',CUSTOM_MODEL_NAME), \n",
    "    'OUTPUT_PATH': os.path.join('Tensorflow', 'workspace','models',CUSTOM_MODEL_NAME, 'export', 'pipeline.config'), \n",
    "    'TFJS_PATH':os.path.join('Tensorflow', 'workspace','models',CUSTOM_MODEL_NAME, 'tfjsexport'), \n",
    "    'TFLITE_PATH':os.path.join('Tensorflow', 'workspace','models',CUSTOM_MODEL_NAME, 'tfliteexport'), \n",
    "    'PROTOC_PATH':os.path.join('Tensorflow','protoc')\n",
    " }"
   ]
  },
  {
   "cell_type": "code",
   "execution_count": 4,
   "metadata": {
    "id": "LwhWZMI0pfDC"
   },
   "outputs": [],
   "source": [
    "files = {\n",
    "    'PIPELINE_CONFIG':os.path.join('Tensorflow', 'workspace','models', CUSTOM_MODEL_NAME, 'pipeline.config'),\n",
    "    'TF_RECORD_SCRIPT': os.path.join(paths['SCRIPTS_PATH'], TF_RECORD_SCRIPT_NAME), \n",
    "    'LABELMAP': os.path.join(paths['ANNOTATION_PATH'], LABEL_MAP_NAME)\n",
    "}"
   ]
  },
  {
   "cell_type": "code",
   "execution_count": 5,
   "metadata": {
    "id": "HR-TfDGrpfDC"
   },
   "outputs": [],
   "source": [
    "for path in paths.values():\n",
    "    if not os.path.exists(path):\n",
    "        if os.name == 'posix':\n",
    "            !mkdir -p {path}\n",
    "        if os.name == 'nt':\n",
    "            !mkdir {path}"
   ]
  },
  {
   "cell_type": "markdown",
   "metadata": {
    "id": "OLU-rs_ipfDE"
   },
   "source": [
    "# 1. Download TF Models Pretrained Models from Tensorflow Model Zoo and Install TFOD"
   ]
  },
  {
   "cell_type": "code",
   "execution_count": 44,
   "metadata": {},
   "outputs": [],
   "source": [
    "# https://www.tensorflow.org/install/source_windows"
   ]
  },
  {
   "cell_type": "code",
   "execution_count": 25,
   "metadata": {
    "id": "K-Cmz2edpfDE",
    "scrolled": true
   },
   "outputs": [
    {
     "name": "stdout",
     "output_type": "stream",
     "text": [
      "Requirement already satisfied: wget in c:\\users\\mnour\\documents\\ai\\test\\tfodcourse\\tfod\\lib\\site-packages (3.2)\n"
     ]
    }
   ],
   "source": [
    "if os.name=='nt':\n",
    "    !pip install wget\n",
    "    import wget"
   ]
  },
  {
   "cell_type": "code",
   "execution_count": 29,
   "metadata": {
    "id": "iA1DIq5OpfDE"
   },
   "outputs": [],
   "source": [
    "if not os.path.exists(os.path.join(paths['APIMODEL_PATH'], 'research', 'object_detection')):\n",
    "    !git clone https://github.com/tensorflow/models {paths['APIMODEL_PATH']}"
   ]
  },
  {
   "cell_type": "code",
   "execution_count": 26,
   "metadata": {
    "id": "rJjMHbnDs3Tv"
   },
   "outputs": [
    {
     "name": "stdout",
     "output_type": "stream",
     "text": [
      "        1 file(s) moved.\n",
      "        1 file(s) copied.\n",
      "running build\n",
      "running build_py\n",
      "copying object_detection\\protos\\anchor_generator_pb2.py -> build\\lib\\object_detection\\protos\n",
      "copying object_detection\\protos\\argmax_matcher_pb2.py -> build\\lib\\object_detection\\protos\n",
      "copying object_detection\\protos\\bipartite_matcher_pb2.py -> build\\lib\\object_detection\\protos\n",
      "copying object_detection\\protos\\box_coder_pb2.py -> build\\lib\\object_detection\\protos\n",
      "copying object_detection\\protos\\box_predictor_pb2.py -> build\\lib\\object_detection\\protos\n",
      "copying object_detection\\protos\\calibration_pb2.py -> build\\lib\\object_detection\\protos\n",
      "copying object_detection\\protos\\center_net_pb2.py -> build\\lib\\object_detection\\protos\n",
      "copying object_detection\\protos\\eval_pb2.py -> build\\lib\\object_detection\\protos\n",
      "copying object_detection\\protos\\faster_rcnn_box_coder_pb2.py -> build\\lib\\object_detection\\protos\n",
      "copying object_detection\\protos\\faster_rcnn_pb2.py -> build\\lib\\object_detection\\protos\n",
      "copying object_detection\\protos\\flexible_grid_anchor_generator_pb2.py -> build\\lib\\object_detection\\protos\n",
      "copying object_detection\\protos\\fpn_pb2.py -> build\\lib\\object_detection\\protos\n",
      "copying object_detection\\protos\\graph_rewriter_pb2.py -> build\\lib\\object_detection\\protos\n",
      "copying object_detection\\protos\\grid_anchor_generator_pb2.py -> build\\lib\\object_detection\\protos\n",
      "copying object_detection\\protos\\hyperparams_pb2.py -> build\\lib\\object_detection\\protos\n",
      "copying object_detection\\protos\\image_resizer_pb2.py -> build\\lib\\object_detection\\protos\n",
      "copying object_detection\\protos\\input_reader_pb2.py -> build\\lib\\object_detection\\protos\n",
      "copying object_detection\\protos\\keypoint_box_coder_pb2.py -> build\\lib\\object_detection\\protos\n",
      "copying object_detection\\protos\\losses_pb2.py -> build\\lib\\object_detection\\protos\n",
      "copying object_detection\\protos\\matcher_pb2.py -> build\\lib\\object_detection\\protos\n",
      "copying object_detection\\protos\\mean_stddev_box_coder_pb2.py -> build\\lib\\object_detection\\protos\n",
      "copying object_detection\\protos\\model_pb2.py -> build\\lib\\object_detection\\protos\n",
      "copying object_detection\\protos\\multiscale_anchor_generator_pb2.py -> build\\lib\\object_detection\\protos\n",
      "copying object_detection\\protos\\optimizer_pb2.py -> build\\lib\\object_detection\\protos\n",
      "copying object_detection\\protos\\pipeline_pb2.py -> build\\lib\\object_detection\\protos\n",
      "copying object_detection\\protos\\post_processing_pb2.py -> build\\lib\\object_detection\\protos\n",
      "copying object_detection\\protos\\preprocessor_pb2.py -> build\\lib\\object_detection\\protos\n",
      "copying object_detection\\protos\\region_similarity_calculator_pb2.py -> build\\lib\\object_detection\\protos\n",
      "copying object_detection\\protos\\square_box_coder_pb2.py -> build\\lib\\object_detection\\protos\n",
      "copying object_detection\\protos\\ssd_anchor_generator_pb2.py -> build\\lib\\object_detection\\protos\n",
      "copying object_detection\\protos\\ssd_pb2.py -> build\\lib\\object_detection\\protos\n",
      "copying object_detection\\protos\\string_int_label_map_pb2.py -> build\\lib\\object_detection\\protos\n",
      "copying object_detection\\protos\\target_assigner_pb2.py -> build\\lib\\object_detection\\protos\n",
      "copying object_detection\\protos\\train_pb2.py -> build\\lib\\object_detection\\protos\n",
      "running egg_info\n",
      "writing object_detection.egg-info\\PKG-INFO\n",
      "writing dependency_links to object_detection.egg-info\\dependency_links.txt\n",
      "writing requirements to object_detection.egg-info\\requires.txt\n",
      "writing top-level names to object_detection.egg-info\\top_level.txt\n",
      "reading manifest file 'object_detection.egg-info\\SOURCES.txt'\n",
      "writing manifest file 'object_detection.egg-info\\SOURCES.txt'\n",
      "running install\n",
      "running bdist_egg\n",
      "running egg_info\n",
      "writing object_detection.egg-info\\PKG-INFO\n",
      "writing dependency_links to object_detection.egg-info\\dependency_links.txt\n",
      "writing requirements to object_detection.egg-info\\requires.txt\n",
      "writing top-level names to object_detection.egg-info\\top_level.txt\n",
      "reading manifest file 'object_detection.egg-info\\SOURCES.txt'\n",
      "writing manifest file 'object_detection.egg-info\\SOURCES.txt'\n",
      "installing library code to build\\bdist.win-amd64\\egg\n",
      "running install_lib\n",
      "running build_py\n",
      "creating build\\bdist.win-amd64\\egg\n",
      "creating build\\bdist.win-amd64\\egg\\datasets\n",
      "copying build\\lib\\datasets\\build_imagenet_data.py -> build\\bdist.win-amd64\\egg\\datasets\n",
      "copying build\\lib\\datasets\\cifar10.py -> build\\bdist.win-amd64\\egg\\datasets\n",
      "copying build\\lib\\datasets\\dataset_factory.py -> build\\bdist.win-amd64\\egg\\datasets\n",
      "copying build\\lib\\datasets\\dataset_utils.py -> build\\bdist.win-amd64\\egg\\datasets\n",
      "copying build\\lib\\datasets\\download_and_convert_cifar10.py -> build\\bdist.win-amd64\\egg\\datasets\n",
      "copying build\\lib\\datasets\\download_and_convert_flowers.py -> build\\bdist.win-amd64\\egg\\datasets\n",
      "copying build\\lib\\datasets\\download_and_convert_mnist.py -> build\\bdist.win-amd64\\egg\\datasets\n",
      "copying build\\lib\\datasets\\download_and_convert_visualwakewords.py -> build\\bdist.win-amd64\\egg\\datasets\n",
      "copying build\\lib\\datasets\\download_and_convert_visualwakewords_lib.py -> build\\bdist.win-amd64\\egg\\datasets\n",
      "copying build\\lib\\datasets\\flowers.py -> build\\bdist.win-amd64\\egg\\datasets\n",
      "copying build\\lib\\datasets\\imagenet.py -> build\\bdist.win-amd64\\egg\\datasets\n",
      "copying build\\lib\\datasets\\mnist.py -> build\\bdist.win-amd64\\egg\\datasets\n",
      "copying build\\lib\\datasets\\preprocess_imagenet_validation_data.py -> build\\bdist.win-amd64\\egg\\datasets\n",
      "copying build\\lib\\datasets\\process_bounding_boxes.py -> build\\bdist.win-amd64\\egg\\datasets\n",
      "copying build\\lib\\datasets\\visualwakewords.py -> build\\bdist.win-amd64\\egg\\datasets\n",
      "copying build\\lib\\datasets\\__init__.py -> build\\bdist.win-amd64\\egg\\datasets\n",
      "creating build\\bdist.win-amd64\\egg\\deployment\n",
      "copying build\\lib\\deployment\\model_deploy.py -> build\\bdist.win-amd64\\egg\\deployment\n",
      "copying build\\lib\\deployment\\model_deploy_test.py -> build\\bdist.win-amd64\\egg\\deployment\n",
      "copying build\\lib\\deployment\\__init__.py -> build\\bdist.win-amd64\\egg\\deployment\n",
      "creating build\\bdist.win-amd64\\egg\\nets\n",
      "copying build\\lib\\nets\\alexnet.py -> build\\bdist.win-amd64\\egg\\nets\n",
      "copying build\\lib\\nets\\alexnet_test.py -> build\\bdist.win-amd64\\egg\\nets\n",
      "copying build\\lib\\nets\\cifarnet.py -> build\\bdist.win-amd64\\egg\\nets\n",
      "copying build\\lib\\nets\\cyclegan.py -> build\\bdist.win-amd64\\egg\\nets\n",
      "copying build\\lib\\nets\\cyclegan_test.py -> build\\bdist.win-amd64\\egg\\nets\n",
      "copying build\\lib\\nets\\dcgan.py -> build\\bdist.win-amd64\\egg\\nets\n",
      "copying build\\lib\\nets\\dcgan_test.py -> build\\bdist.win-amd64\\egg\\nets\n",
      "copying build\\lib\\nets\\i3d.py -> build\\bdist.win-amd64\\egg\\nets\n",
      "copying build\\lib\\nets\\i3d_test.py -> build\\bdist.win-amd64\\egg\\nets\n",
      "copying build\\lib\\nets\\i3d_utils.py -> build\\bdist.win-amd64\\egg\\nets\n",
      "copying build\\lib\\nets\\inception.py -> build\\bdist.win-amd64\\egg\\nets\n",
      "copying build\\lib\\nets\\inception_resnet_v2.py -> build\\bdist.win-amd64\\egg\\nets\n",
      "copying build\\lib\\nets\\inception_resnet_v2_test.py -> build\\bdist.win-amd64\\egg\\nets\n",
      "copying build\\lib\\nets\\inception_utils.py -> build\\bdist.win-amd64\\egg\\nets\n",
      "copying build\\lib\\nets\\inception_v1.py -> build\\bdist.win-amd64\\egg\\nets\n",
      "copying build\\lib\\nets\\inception_v1_test.py -> build\\bdist.win-amd64\\egg\\nets\n",
      "copying build\\lib\\nets\\inception_v2.py -> build\\bdist.win-amd64\\egg\\nets\n",
      "copying build\\lib\\nets\\inception_v2_test.py -> build\\bdist.win-amd64\\egg\\nets\n",
      "copying build\\lib\\nets\\inception_v3.py -> build\\bdist.win-amd64\\egg\\nets\n",
      "copying build\\lib\\nets\\inception_v3_test.py -> build\\bdist.win-amd64\\egg\\nets\n",
      "copying build\\lib\\nets\\inception_v4.py -> build\\bdist.win-amd64\\egg\\nets\n",
      "copying build\\lib\\nets\\inception_v4_test.py -> build\\bdist.win-amd64\\egg\\nets\n",
      "copying build\\lib\\nets\\lenet.py -> build\\bdist.win-amd64\\egg\\nets\n",
      "creating build\\bdist.win-amd64\\egg\\nets\\mobilenet\n",
      "copying build\\lib\\nets\\mobilenet\\conv_blocks.py -> build\\bdist.win-amd64\\egg\\nets\\mobilenet\n",
      "copying build\\lib\\nets\\mobilenet\\mobilenet.py -> build\\bdist.win-amd64\\egg\\nets\\mobilenet\n",
      "copying build\\lib\\nets\\mobilenet\\mobilenet_v2.py -> build\\bdist.win-amd64\\egg\\nets\\mobilenet\n",
      "copying build\\lib\\nets\\mobilenet\\mobilenet_v2_test.py -> build\\bdist.win-amd64\\egg\\nets\\mobilenet\n",
      "copying build\\lib\\nets\\mobilenet\\mobilenet_v3.py -> build\\bdist.win-amd64\\egg\\nets\\mobilenet\n",
      "copying build\\lib\\nets\\mobilenet\\mobilenet_v3_test.py -> build\\bdist.win-amd64\\egg\\nets\\mobilenet\n",
      "copying build\\lib\\nets\\mobilenet\\__init__.py -> build\\bdist.win-amd64\\egg\\nets\\mobilenet\n",
      "copying build\\lib\\nets\\mobilenet_v1.py -> build\\bdist.win-amd64\\egg\\nets\n",
      "copying build\\lib\\nets\\mobilenet_v1_eval.py -> build\\bdist.win-amd64\\egg\\nets\n",
      "copying build\\lib\\nets\\mobilenet_v1_test.py -> build\\bdist.win-amd64\\egg\\nets\n",
      "copying build\\lib\\nets\\mobilenet_v1_train.py -> build\\bdist.win-amd64\\egg\\nets\n",
      "creating build\\bdist.win-amd64\\egg\\nets\\nasnet\n",
      "copying build\\lib\\nets\\nasnet\\nasnet.py -> build\\bdist.win-amd64\\egg\\nets\\nasnet\n",
      "copying build\\lib\\nets\\nasnet\\nasnet_test.py -> build\\bdist.win-amd64\\egg\\nets\\nasnet\n",
      "copying build\\lib\\nets\\nasnet\\nasnet_utils.py -> build\\bdist.win-amd64\\egg\\nets\\nasnet\n",
      "copying build\\lib\\nets\\nasnet\\nasnet_utils_test.py -> build\\bdist.win-amd64\\egg\\nets\\nasnet\n",
      "copying build\\lib\\nets\\nasnet\\pnasnet.py -> build\\bdist.win-amd64\\egg\\nets\\nasnet\n",
      "copying build\\lib\\nets\\nasnet\\pnasnet_test.py -> build\\bdist.win-amd64\\egg\\nets\\nasnet\n",
      "copying build\\lib\\nets\\nasnet\\__init__.py -> build\\bdist.win-amd64\\egg\\nets\\nasnet\n",
      "copying build\\lib\\nets\\nets_factory.py -> build\\bdist.win-amd64\\egg\\nets\n",
      "copying build\\lib\\nets\\nets_factory_test.py -> build\\bdist.win-amd64\\egg\\nets\n",
      "copying build\\lib\\nets\\overfeat.py -> build\\bdist.win-amd64\\egg\\nets\n",
      "copying build\\lib\\nets\\overfeat_test.py -> build\\bdist.win-amd64\\egg\\nets\n",
      "copying build\\lib\\nets\\pix2pix.py -> build\\bdist.win-amd64\\egg\\nets\n",
      "copying build\\lib\\nets\\pix2pix_test.py -> build\\bdist.win-amd64\\egg\\nets\n",
      "copying build\\lib\\nets\\post_training_quantization.py -> build\\bdist.win-amd64\\egg\\nets\n",
      "copying build\\lib\\nets\\resnet_utils.py -> build\\bdist.win-amd64\\egg\\nets\n",
      "copying build\\lib\\nets\\resnet_v1.py -> build\\bdist.win-amd64\\egg\\nets\n",
      "copying build\\lib\\nets\\resnet_v1_test.py -> build\\bdist.win-amd64\\egg\\nets\n",
      "copying build\\lib\\nets\\resnet_v2.py -> build\\bdist.win-amd64\\egg\\nets\n",
      "copying build\\lib\\nets\\resnet_v2_test.py -> build\\bdist.win-amd64\\egg\\nets\n",
      "copying build\\lib\\nets\\s3dg.py -> build\\bdist.win-amd64\\egg\\nets\n",
      "copying build\\lib\\nets\\s3dg_test.py -> build\\bdist.win-amd64\\egg\\nets\n",
      "copying build\\lib\\nets\\vgg.py -> build\\bdist.win-amd64\\egg\\nets\n",
      "copying build\\lib\\nets\\vgg_test.py -> build\\bdist.win-amd64\\egg\\nets\n",
      "copying build\\lib\\nets\\__init__.py -> build\\bdist.win-amd64\\egg\\nets\n",
      "creating build\\bdist.win-amd64\\egg\\object_detection\n",
      "creating build\\bdist.win-amd64\\egg\\object_detection\\anchor_generators\n",
      "copying build\\lib\\object_detection\\anchor_generators\\flexible_grid_anchor_generator.py -> build\\bdist.win-amd64\\egg\\object_detection\\anchor_generators\n",
      "copying build\\lib\\object_detection\\anchor_generators\\flexible_grid_anchor_generator_test.py -> build\\bdist.win-amd64\\egg\\object_detection\\anchor_generators\n",
      "copying build\\lib\\object_detection\\anchor_generators\\grid_anchor_generator.py -> build\\bdist.win-amd64\\egg\\object_detection\\anchor_generators\n",
      "copying build\\lib\\object_detection\\anchor_generators\\grid_anchor_generator_test.py -> build\\bdist.win-amd64\\egg\\object_detection\\anchor_generators\n",
      "copying build\\lib\\object_detection\\anchor_generators\\multiple_grid_anchor_generator.py -> build\\bdist.win-amd64\\egg\\object_detection\\anchor_generators\n",
      "copying build\\lib\\object_detection\\anchor_generators\\multiple_grid_anchor_generator_test.py -> build\\bdist.win-amd64\\egg\\object_detection\\anchor_generators\n",
      "copying build\\lib\\object_detection\\anchor_generators\\multiscale_grid_anchor_generator.py -> build\\bdist.win-amd64\\egg\\object_detection\\anchor_generators\n",
      "copying build\\lib\\object_detection\\anchor_generators\\multiscale_grid_anchor_generator_test.py -> build\\bdist.win-amd64\\egg\\object_detection\\anchor_generators\n",
      "copying build\\lib\\object_detection\\anchor_generators\\__init__.py -> build\\bdist.win-amd64\\egg\\object_detection\\anchor_generators\n",
      "creating build\\bdist.win-amd64\\egg\\object_detection\\box_coders\n",
      "copying build\\lib\\object_detection\\box_coders\\faster_rcnn_box_coder.py -> build\\bdist.win-amd64\\egg\\object_detection\\box_coders\n",
      "copying build\\lib\\object_detection\\box_coders\\faster_rcnn_box_coder_test.py -> build\\bdist.win-amd64\\egg\\object_detection\\box_coders\n",
      "copying build\\lib\\object_detection\\box_coders\\keypoint_box_coder.py -> build\\bdist.win-amd64\\egg\\object_detection\\box_coders\n",
      "copying build\\lib\\object_detection\\box_coders\\keypoint_box_coder_test.py -> build\\bdist.win-amd64\\egg\\object_detection\\box_coders\n",
      "copying build\\lib\\object_detection\\box_coders\\mean_stddev_box_coder.py -> build\\bdist.win-amd64\\egg\\object_detection\\box_coders\n",
      "copying build\\lib\\object_detection\\box_coders\\mean_stddev_box_coder_test.py -> build\\bdist.win-amd64\\egg\\object_detection\\box_coders\n",
      "copying build\\lib\\object_detection\\box_coders\\square_box_coder.py -> build\\bdist.win-amd64\\egg\\object_detection\\box_coders\n",
      "copying build\\lib\\object_detection\\box_coders\\square_box_coder_test.py -> build\\bdist.win-amd64\\egg\\object_detection\\box_coders\n",
      "copying build\\lib\\object_detection\\box_coders\\__init__.py -> build\\bdist.win-amd64\\egg\\object_detection\\box_coders\n",
      "creating build\\bdist.win-amd64\\egg\\object_detection\\builders\n",
      "copying build\\lib\\object_detection\\builders\\anchor_generator_builder.py -> build\\bdist.win-amd64\\egg\\object_detection\\builders\n",
      "copying build\\lib\\object_detection\\builders\\anchor_generator_builder_test.py -> build\\bdist.win-amd64\\egg\\object_detection\\builders\n",
      "copying build\\lib\\object_detection\\builders\\box_coder_builder.py -> build\\bdist.win-amd64\\egg\\object_detection\\builders\n",
      "copying build\\lib\\object_detection\\builders\\box_coder_builder_test.py -> build\\bdist.win-amd64\\egg\\object_detection\\builders\n",
      "copying build\\lib\\object_detection\\builders\\box_predictor_builder.py -> build\\bdist.win-amd64\\egg\\object_detection\\builders\n",
      "copying build\\lib\\object_detection\\builders\\box_predictor_builder_test.py -> build\\bdist.win-amd64\\egg\\object_detection\\builders\n",
      "copying build\\lib\\object_detection\\builders\\calibration_builder.py -> build\\bdist.win-amd64\\egg\\object_detection\\builders\n",
      "copying build\\lib\\object_detection\\builders\\calibration_builder_test.py -> build\\bdist.win-amd64\\egg\\object_detection\\builders\n",
      "copying build\\lib\\object_detection\\builders\\dataset_builder.py -> build\\bdist.win-amd64\\egg\\object_detection\\builders\n",
      "copying build\\lib\\object_detection\\builders\\dataset_builder_test.py -> build\\bdist.win-amd64\\egg\\object_detection\\builders\n",
      "copying build\\lib\\object_detection\\builders\\decoder_builder.py -> build\\bdist.win-amd64\\egg\\object_detection\\builders\n",
      "copying build\\lib\\object_detection\\builders\\decoder_builder_test.py -> build\\bdist.win-amd64\\egg\\object_detection\\builders\n",
      "copying build\\lib\\object_detection\\builders\\graph_rewriter_builder.py -> build\\bdist.win-amd64\\egg\\object_detection\\builders\n",
      "copying build\\lib\\object_detection\\builders\\graph_rewriter_builder_tf1_test.py -> build\\bdist.win-amd64\\egg\\object_detection\\builders\n",
      "copying build\\lib\\object_detection\\builders\\hyperparams_builder.py -> build\\bdist.win-amd64\\egg\\object_detection\\builders\n",
      "copying build\\lib\\object_detection\\builders\\hyperparams_builder_test.py -> build\\bdist.win-amd64\\egg\\object_detection\\builders\n",
      "copying build\\lib\\object_detection\\builders\\image_resizer_builder.py -> build\\bdist.win-amd64\\egg\\object_detection\\builders\n",
      "copying build\\lib\\object_detection\\builders\\image_resizer_builder_test.py -> build\\bdist.win-amd64\\egg\\object_detection\\builders\n",
      "copying build\\lib\\object_detection\\builders\\input_reader_builder.py -> build\\bdist.win-amd64\\egg\\object_detection\\builders\n",
      "copying build\\lib\\object_detection\\builders\\input_reader_builder_tf1_test.py -> build\\bdist.win-amd64\\egg\\object_detection\\builders\n",
      "copying build\\lib\\object_detection\\builders\\losses_builder.py -> build\\bdist.win-amd64\\egg\\object_detection\\builders\n",
      "copying build\\lib\\object_detection\\builders\\losses_builder_test.py -> build\\bdist.win-amd64\\egg\\object_detection\\builders\n",
      "copying build\\lib\\object_detection\\builders\\matcher_builder.py -> build\\bdist.win-amd64\\egg\\object_detection\\builders\n",
      "copying build\\lib\\object_detection\\builders\\matcher_builder_test.py -> build\\bdist.win-amd64\\egg\\object_detection\\builders\n",
      "copying build\\lib\\object_detection\\builders\\model_builder.py -> build\\bdist.win-amd64\\egg\\object_detection\\builders\n",
      "copying build\\lib\\object_detection\\builders\\model_builder_test.py -> build\\bdist.win-amd64\\egg\\object_detection\\builders\n",
      "copying build\\lib\\object_detection\\builders\\model_builder_tf1_test.py -> build\\bdist.win-amd64\\egg\\object_detection\\builders\n",
      "copying build\\lib\\object_detection\\builders\\model_builder_tf2_test.py -> build\\bdist.win-amd64\\egg\\object_detection\\builders\n",
      "copying build\\lib\\object_detection\\builders\\optimizer_builder.py -> build\\bdist.win-amd64\\egg\\object_detection\\builders\n",
      "copying build\\lib\\object_detection\\builders\\optimizer_builder_tf1_test.py -> build\\bdist.win-amd64\\egg\\object_detection\\builders\n",
      "copying build\\lib\\object_detection\\builders\\optimizer_builder_tf2_test.py -> build\\bdist.win-amd64\\egg\\object_detection\\builders\n",
      "copying build\\lib\\object_detection\\builders\\post_processing_builder.py -> build\\bdist.win-amd64\\egg\\object_detection\\builders\n",
      "copying build\\lib\\object_detection\\builders\\post_processing_builder_test.py -> build\\bdist.win-amd64\\egg\\object_detection\\builders\n",
      "copying build\\lib\\object_detection\\builders\\preprocessor_builder.py -> build\\bdist.win-amd64\\egg\\object_detection\\builders\n",
      "copying build\\lib\\object_detection\\builders\\preprocessor_builder_test.py -> build\\bdist.win-amd64\\egg\\object_detection\\builders\n",
      "copying build\\lib\\object_detection\\builders\\region_similarity_calculator_builder.py -> build\\bdist.win-amd64\\egg\\object_detection\\builders\n",
      "copying build\\lib\\object_detection\\builders\\region_similarity_calculator_builder_test.py -> build\\bdist.win-amd64\\egg\\object_detection\\builders\n",
      "copying build\\lib\\object_detection\\builders\\target_assigner_builder.py -> build\\bdist.win-amd64\\egg\\object_detection\\builders\n",
      "copying build\\lib\\object_detection\\builders\\target_assigner_builder_test.py -> build\\bdist.win-amd64\\egg\\object_detection\\builders\n",
      "copying build\\lib\\object_detection\\builders\\__init__.py -> build\\bdist.win-amd64\\egg\\object_detection\\builders\n",
      "creating build\\bdist.win-amd64\\egg\\object_detection\\core\n",
      "copying build\\lib\\object_detection\\core\\anchor_generator.py -> build\\bdist.win-amd64\\egg\\object_detection\\core\n",
      "copying build\\lib\\object_detection\\core\\balanced_positive_negative_sampler.py -> build\\bdist.win-amd64\\egg\\object_detection\\core\n",
      "copying build\\lib\\object_detection\\core\\balanced_positive_negative_sampler_test.py -> build\\bdist.win-amd64\\egg\\object_detection\\core\n",
      "copying build\\lib\\object_detection\\core\\batcher.py -> build\\bdist.win-amd64\\egg\\object_detection\\core\n",
      "copying build\\lib\\object_detection\\core\\batcher_tf1_test.py -> build\\bdist.win-amd64\\egg\\object_detection\\core\n",
      "copying build\\lib\\object_detection\\core\\batch_multiclass_nms_test.py -> build\\bdist.win-amd64\\egg\\object_detection\\core\n",
      "copying build\\lib\\object_detection\\core\\box_coder.py -> build\\bdist.win-amd64\\egg\\object_detection\\core\n",
      "copying build\\lib\\object_detection\\core\\box_coder_test.py -> build\\bdist.win-amd64\\egg\\object_detection\\core\n",
      "copying build\\lib\\object_detection\\core\\box_list.py -> build\\bdist.win-amd64\\egg\\object_detection\\core\n",
      "copying build\\lib\\object_detection\\core\\box_list_ops.py -> build\\bdist.win-amd64\\egg\\object_detection\\core\n",
      "copying build\\lib\\object_detection\\core\\box_list_ops_test.py -> build\\bdist.win-amd64\\egg\\object_detection\\core\n",
      "copying build\\lib\\object_detection\\core\\box_list_test.py -> build\\bdist.win-amd64\\egg\\object_detection\\core\n",
      "copying build\\lib\\object_detection\\core\\box_predictor.py -> build\\bdist.win-amd64\\egg\\object_detection\\core\n",
      "copying build\\lib\\object_detection\\core\\class_agnostic_nms_test.py -> build\\bdist.win-amd64\\egg\\object_detection\\core\n",
      "copying build\\lib\\object_detection\\core\\data_decoder.py -> build\\bdist.win-amd64\\egg\\object_detection\\core\n",
      "copying build\\lib\\object_detection\\core\\data_parser.py -> build\\bdist.win-amd64\\egg\\object_detection\\core\n",
      "copying build\\lib\\object_detection\\core\\densepose_ops.py -> build\\bdist.win-amd64\\egg\\object_detection\\core\n",
      "copying build\\lib\\object_detection\\core\\densepose_ops_test.py -> build\\bdist.win-amd64\\egg\\object_detection\\core\n",
      "copying build\\lib\\object_detection\\core\\freezable_batch_norm.py -> build\\bdist.win-amd64\\egg\\object_detection\\core\n",
      "copying build\\lib\\object_detection\\core\\freezable_batch_norm_tf2_test.py -> build\\bdist.win-amd64\\egg\\object_detection\\core\n",
      "copying build\\lib\\object_detection\\core\\freezable_sync_batch_norm.py -> build\\bdist.win-amd64\\egg\\object_detection\\core\n",
      "copying build\\lib\\object_detection\\core\\keypoint_ops.py -> build\\bdist.win-amd64\\egg\\object_detection\\core\n",
      "copying build\\lib\\object_detection\\core\\keypoint_ops_test.py -> build\\bdist.win-amd64\\egg\\object_detection\\core\n",
      "copying build\\lib\\object_detection\\core\\losses.py -> build\\bdist.win-amd64\\egg\\object_detection\\core\n",
      "copying build\\lib\\object_detection\\core\\losses_test.py -> build\\bdist.win-amd64\\egg\\object_detection\\core\n",
      "copying build\\lib\\object_detection\\core\\matcher.py -> build\\bdist.win-amd64\\egg\\object_detection\\core\n",
      "copying build\\lib\\object_detection\\core\\matcher_test.py -> build\\bdist.win-amd64\\egg\\object_detection\\core\n",
      "copying build\\lib\\object_detection\\core\\minibatch_sampler.py -> build\\bdist.win-amd64\\egg\\object_detection\\core\n",
      "copying build\\lib\\object_detection\\core\\minibatch_sampler_test.py -> build\\bdist.win-amd64\\egg\\object_detection\\core\n",
      "copying build\\lib\\object_detection\\core\\model.py -> build\\bdist.win-amd64\\egg\\object_detection\\core\n",
      "copying build\\lib\\object_detection\\core\\model_test.py -> build\\bdist.win-amd64\\egg\\object_detection\\core\n",
      "copying build\\lib\\object_detection\\core\\multiclass_nms_test.py -> build\\bdist.win-amd64\\egg\\object_detection\\core\n",
      "copying build\\lib\\object_detection\\core\\post_processing.py -> build\\bdist.win-amd64\\egg\\object_detection\\core\n",
      "copying build\\lib\\object_detection\\core\\prefetcher.py -> build\\bdist.win-amd64\\egg\\object_detection\\core\n",
      "copying build\\lib\\object_detection\\core\\prefetcher_tf1_test.py -> build\\bdist.win-amd64\\egg\\object_detection\\core\n",
      "copying build\\lib\\object_detection\\core\\preprocessor.py -> build\\bdist.win-amd64\\egg\\object_detection\\core\n",
      "copying build\\lib\\object_detection\\core\\preprocessor_cache.py -> build\\bdist.win-amd64\\egg\\object_detection\\core\n",
      "copying build\\lib\\object_detection\\core\\preprocessor_test.py -> build\\bdist.win-amd64\\egg\\object_detection\\core\n",
      "copying build\\lib\\object_detection\\core\\region_similarity_calculator.py -> build\\bdist.win-amd64\\egg\\object_detection\\core\n",
      "copying build\\lib\\object_detection\\core\\region_similarity_calculator_test.py -> build\\bdist.win-amd64\\egg\\object_detection\\core\n",
      "copying build\\lib\\object_detection\\core\\standard_fields.py -> build\\bdist.win-amd64\\egg\\object_detection\\core\n",
      "copying build\\lib\\object_detection\\core\\target_assigner.py -> build\\bdist.win-amd64\\egg\\object_detection\\core\n",
      "copying build\\lib\\object_detection\\core\\target_assigner_test.py -> build\\bdist.win-amd64\\egg\\object_detection\\core\n",
      "copying build\\lib\\object_detection\\core\\__init__.py -> build\\bdist.win-amd64\\egg\\object_detection\\core\n",
      "creating build\\bdist.win-amd64\\egg\\object_detection\\dataset_tools\n",
      "creating build\\bdist.win-amd64\\egg\\object_detection\\dataset_tools\\context_rcnn\n",
      "copying build\\lib\\object_detection\\dataset_tools\\context_rcnn\\add_context_to_examples.py -> build\\bdist.win-amd64\\egg\\object_detection\\dataset_tools\\context_rcnn\n",
      "copying build\\lib\\object_detection\\dataset_tools\\context_rcnn\\add_context_to_examples_tf2_test.py -> build\\bdist.win-amd64\\egg\\object_detection\\dataset_tools\\context_rcnn\n",
      "copying build\\lib\\object_detection\\dataset_tools\\context_rcnn\\create_cococameratraps_tfexample_main.py -> build\\bdist.win-amd64\\egg\\object_detection\\dataset_tools\\context_rcnn\n",
      "copying build\\lib\\object_detection\\dataset_tools\\context_rcnn\\create_cococameratraps_tfexample_tf2_test.py -> build\\bdist.win-amd64\\egg\\object_detection\\dataset_tools\\context_rcnn\n",
      "copying build\\lib\\object_detection\\dataset_tools\\context_rcnn\\generate_detection_data.py -> build\\bdist.win-amd64\\egg\\object_detection\\dataset_tools\\context_rcnn\n",
      "copying build\\lib\\object_detection\\dataset_tools\\context_rcnn\\generate_detection_data_tf2_test.py -> build\\bdist.win-amd64\\egg\\object_detection\\dataset_tools\\context_rcnn\n",
      "copying build\\lib\\object_detection\\dataset_tools\\context_rcnn\\generate_embedding_data.py -> build\\bdist.win-amd64\\egg\\object_detection\\dataset_tools\\context_rcnn\n",
      "copying build\\lib\\object_detection\\dataset_tools\\context_rcnn\\generate_embedding_data_tf2_test.py -> build\\bdist.win-amd64\\egg\\object_detection\\dataset_tools\\context_rcnn\n",
      "copying build\\lib\\object_detection\\dataset_tools\\context_rcnn\\__init__.py -> build\\bdist.win-amd64\\egg\\object_detection\\dataset_tools\\context_rcnn\n",
      "copying build\\lib\\object_detection\\dataset_tools\\create_ava_actions_tf_record.py -> build\\bdist.win-amd64\\egg\\object_detection\\dataset_tools\n",
      "copying build\\lib\\object_detection\\dataset_tools\\create_coco_tf_record.py -> build\\bdist.win-amd64\\egg\\object_detection\\dataset_tools\n",
      "copying build\\lib\\object_detection\\dataset_tools\\create_coco_tf_record_test.py -> build\\bdist.win-amd64\\egg\\object_detection\\dataset_tools\n",
      "copying build\\lib\\object_detection\\dataset_tools\\create_kitti_tf_record.py -> build\\bdist.win-amd64\\egg\\object_detection\\dataset_tools\n",
      "copying build\\lib\\object_detection\\dataset_tools\\create_kitti_tf_record_test.py -> build\\bdist.win-amd64\\egg\\object_detection\\dataset_tools\n",
      "copying build\\lib\\object_detection\\dataset_tools\\create_oid_tf_record.py -> build\\bdist.win-amd64\\egg\\object_detection\\dataset_tools\n",
      "copying build\\lib\\object_detection\\dataset_tools\\create_pascal_tf_record.py -> build\\bdist.win-amd64\\egg\\object_detection\\dataset_tools\n",
      "copying build\\lib\\object_detection\\dataset_tools\\create_pascal_tf_record_test.py -> build\\bdist.win-amd64\\egg\\object_detection\\dataset_tools\n",
      "copying build\\lib\\object_detection\\dataset_tools\\create_pet_tf_record.py -> build\\bdist.win-amd64\\egg\\object_detection\\dataset_tools\n",
      "copying build\\lib\\object_detection\\dataset_tools\\oid_hierarchical_labels_expansion.py -> build\\bdist.win-amd64\\egg\\object_detection\\dataset_tools\n",
      "copying build\\lib\\object_detection\\dataset_tools\\oid_hierarchical_labels_expansion_test.py -> build\\bdist.win-amd64\\egg\\object_detection\\dataset_tools\n",
      "copying build\\lib\\object_detection\\dataset_tools\\oid_tfrecord_creation.py -> build\\bdist.win-amd64\\egg\\object_detection\\dataset_tools\n",
      "copying build\\lib\\object_detection\\dataset_tools\\oid_tfrecord_creation_test.py -> build\\bdist.win-amd64\\egg\\object_detection\\dataset_tools\n",
      "copying build\\lib\\object_detection\\dataset_tools\\seq_example_util.py -> build\\bdist.win-amd64\\egg\\object_detection\\dataset_tools\n",
      "copying build\\lib\\object_detection\\dataset_tools\\seq_example_util_test.py -> build\\bdist.win-amd64\\egg\\object_detection\\dataset_tools\n",
      "copying build\\lib\\object_detection\\dataset_tools\\tf_record_creation_util.py -> build\\bdist.win-amd64\\egg\\object_detection\\dataset_tools\n",
      "copying build\\lib\\object_detection\\dataset_tools\\tf_record_creation_util_test.py -> build\\bdist.win-amd64\\egg\\object_detection\\dataset_tools\n",
      "copying build\\lib\\object_detection\\dataset_tools\\__init__.py -> build\\bdist.win-amd64\\egg\\object_detection\\dataset_tools\n",
      "creating build\\bdist.win-amd64\\egg\\object_detection\\data_decoders\n",
      "copying build\\lib\\object_detection\\data_decoders\\tf_example_decoder.py -> build\\bdist.win-amd64\\egg\\object_detection\\data_decoders\n",
      "copying build\\lib\\object_detection\\data_decoders\\tf_example_decoder_test.py -> build\\bdist.win-amd64\\egg\\object_detection\\data_decoders\n",
      "copying build\\lib\\object_detection\\data_decoders\\tf_sequence_example_decoder.py -> build\\bdist.win-amd64\\egg\\object_detection\\data_decoders\n",
      "copying build\\lib\\object_detection\\data_decoders\\tf_sequence_example_decoder_test.py -> build\\bdist.win-amd64\\egg\\object_detection\\data_decoders\n",
      "copying build\\lib\\object_detection\\data_decoders\\__init__.py -> build\\bdist.win-amd64\\egg\\object_detection\\data_decoders\n",
      "copying build\\lib\\object_detection\\eval_util.py -> build\\bdist.win-amd64\\egg\\object_detection\n",
      "copying build\\lib\\object_detection\\eval_util_test.py -> build\\bdist.win-amd64\\egg\\object_detection\n",
      "copying build\\lib\\object_detection\\exporter.py -> build\\bdist.win-amd64\\egg\\object_detection\n",
      "copying build\\lib\\object_detection\\exporter_lib_tf2_test.py -> build\\bdist.win-amd64\\egg\\object_detection\n",
      "copying build\\lib\\object_detection\\exporter_lib_v2.py -> build\\bdist.win-amd64\\egg\\object_detection\n",
      "copying build\\lib\\object_detection\\exporter_main_v2.py -> build\\bdist.win-amd64\\egg\\object_detection\n",
      "copying build\\lib\\object_detection\\exporter_tf1_test.py -> build\\bdist.win-amd64\\egg\\object_detection\n",
      "copying build\\lib\\object_detection\\export_inference_graph.py -> build\\bdist.win-amd64\\egg\\object_detection\n",
      "copying build\\lib\\object_detection\\export_tflite_graph_lib_tf2.py -> build\\bdist.win-amd64\\egg\\object_detection\n",
      "copying build\\lib\\object_detection\\export_tflite_graph_lib_tf2_test.py -> build\\bdist.win-amd64\\egg\\object_detection\n",
      "copying build\\lib\\object_detection\\export_tflite_graph_tf2.py -> build\\bdist.win-amd64\\egg\\object_detection\n",
      "copying build\\lib\\object_detection\\export_tflite_ssd_graph.py -> build\\bdist.win-amd64\\egg\\object_detection\n",
      "copying build\\lib\\object_detection\\export_tflite_ssd_graph_lib.py -> build\\bdist.win-amd64\\egg\\object_detection\n",
      "copying build\\lib\\object_detection\\export_tflite_ssd_graph_lib_tf1_test.py -> build\\bdist.win-amd64\\egg\\object_detection\n",
      "creating build\\bdist.win-amd64\\egg\\object_detection\\inference\n",
      "copying build\\lib\\object_detection\\inference\\detection_inference.py -> build\\bdist.win-amd64\\egg\\object_detection\\inference\n",
      "copying build\\lib\\object_detection\\inference\\detection_inference_tf1_test.py -> build\\bdist.win-amd64\\egg\\object_detection\\inference\n",
      "copying build\\lib\\object_detection\\inference\\infer_detections.py -> build\\bdist.win-amd64\\egg\\object_detection\\inference\n",
      "copying build\\lib\\object_detection\\inference\\__init__.py -> build\\bdist.win-amd64\\egg\\object_detection\\inference\n",
      "copying build\\lib\\object_detection\\inputs.py -> build\\bdist.win-amd64\\egg\\object_detection\n",
      "copying build\\lib\\object_detection\\inputs_test.py -> build\\bdist.win-amd64\\egg\\object_detection\n",
      "creating build\\bdist.win-amd64\\egg\\object_detection\\legacy\n",
      "copying build\\lib\\object_detection\\legacy\\eval.py -> build\\bdist.win-amd64\\egg\\object_detection\\legacy\n",
      "copying build\\lib\\object_detection\\legacy\\evaluator.py -> build\\bdist.win-amd64\\egg\\object_detection\\legacy\n",
      "copying build\\lib\\object_detection\\legacy\\train.py -> build\\bdist.win-amd64\\egg\\object_detection\\legacy\n",
      "copying build\\lib\\object_detection\\legacy\\trainer.py -> build\\bdist.win-amd64\\egg\\object_detection\\legacy\n",
      "copying build\\lib\\object_detection\\legacy\\trainer_tf1_test.py -> build\\bdist.win-amd64\\egg\\object_detection\\legacy\n",
      "copying build\\lib\\object_detection\\legacy\\__init__.py -> build\\bdist.win-amd64\\egg\\object_detection\\legacy\n",
      "creating build\\bdist.win-amd64\\egg\\object_detection\\matchers\n",
      "copying build\\lib\\object_detection\\matchers\\argmax_matcher.py -> build\\bdist.win-amd64\\egg\\object_detection\\matchers\n",
      "copying build\\lib\\object_detection\\matchers\\argmax_matcher_test.py -> build\\bdist.win-amd64\\egg\\object_detection\\matchers\n",
      "copying build\\lib\\object_detection\\matchers\\bipartite_matcher.py -> build\\bdist.win-amd64\\egg\\object_detection\\matchers\n",
      "copying build\\lib\\object_detection\\matchers\\bipartite_matcher_tf1_test.py -> build\\bdist.win-amd64\\egg\\object_detection\\matchers\n",
      "copying build\\lib\\object_detection\\matchers\\hungarian_matcher.py -> build\\bdist.win-amd64\\egg\\object_detection\\matchers\n",
      "copying build\\lib\\object_detection\\matchers\\hungarian_matcher_tf2_test.py -> build\\bdist.win-amd64\\egg\\object_detection\\matchers\n",
      "copying build\\lib\\object_detection\\matchers\\__init__.py -> build\\bdist.win-amd64\\egg\\object_detection\\matchers\n",
      "creating build\\bdist.win-amd64\\egg\\object_detection\\meta_architectures\n",
      "copying build\\lib\\object_detection\\meta_architectures\\center_net_meta_arch.py -> build\\bdist.win-amd64\\egg\\object_detection\\meta_architectures\n",
      "copying build\\lib\\object_detection\\meta_architectures\\center_net_meta_arch_tf2_test.py -> build\\bdist.win-amd64\\egg\\object_detection\\meta_architectures\n",
      "copying build\\lib\\object_detection\\meta_architectures\\context_rcnn_lib.py -> build\\bdist.win-amd64\\egg\\object_detection\\meta_architectures\n",
      "copying build\\lib\\object_detection\\meta_architectures\\context_rcnn_lib_tf1_test.py -> build\\bdist.win-amd64\\egg\\object_detection\\meta_architectures\n",
      "copying build\\lib\\object_detection\\meta_architectures\\context_rcnn_lib_tf2.py -> build\\bdist.win-amd64\\egg\\object_detection\\meta_architectures\n",
      "copying build\\lib\\object_detection\\meta_architectures\\context_rcnn_lib_tf2_test.py -> build\\bdist.win-amd64\\egg\\object_detection\\meta_architectures\n",
      "copying build\\lib\\object_detection\\meta_architectures\\context_rcnn_meta_arch.py -> build\\bdist.win-amd64\\egg\\object_detection\\meta_architectures\n",
      "copying build\\lib\\object_detection\\meta_architectures\\context_rcnn_meta_arch_test.py -> build\\bdist.win-amd64\\egg\\object_detection\\meta_architectures\n",
      "copying build\\lib\\object_detection\\meta_architectures\\deepmac_meta_arch.py -> build\\bdist.win-amd64\\egg\\object_detection\\meta_architectures\n",
      "copying build\\lib\\object_detection\\meta_architectures\\deepmac_meta_arch_test.py -> build\\bdist.win-amd64\\egg\\object_detection\\meta_architectures\n",
      "copying build\\lib\\object_detection\\meta_architectures\\faster_rcnn_meta_arch.py -> build\\bdist.win-amd64\\egg\\object_detection\\meta_architectures\n",
      "copying build\\lib\\object_detection\\meta_architectures\\faster_rcnn_meta_arch_test.py -> build\\bdist.win-amd64\\egg\\object_detection\\meta_architectures\n",
      "copying build\\lib\\object_detection\\meta_architectures\\faster_rcnn_meta_arch_test_lib.py -> build\\bdist.win-amd64\\egg\\object_detection\\meta_architectures\n",
      "copying build\\lib\\object_detection\\meta_architectures\\rfcn_meta_arch.py -> build\\bdist.win-amd64\\egg\\object_detection\\meta_architectures\n",
      "copying build\\lib\\object_detection\\meta_architectures\\rfcn_meta_arch_test.py -> build\\bdist.win-amd64\\egg\\object_detection\\meta_architectures\n",
      "copying build\\lib\\object_detection\\meta_architectures\\ssd_meta_arch.py -> build\\bdist.win-amd64\\egg\\object_detection\\meta_architectures\n",
      "copying build\\lib\\object_detection\\meta_architectures\\ssd_meta_arch_test.py -> build\\bdist.win-amd64\\egg\\object_detection\\meta_architectures\n",
      "copying build\\lib\\object_detection\\meta_architectures\\ssd_meta_arch_test_lib.py -> build\\bdist.win-amd64\\egg\\object_detection\\meta_architectures\n",
      "copying build\\lib\\object_detection\\meta_architectures\\__init__.py -> build\\bdist.win-amd64\\egg\\object_detection\\meta_architectures\n",
      "creating build\\bdist.win-amd64\\egg\\object_detection\\metrics\n",
      "copying build\\lib\\object_detection\\metrics\\calibration_evaluation.py -> build\\bdist.win-amd64\\egg\\object_detection\\metrics\n",
      "copying build\\lib\\object_detection\\metrics\\calibration_evaluation_tf1_test.py -> build\\bdist.win-amd64\\egg\\object_detection\\metrics\n",
      "copying build\\lib\\object_detection\\metrics\\calibration_metrics.py -> build\\bdist.win-amd64\\egg\\object_detection\\metrics\n",
      "copying build\\lib\\object_detection\\metrics\\calibration_metrics_tf1_test.py -> build\\bdist.win-amd64\\egg\\object_detection\\metrics\n",
      "copying build\\lib\\object_detection\\metrics\\coco_evaluation.py -> build\\bdist.win-amd64\\egg\\object_detection\\metrics\n",
      "copying build\\lib\\object_detection\\metrics\\coco_evaluation_test.py -> build\\bdist.win-amd64\\egg\\object_detection\\metrics\n",
      "copying build\\lib\\object_detection\\metrics\\coco_tools.py -> build\\bdist.win-amd64\\egg\\object_detection\\metrics\n",
      "copying build\\lib\\object_detection\\metrics\\coco_tools_test.py -> build\\bdist.win-amd64\\egg\\object_detection\\metrics\n",
      "copying build\\lib\\object_detection\\metrics\\io_utils.py -> build\\bdist.win-amd64\\egg\\object_detection\\metrics\n",
      "copying build\\lib\\object_detection\\metrics\\lvis_evaluation.py -> build\\bdist.win-amd64\\egg\\object_detection\\metrics\n",
      "copying build\\lib\\object_detection\\metrics\\lvis_evaluation_test.py -> build\\bdist.win-amd64\\egg\\object_detection\\metrics\n",
      "copying build\\lib\\object_detection\\metrics\\lvis_tools.py -> build\\bdist.win-amd64\\egg\\object_detection\\metrics\n",
      "copying build\\lib\\object_detection\\metrics\\lvis_tools_test.py -> build\\bdist.win-amd64\\egg\\object_detection\\metrics\n",
      "copying build\\lib\\object_detection\\metrics\\offline_eval_map_corloc.py -> build\\bdist.win-amd64\\egg\\object_detection\\metrics\n",
      "copying build\\lib\\object_detection\\metrics\\offline_eval_map_corloc_test.py -> build\\bdist.win-amd64\\egg\\object_detection\\metrics\n",
      "copying build\\lib\\object_detection\\metrics\\oid_challenge_evaluation.py -> build\\bdist.win-amd64\\egg\\object_detection\\metrics\n",
      "copying build\\lib\\object_detection\\metrics\\oid_challenge_evaluation_utils.py -> build\\bdist.win-amd64\\egg\\object_detection\\metrics\n",
      "copying build\\lib\\object_detection\\metrics\\oid_challenge_evaluation_utils_test.py -> build\\bdist.win-amd64\\egg\\object_detection\\metrics\n",
      "copying build\\lib\\object_detection\\metrics\\oid_vrd_challenge_evaluation.py -> build\\bdist.win-amd64\\egg\\object_detection\\metrics\n",
      "copying build\\lib\\object_detection\\metrics\\oid_vrd_challenge_evaluation_utils.py -> build\\bdist.win-amd64\\egg\\object_detection\\metrics\n",
      "copying build\\lib\\object_detection\\metrics\\oid_vrd_challenge_evaluation_utils_test.py -> build\\bdist.win-amd64\\egg\\object_detection\\metrics\n",
      "copying build\\lib\\object_detection\\metrics\\tf_example_parser.py -> build\\bdist.win-amd64\\egg\\object_detection\\metrics\n",
      "copying build\\lib\\object_detection\\metrics\\tf_example_parser_test.py -> build\\bdist.win-amd64\\egg\\object_detection\\metrics\n",
      "copying build\\lib\\object_detection\\metrics\\__init__.py -> build\\bdist.win-amd64\\egg\\object_detection\\metrics\n",
      "creating build\\bdist.win-amd64\\egg\\object_detection\\models\n",
      "copying build\\lib\\object_detection\\models\\bidirectional_feature_pyramid_generators.py -> build\\bdist.win-amd64\\egg\\object_detection\\models\n",
      "copying build\\lib\\object_detection\\models\\bidirectional_feature_pyramid_generators_tf2_test.py -> build\\bdist.win-amd64\\egg\\object_detection\\models\n",
      "copying build\\lib\\object_detection\\models\\center_net_hourglass_feature_extractor.py -> build\\bdist.win-amd64\\egg\\object_detection\\models\n",
      "copying build\\lib\\object_detection\\models\\center_net_hourglass_feature_extractor_tf2_test.py -> build\\bdist.win-amd64\\egg\\object_detection\\models\n",
      "copying build\\lib\\object_detection\\models\\center_net_mobilenet_v2_feature_extractor.py -> build\\bdist.win-amd64\\egg\\object_detection\\models\n",
      "copying build\\lib\\object_detection\\models\\center_net_mobilenet_v2_feature_extractor_tf2_test.py -> build\\bdist.win-amd64\\egg\\object_detection\\models\n",
      "copying build\\lib\\object_detection\\models\\center_net_mobilenet_v2_fpn_feature_extractor.py -> build\\bdist.win-amd64\\egg\\object_detection\\models\n",
      "copying build\\lib\\object_detection\\models\\center_net_mobilenet_v2_fpn_feature_extractor_tf2_test.py -> build\\bdist.win-amd64\\egg\\object_detection\\models\n",
      "copying build\\lib\\object_detection\\models\\center_net_resnet_feature_extractor.py -> build\\bdist.win-amd64\\egg\\object_detection\\models\n",
      "copying build\\lib\\object_detection\\models\\center_net_resnet_feature_extractor_tf2_test.py -> build\\bdist.win-amd64\\egg\\object_detection\\models\n",
      "copying build\\lib\\object_detection\\models\\center_net_resnet_v1_fpn_feature_extractor.py -> build\\bdist.win-amd64\\egg\\object_detection\\models\n",
      "copying build\\lib\\object_detection\\models\\center_net_resnet_v1_fpn_feature_extractor_tf2_test.py -> build\\bdist.win-amd64\\egg\\object_detection\\models\n",
      "copying build\\lib\\object_detection\\models\\embedded_ssd_mobilenet_v1_feature_extractor.py -> build\\bdist.win-amd64\\egg\\object_detection\\models\n",
      "copying build\\lib\\object_detection\\models\\embedded_ssd_mobilenet_v1_feature_extractor_tf1_test.py -> build\\bdist.win-amd64\\egg\\object_detection\\models\n",
      "copying build\\lib\\object_detection\\models\\faster_rcnn_inception_resnet_v2_feature_extractor.py -> build\\bdist.win-amd64\\egg\\object_detection\\models\n",
      "copying build\\lib\\object_detection\\models\\faster_rcnn_inception_resnet_v2_feature_extractor_tf1_test.py -> build\\bdist.win-amd64\\egg\\object_detection\\models\n",
      "copying build\\lib\\object_detection\\models\\faster_rcnn_inception_resnet_v2_keras_feature_extractor.py -> build\\bdist.win-amd64\\egg\\object_detection\\models\n",
      "copying build\\lib\\object_detection\\models\\faster_rcnn_inception_resnet_v2_keras_feature_extractor_tf2_test.py -> build\\bdist.win-amd64\\egg\\object_detection\\models\n",
      "copying build\\lib\\object_detection\\models\\faster_rcnn_inception_v2_feature_extractor.py -> build\\bdist.win-amd64\\egg\\object_detection\\models\n",
      "copying build\\lib\\object_detection\\models\\faster_rcnn_inception_v2_feature_extractor_tf1_test.py -> build\\bdist.win-amd64\\egg\\object_detection\\models\n",
      "copying build\\lib\\object_detection\\models\\faster_rcnn_mobilenet_v1_feature_extractor.py -> build\\bdist.win-amd64\\egg\\object_detection\\models\n",
      "copying build\\lib\\object_detection\\models\\faster_rcnn_mobilenet_v1_feature_extractor_tf1_test.py -> build\\bdist.win-amd64\\egg\\object_detection\\models\n",
      "copying build\\lib\\object_detection\\models\\faster_rcnn_nas_feature_extractor.py -> build\\bdist.win-amd64\\egg\\object_detection\\models\n",
      "copying build\\lib\\object_detection\\models\\faster_rcnn_nas_feature_extractor_tf1_test.py -> build\\bdist.win-amd64\\egg\\object_detection\\models\n",
      "copying build\\lib\\object_detection\\models\\faster_rcnn_pnas_feature_extractor.py -> build\\bdist.win-amd64\\egg\\object_detection\\models\n",
      "copying build\\lib\\object_detection\\models\\faster_rcnn_pnas_feature_extractor_tf1_test.py -> build\\bdist.win-amd64\\egg\\object_detection\\models\n",
      "copying build\\lib\\object_detection\\models\\faster_rcnn_resnet_keras_feature_extractor.py -> build\\bdist.win-amd64\\egg\\object_detection\\models\n",
      "copying build\\lib\\object_detection\\models\\faster_rcnn_resnet_keras_feature_extractor_tf2_test.py -> build\\bdist.win-amd64\\egg\\object_detection\\models\n",
      "copying build\\lib\\object_detection\\models\\faster_rcnn_resnet_v1_feature_extractor.py -> build\\bdist.win-amd64\\egg\\object_detection\\models\n",
      "copying build\\lib\\object_detection\\models\\faster_rcnn_resnet_v1_feature_extractor_tf1_test.py -> build\\bdist.win-amd64\\egg\\object_detection\\models\n",
      "copying build\\lib\\object_detection\\models\\faster_rcnn_resnet_v1_fpn_keras_feature_extractor.py -> build\\bdist.win-amd64\\egg\\object_detection\\models\n",
      "copying build\\lib\\object_detection\\models\\faster_rcnn_resnet_v1_fpn_keras_feature_extractor_tf2_test.py -> build\\bdist.win-amd64\\egg\\object_detection\\models\n",
      "copying build\\lib\\object_detection\\models\\feature_map_generators.py -> build\\bdist.win-amd64\\egg\\object_detection\\models\n",
      "copying build\\lib\\object_detection\\models\\feature_map_generators_test.py -> build\\bdist.win-amd64\\egg\\object_detection\\models\n",
      "creating build\\bdist.win-amd64\\egg\\object_detection\\models\\keras_models\n",
      "copying build\\lib\\object_detection\\models\\keras_models\\convert_keras_models.py -> build\\bdist.win-amd64\\egg\\object_detection\\models\\keras_models\n",
      "copying build\\lib\\object_detection\\models\\keras_models\\hourglass_network.py -> build\\bdist.win-amd64\\egg\\object_detection\\models\\keras_models\n",
      "copying build\\lib\\object_detection\\models\\keras_models\\hourglass_network_tf2_test.py -> build\\bdist.win-amd64\\egg\\object_detection\\models\\keras_models\n",
      "copying build\\lib\\object_detection\\models\\keras_models\\inception_resnet_v2.py -> build\\bdist.win-amd64\\egg\\object_detection\\models\\keras_models\n",
      "copying build\\lib\\object_detection\\models\\keras_models\\inception_resnet_v2_tf2_test.py -> build\\bdist.win-amd64\\egg\\object_detection\\models\\keras_models\n",
      "copying build\\lib\\object_detection\\models\\keras_models\\mobilenet_v1.py -> build\\bdist.win-amd64\\egg\\object_detection\\models\\keras_models\n",
      "copying build\\lib\\object_detection\\models\\keras_models\\mobilenet_v1_tf2_test.py -> build\\bdist.win-amd64\\egg\\object_detection\\models\\keras_models\n",
      "copying build\\lib\\object_detection\\models\\keras_models\\mobilenet_v2.py -> build\\bdist.win-amd64\\egg\\object_detection\\models\\keras_models\n",
      "copying build\\lib\\object_detection\\models\\keras_models\\mobilenet_v2_tf2_test.py -> build\\bdist.win-amd64\\egg\\object_detection\\models\\keras_models\n",
      "copying build\\lib\\object_detection\\models\\keras_models\\model_utils.py -> build\\bdist.win-amd64\\egg\\object_detection\\models\\keras_models\n",
      "copying build\\lib\\object_detection\\models\\keras_models\\nonlocal_block.py -> build\\bdist.win-amd64\\egg\\object_detection\\models\\keras_models\n",
      "copying build\\lib\\object_detection\\models\\keras_models\\nonlocal_block_tf2_test.py -> build\\bdist.win-amd64\\egg\\object_detection\\models\\keras_models\n",
      "copying build\\lib\\object_detection\\models\\keras_models\\resnet_v1.py -> build\\bdist.win-amd64\\egg\\object_detection\\models\\keras_models\n",
      "copying build\\lib\\object_detection\\models\\keras_models\\resnet_v1_tf2_test.py -> build\\bdist.win-amd64\\egg\\object_detection\\models\\keras_models\n",
      "copying build\\lib\\object_detection\\models\\keras_models\\test_utils.py -> build\\bdist.win-amd64\\egg\\object_detection\\models\\keras_models\n",
      "copying build\\lib\\object_detection\\models\\keras_models\\__init__.py -> build\\bdist.win-amd64\\egg\\object_detection\\models\\keras_models\n",
      "copying build\\lib\\object_detection\\models\\ssd_efficientnet_bifpn_feature_extractor.py -> build\\bdist.win-amd64\\egg\\object_detection\\models\n",
      "copying build\\lib\\object_detection\\models\\ssd_efficientnet_bifpn_feature_extractor_tf2_test.py -> build\\bdist.win-amd64\\egg\\object_detection\\models\n",
      "copying build\\lib\\object_detection\\models\\ssd_feature_extractor_test.py -> build\\bdist.win-amd64\\egg\\object_detection\\models\n",
      "copying build\\lib\\object_detection\\models\\ssd_inception_v2_feature_extractor.py -> build\\bdist.win-amd64\\egg\\object_detection\\models\n",
      "copying build\\lib\\object_detection\\models\\ssd_inception_v2_feature_extractor_tf1_test.py -> build\\bdist.win-amd64\\egg\\object_detection\\models\n",
      "copying build\\lib\\object_detection\\models\\ssd_inception_v3_feature_extractor.py -> build\\bdist.win-amd64\\egg\\object_detection\\models\n",
      "copying build\\lib\\object_detection\\models\\ssd_inception_v3_feature_extractor_tf1_test.py -> build\\bdist.win-amd64\\egg\\object_detection\\models\n",
      "copying build\\lib\\object_detection\\models\\ssd_mobiledet_feature_extractor.py -> build\\bdist.win-amd64\\egg\\object_detection\\models\n",
      "copying build\\lib\\object_detection\\models\\ssd_mobiledet_feature_extractor_tf1_test.py -> build\\bdist.win-amd64\\egg\\object_detection\\models\n",
      "copying build\\lib\\object_detection\\models\\ssd_mobilenet_edgetpu_feature_extractor.py -> build\\bdist.win-amd64\\egg\\object_detection\\models\n",
      "copying build\\lib\\object_detection\\models\\ssd_mobilenet_edgetpu_feature_extractor_testbase.py -> build\\bdist.win-amd64\\egg\\object_detection\\models\n",
      "copying build\\lib\\object_detection\\models\\ssd_mobilenet_edgetpu_feature_extractor_tf1_test.py -> build\\bdist.win-amd64\\egg\\object_detection\\models\n",
      "copying build\\lib\\object_detection\\models\\ssd_mobilenet_v1_feature_extractor.py -> build\\bdist.win-amd64\\egg\\object_detection\\models\n",
      "copying build\\lib\\object_detection\\models\\ssd_mobilenet_v1_feature_extractor_tf1_test.py -> build\\bdist.win-amd64\\egg\\object_detection\\models\n",
      "copying build\\lib\\object_detection\\models\\ssd_mobilenet_v1_feature_extractor_tf2_test.py -> build\\bdist.win-amd64\\egg\\object_detection\\models\n",
      "copying build\\lib\\object_detection\\models\\ssd_mobilenet_v1_fpn_feature_extractor.py -> build\\bdist.win-amd64\\egg\\object_detection\\models\n",
      "copying build\\lib\\object_detection\\models\\ssd_mobilenet_v1_fpn_feature_extractor_tf1_test.py -> build\\bdist.win-amd64\\egg\\object_detection\\models\n",
      "copying build\\lib\\object_detection\\models\\ssd_mobilenet_v1_fpn_feature_extractor_tf2_test.py -> build\\bdist.win-amd64\\egg\\object_detection\\models\n",
      "copying build\\lib\\object_detection\\models\\ssd_mobilenet_v1_fpn_keras_feature_extractor.py -> build\\bdist.win-amd64\\egg\\object_detection\\models\n",
      "copying build\\lib\\object_detection\\models\\ssd_mobilenet_v1_keras_feature_extractor.py -> build\\bdist.win-amd64\\egg\\object_detection\\models\n",
      "copying build\\lib\\object_detection\\models\\ssd_mobilenet_v1_ppn_feature_extractor.py -> build\\bdist.win-amd64\\egg\\object_detection\\models\n",
      "copying build\\lib\\object_detection\\models\\ssd_mobilenet_v1_ppn_feature_extractor_tf1_test.py -> build\\bdist.win-amd64\\egg\\object_detection\\models\n",
      "copying build\\lib\\object_detection\\models\\ssd_mobilenet_v2_feature_extractor.py -> build\\bdist.win-amd64\\egg\\object_detection\\models\n",
      "copying build\\lib\\object_detection\\models\\ssd_mobilenet_v2_feature_extractor_tf1_test.py -> build\\bdist.win-amd64\\egg\\object_detection\\models\n",
      "copying build\\lib\\object_detection\\models\\ssd_mobilenet_v2_feature_extractor_tf2_test.py -> build\\bdist.win-amd64\\egg\\object_detection\\models\n",
      "copying build\\lib\\object_detection\\models\\ssd_mobilenet_v2_fpn_feature_extractor.py -> build\\bdist.win-amd64\\egg\\object_detection\\models\n",
      "copying build\\lib\\object_detection\\models\\ssd_mobilenet_v2_fpn_feature_extractor_tf1_test.py -> build\\bdist.win-amd64\\egg\\object_detection\\models\n",
      "copying build\\lib\\object_detection\\models\\ssd_mobilenet_v2_fpn_feature_extractor_tf2_test.py -> build\\bdist.win-amd64\\egg\\object_detection\\models\n",
      "copying build\\lib\\object_detection\\models\\ssd_mobilenet_v2_fpn_keras_feature_extractor.py -> build\\bdist.win-amd64\\egg\\object_detection\\models\n",
      "copying build\\lib\\object_detection\\models\\ssd_mobilenet_v2_keras_feature_extractor.py -> build\\bdist.win-amd64\\egg\\object_detection\\models\n",
      "copying build\\lib\\object_detection\\models\\ssd_mobilenet_v2_mnasfpn_feature_extractor.py -> build\\bdist.win-amd64\\egg\\object_detection\\models\n",
      "copying build\\lib\\object_detection\\models\\ssd_mobilenet_v2_mnasfpn_feature_extractor_tf1_test.py -> build\\bdist.win-amd64\\egg\\object_detection\\models\n",
      "copying build\\lib\\object_detection\\models\\ssd_mobilenet_v3_feature_extractor.py -> build\\bdist.win-amd64\\egg\\object_detection\\models\n",
      "copying build\\lib\\object_detection\\models\\ssd_mobilenet_v3_feature_extractor_testbase.py -> build\\bdist.win-amd64\\egg\\object_detection\\models\n",
      "copying build\\lib\\object_detection\\models\\ssd_mobilenet_v3_feature_extractor_tf1_test.py -> build\\bdist.win-amd64\\egg\\object_detection\\models\n",
      "copying build\\lib\\object_detection\\models\\ssd_pnasnet_feature_extractor.py -> build\\bdist.win-amd64\\egg\\object_detection\\models\n",
      "copying build\\lib\\object_detection\\models\\ssd_pnasnet_feature_extractor_tf1_test.py -> build\\bdist.win-amd64\\egg\\object_detection\\models\n",
      "copying build\\lib\\object_detection\\models\\ssd_resnet_v1_fpn_feature_extractor.py -> build\\bdist.win-amd64\\egg\\object_detection\\models\n",
      "copying build\\lib\\object_detection\\models\\ssd_resnet_v1_fpn_feature_extractor_testbase.py -> build\\bdist.win-amd64\\egg\\object_detection\\models\n",
      "copying build\\lib\\object_detection\\models\\ssd_resnet_v1_fpn_feature_extractor_tf1_test.py -> build\\bdist.win-amd64\\egg\\object_detection\\models\n",
      "copying build\\lib\\object_detection\\models\\ssd_resnet_v1_fpn_feature_extractor_tf2_test.py -> build\\bdist.win-amd64\\egg\\object_detection\\models\n",
      "copying build\\lib\\object_detection\\models\\ssd_resnet_v1_fpn_keras_feature_extractor.py -> build\\bdist.win-amd64\\egg\\object_detection\\models\n",
      "copying build\\lib\\object_detection\\models\\ssd_resnet_v1_ppn_feature_extractor.py -> build\\bdist.win-amd64\\egg\\object_detection\\models\n",
      "copying build\\lib\\object_detection\\models\\ssd_resnet_v1_ppn_feature_extractor_testbase.py -> build\\bdist.win-amd64\\egg\\object_detection\\models\n",
      "copying build\\lib\\object_detection\\models\\ssd_resnet_v1_ppn_feature_extractor_tf1_test.py -> build\\bdist.win-amd64\\egg\\object_detection\\models\n",
      "copying build\\lib\\object_detection\\models\\ssd_spaghettinet_feature_extractor.py -> build\\bdist.win-amd64\\egg\\object_detection\\models\n",
      "copying build\\lib\\object_detection\\models\\ssd_spaghettinet_feature_extractor_tf1_test.py -> build\\bdist.win-amd64\\egg\\object_detection\\models\n",
      "copying build\\lib\\object_detection\\models\\__init__.py -> build\\bdist.win-amd64\\egg\\object_detection\\models\n",
      "copying build\\lib\\object_detection\\model_hparams.py -> build\\bdist.win-amd64\\egg\\object_detection\n",
      "copying build\\lib\\object_detection\\model_lib.py -> build\\bdist.win-amd64\\egg\\object_detection\n",
      "copying build\\lib\\object_detection\\model_lib_tf1_test.py -> build\\bdist.win-amd64\\egg\\object_detection\n",
      "copying build\\lib\\object_detection\\model_lib_tf2_test.py -> build\\bdist.win-amd64\\egg\\object_detection\n",
      "copying build\\lib\\object_detection\\model_lib_v2.py -> build\\bdist.win-amd64\\egg\\object_detection\n",
      "copying build\\lib\\object_detection\\model_main.py -> build\\bdist.win-amd64\\egg\\object_detection\n",
      "copying build\\lib\\object_detection\\model_main_tf2.py -> build\\bdist.win-amd64\\egg\\object_detection\n",
      "copying build\\lib\\object_detection\\model_tpu_main.py -> build\\bdist.win-amd64\\egg\\object_detection\n",
      "creating build\\bdist.win-amd64\\egg\\object_detection\\predictors\n",
      "copying build\\lib\\object_detection\\predictors\\convolutional_box_predictor.py -> build\\bdist.win-amd64\\egg\\object_detection\\predictors\n",
      "copying build\\lib\\object_detection\\predictors\\convolutional_box_predictor_tf1_test.py -> build\\bdist.win-amd64\\egg\\object_detection\\predictors\n",
      "copying build\\lib\\object_detection\\predictors\\convolutional_keras_box_predictor.py -> build\\bdist.win-amd64\\egg\\object_detection\\predictors\n",
      "copying build\\lib\\object_detection\\predictors\\convolutional_keras_box_predictor_tf2_test.py -> build\\bdist.win-amd64\\egg\\object_detection\\predictors\n",
      "creating build\\bdist.win-amd64\\egg\\object_detection\\predictors\\heads\n",
      "copying build\\lib\\object_detection\\predictors\\heads\\box_head.py -> build\\bdist.win-amd64\\egg\\object_detection\\predictors\\heads\n",
      "copying build\\lib\\object_detection\\predictors\\heads\\box_head_tf1_test.py -> build\\bdist.win-amd64\\egg\\object_detection\\predictors\\heads\n",
      "copying build\\lib\\object_detection\\predictors\\heads\\class_head.py -> build\\bdist.win-amd64\\egg\\object_detection\\predictors\\heads\n",
      "copying build\\lib\\object_detection\\predictors\\heads\\class_head_tf1_test.py -> build\\bdist.win-amd64\\egg\\object_detection\\predictors\\heads\n",
      "copying build\\lib\\object_detection\\predictors\\heads\\head.py -> build\\bdist.win-amd64\\egg\\object_detection\\predictors\\heads\n",
      "copying build\\lib\\object_detection\\predictors\\heads\\keras_box_head.py -> build\\bdist.win-amd64\\egg\\object_detection\\predictors\\heads\n",
      "copying build\\lib\\object_detection\\predictors\\heads\\keras_box_head_tf2_test.py -> build\\bdist.win-amd64\\egg\\object_detection\\predictors\\heads\n",
      "copying build\\lib\\object_detection\\predictors\\heads\\keras_class_head.py -> build\\bdist.win-amd64\\egg\\object_detection\\predictors\\heads\n",
      "copying build\\lib\\object_detection\\predictors\\heads\\keras_class_head_tf2_test.py -> build\\bdist.win-amd64\\egg\\object_detection\\predictors\\heads\n",
      "copying build\\lib\\object_detection\\predictors\\heads\\keras_mask_head.py -> build\\bdist.win-amd64\\egg\\object_detection\\predictors\\heads\n",
      "copying build\\lib\\object_detection\\predictors\\heads\\keras_mask_head_tf2_test.py -> build\\bdist.win-amd64\\egg\\object_detection\\predictors\\heads\n",
      "copying build\\lib\\object_detection\\predictors\\heads\\keypoint_head.py -> build\\bdist.win-amd64\\egg\\object_detection\\predictors\\heads\n",
      "copying build\\lib\\object_detection\\predictors\\heads\\keypoint_head_tf1_test.py -> build\\bdist.win-amd64\\egg\\object_detection\\predictors\\heads\n",
      "copying build\\lib\\object_detection\\predictors\\heads\\mask_head.py -> build\\bdist.win-amd64\\egg\\object_detection\\predictors\\heads\n",
      "copying build\\lib\\object_detection\\predictors\\heads\\mask_head_tf1_test.py -> build\\bdist.win-amd64\\egg\\object_detection\\predictors\\heads\n",
      "copying build\\lib\\object_detection\\predictors\\heads\\__init__.py -> build\\bdist.win-amd64\\egg\\object_detection\\predictors\\heads\n",
      "copying build\\lib\\object_detection\\predictors\\mask_rcnn_box_predictor.py -> build\\bdist.win-amd64\\egg\\object_detection\\predictors\n",
      "copying build\\lib\\object_detection\\predictors\\mask_rcnn_box_predictor_tf1_test.py -> build\\bdist.win-amd64\\egg\\object_detection\\predictors\n",
      "copying build\\lib\\object_detection\\predictors\\mask_rcnn_keras_box_predictor.py -> build\\bdist.win-amd64\\egg\\object_detection\\predictors\n",
      "copying build\\lib\\object_detection\\predictors\\mask_rcnn_keras_box_predictor_tf2_test.py -> build\\bdist.win-amd64\\egg\\object_detection\\predictors\n",
      "copying build\\lib\\object_detection\\predictors\\rfcn_box_predictor.py -> build\\bdist.win-amd64\\egg\\object_detection\\predictors\n",
      "copying build\\lib\\object_detection\\predictors\\rfcn_box_predictor_tf1_test.py -> build\\bdist.win-amd64\\egg\\object_detection\\predictors\n",
      "copying build\\lib\\object_detection\\predictors\\rfcn_keras_box_predictor.py -> build\\bdist.win-amd64\\egg\\object_detection\\predictors\n",
      "copying build\\lib\\object_detection\\predictors\\rfcn_keras_box_predictor_tf2_test.py -> build\\bdist.win-amd64\\egg\\object_detection\\predictors\n",
      "copying build\\lib\\object_detection\\predictors\\__init__.py -> build\\bdist.win-amd64\\egg\\object_detection\\predictors\n",
      "creating build\\bdist.win-amd64\\egg\\object_detection\\protos\n",
      "copying build\\lib\\object_detection\\protos\\anchor_generator_pb2.py -> build\\bdist.win-amd64\\egg\\object_detection\\protos\n",
      "copying build\\lib\\object_detection\\protos\\argmax_matcher_pb2.py -> build\\bdist.win-amd64\\egg\\object_detection\\protos\n",
      "copying build\\lib\\object_detection\\protos\\bipartite_matcher_pb2.py -> build\\bdist.win-amd64\\egg\\object_detection\\protos\n",
      "copying build\\lib\\object_detection\\protos\\box_coder_pb2.py -> build\\bdist.win-amd64\\egg\\object_detection\\protos\n",
      "copying build\\lib\\object_detection\\protos\\box_predictor_pb2.py -> build\\bdist.win-amd64\\egg\\object_detection\\protos\n",
      "copying build\\lib\\object_detection\\protos\\calibration_pb2.py -> build\\bdist.win-amd64\\egg\\object_detection\\protos\n",
      "copying build\\lib\\object_detection\\protos\\center_net_pb2.py -> build\\bdist.win-amd64\\egg\\object_detection\\protos\n",
      "copying build\\lib\\object_detection\\protos\\eval_pb2.py -> build\\bdist.win-amd64\\egg\\object_detection\\protos\n",
      "copying build\\lib\\object_detection\\protos\\faster_rcnn_box_coder_pb2.py -> build\\bdist.win-amd64\\egg\\object_detection\\protos\n",
      "copying build\\lib\\object_detection\\protos\\faster_rcnn_pb2.py -> build\\bdist.win-amd64\\egg\\object_detection\\protos\n",
      "copying build\\lib\\object_detection\\protos\\flexible_grid_anchor_generator_pb2.py -> build\\bdist.win-amd64\\egg\\object_detection\\protos\n",
      "copying build\\lib\\object_detection\\protos\\fpn_pb2.py -> build\\bdist.win-amd64\\egg\\object_detection\\protos\n",
      "copying build\\lib\\object_detection\\protos\\graph_rewriter_pb2.py -> build\\bdist.win-amd64\\egg\\object_detection\\protos\n",
      "copying build\\lib\\object_detection\\protos\\grid_anchor_generator_pb2.py -> build\\bdist.win-amd64\\egg\\object_detection\\protos\n",
      "copying build\\lib\\object_detection\\protos\\hyperparams_pb2.py -> build\\bdist.win-amd64\\egg\\object_detection\\protos\n",
      "copying build\\lib\\object_detection\\protos\\image_resizer_pb2.py -> build\\bdist.win-amd64\\egg\\object_detection\\protos\n",
      "copying build\\lib\\object_detection\\protos\\input_reader_pb2.py -> build\\bdist.win-amd64\\egg\\object_detection\\protos\n",
      "copying build\\lib\\object_detection\\protos\\keypoint_box_coder_pb2.py -> build\\bdist.win-amd64\\egg\\object_detection\\protos\n",
      "copying build\\lib\\object_detection\\protos\\losses_pb2.py -> build\\bdist.win-amd64\\egg\\object_detection\\protos\n",
      "copying build\\lib\\object_detection\\protos\\matcher_pb2.py -> build\\bdist.win-amd64\\egg\\object_detection\\protos\n",
      "copying build\\lib\\object_detection\\protos\\mean_stddev_box_coder_pb2.py -> build\\bdist.win-amd64\\egg\\object_detection\\protos\n",
      "copying build\\lib\\object_detection\\protos\\model_pb2.py -> build\\bdist.win-amd64\\egg\\object_detection\\protos\n",
      "copying build\\lib\\object_detection\\protos\\multiscale_anchor_generator_pb2.py -> build\\bdist.win-amd64\\egg\\object_detection\\protos\n",
      "copying build\\lib\\object_detection\\protos\\optimizer_pb2.py -> build\\bdist.win-amd64\\egg\\object_detection\\protos\n",
      "copying build\\lib\\object_detection\\protos\\pipeline_pb2.py -> build\\bdist.win-amd64\\egg\\object_detection\\protos\n",
      "copying build\\lib\\object_detection\\protos\\post_processing_pb2.py -> build\\bdist.win-amd64\\egg\\object_detection\\protos\n",
      "copying build\\lib\\object_detection\\protos\\preprocessor_pb2.py -> build\\bdist.win-amd64\\egg\\object_detection\\protos\n",
      "copying build\\lib\\object_detection\\protos\\region_similarity_calculator_pb2.py -> build\\bdist.win-amd64\\egg\\object_detection\\protos\n",
      "copying build\\lib\\object_detection\\protos\\square_box_coder_pb2.py -> build\\bdist.win-amd64\\egg\\object_detection\\protos\n",
      "copying build\\lib\\object_detection\\protos\\ssd_anchor_generator_pb2.py -> build\\bdist.win-amd64\\egg\\object_detection\\protos\n",
      "copying build\\lib\\object_detection\\protos\\ssd_pb2.py -> build\\bdist.win-amd64\\egg\\object_detection\\protos\n",
      "copying build\\lib\\object_detection\\protos\\string_int_label_map_pb2.py -> build\\bdist.win-amd64\\egg\\object_detection\\protos\n",
      "copying build\\lib\\object_detection\\protos\\target_assigner_pb2.py -> build\\bdist.win-amd64\\egg\\object_detection\\protos\n",
      "copying build\\lib\\object_detection\\protos\\train_pb2.py -> build\\bdist.win-amd64\\egg\\object_detection\\protos\n",
      "copying build\\lib\\object_detection\\protos\\__init__.py -> build\\bdist.win-amd64\\egg\\object_detection\\protos\n",
      "creating build\\bdist.win-amd64\\egg\\object_detection\\tpu_exporters\n",
      "copying build\\lib\\object_detection\\tpu_exporters\\export_saved_model_tpu.py -> build\\bdist.win-amd64\\egg\\object_detection\\tpu_exporters\n",
      "copying build\\lib\\object_detection\\tpu_exporters\\export_saved_model_tpu_lib.py -> build\\bdist.win-amd64\\egg\\object_detection\\tpu_exporters\n",
      "copying build\\lib\\object_detection\\tpu_exporters\\export_saved_model_tpu_lib_tf1_test.py -> build\\bdist.win-amd64\\egg\\object_detection\\tpu_exporters\n",
      "copying build\\lib\\object_detection\\tpu_exporters\\faster_rcnn.py -> build\\bdist.win-amd64\\egg\\object_detection\\tpu_exporters\n",
      "copying build\\lib\\object_detection\\tpu_exporters\\ssd.py -> build\\bdist.win-amd64\\egg\\object_detection\\tpu_exporters\n",
      "creating build\\bdist.win-amd64\\egg\\object_detection\\tpu_exporters\\testdata\n",
      "copying build\\lib\\object_detection\\tpu_exporters\\testdata\\__init__.py -> build\\bdist.win-amd64\\egg\\object_detection\\tpu_exporters\\testdata\n",
      "copying build\\lib\\object_detection\\tpu_exporters\\utils.py -> build\\bdist.win-amd64\\egg\\object_detection\\tpu_exporters\n",
      "copying build\\lib\\object_detection\\tpu_exporters\\utils_test.py -> build\\bdist.win-amd64\\egg\\object_detection\\tpu_exporters\n",
      "copying build\\lib\\object_detection\\tpu_exporters\\__init__.py -> build\\bdist.win-amd64\\egg\\object_detection\\tpu_exporters\n",
      "creating build\\bdist.win-amd64\\egg\\object_detection\\utils\n",
      "copying build\\lib\\object_detection\\utils\\autoaugment_utils.py -> build\\bdist.win-amd64\\egg\\object_detection\\utils\n",
      "copying build\\lib\\object_detection\\utils\\bifpn_utils.py -> build\\bdist.win-amd64\\egg\\object_detection\\utils\n",
      "copying build\\lib\\object_detection\\utils\\category_util.py -> build\\bdist.win-amd64\\egg\\object_detection\\utils\n",
      "copying build\\lib\\object_detection\\utils\\category_util_test.py -> build\\bdist.win-amd64\\egg\\object_detection\\utils\n",
      "copying build\\lib\\object_detection\\utils\\colab_utils.py -> build\\bdist.win-amd64\\egg\\object_detection\\utils\n",
      "copying build\\lib\\object_detection\\utils\\config_util.py -> build\\bdist.win-amd64\\egg\\object_detection\\utils\n",
      "copying build\\lib\\object_detection\\utils\\config_util_test.py -> build\\bdist.win-amd64\\egg\\object_detection\\utils\n",
      "copying build\\lib\\object_detection\\utils\\context_manager.py -> build\\bdist.win-amd64\\egg\\object_detection\\utils\n",
      "copying build\\lib\\object_detection\\utils\\context_manager_test.py -> build\\bdist.win-amd64\\egg\\object_detection\\utils\n",
      "copying build\\lib\\object_detection\\utils\\dataset_util.py -> build\\bdist.win-amd64\\egg\\object_detection\\utils\n",
      "copying build\\lib\\object_detection\\utils\\dataset_util_test.py -> build\\bdist.win-amd64\\egg\\object_detection\\utils\n",
      "copying build\\lib\\object_detection\\utils\\json_utils.py -> build\\bdist.win-amd64\\egg\\object_detection\\utils\n",
      "copying build\\lib\\object_detection\\utils\\json_utils_test.py -> build\\bdist.win-amd64\\egg\\object_detection\\utils\n",
      "copying build\\lib\\object_detection\\utils\\label_map_util.py -> build\\bdist.win-amd64\\egg\\object_detection\\utils\n",
      "copying build\\lib\\object_detection\\utils\\label_map_util_test.py -> build\\bdist.win-amd64\\egg\\object_detection\\utils\n",
      "copying build\\lib\\object_detection\\utils\\learning_schedules.py -> build\\bdist.win-amd64\\egg\\object_detection\\utils\n",
      "copying build\\lib\\object_detection\\utils\\learning_schedules_test.py -> build\\bdist.win-amd64\\egg\\object_detection\\utils\n",
      "copying build\\lib\\object_detection\\utils\\metrics.py -> build\\bdist.win-amd64\\egg\\object_detection\\utils\n",
      "copying build\\lib\\object_detection\\utils\\metrics_test.py -> build\\bdist.win-amd64\\egg\\object_detection\\utils\n",
      "copying build\\lib\\object_detection\\utils\\model_util.py -> build\\bdist.win-amd64\\egg\\object_detection\\utils\n",
      "copying build\\lib\\object_detection\\utils\\model_util_tf2_test.py -> build\\bdist.win-amd64\\egg\\object_detection\\utils\n",
      "copying build\\lib\\object_detection\\utils\\np_box_list.py -> build\\bdist.win-amd64\\egg\\object_detection\\utils\n",
      "copying build\\lib\\object_detection\\utils\\np_box_list_ops.py -> build\\bdist.win-amd64\\egg\\object_detection\\utils\n",
      "copying build\\lib\\object_detection\\utils\\np_box_list_ops_test.py -> build\\bdist.win-amd64\\egg\\object_detection\\utils\n",
      "copying build\\lib\\object_detection\\utils\\np_box_list_test.py -> build\\bdist.win-amd64\\egg\\object_detection\\utils\n",
      "copying build\\lib\\object_detection\\utils\\np_box_mask_list.py -> build\\bdist.win-amd64\\egg\\object_detection\\utils\n",
      "copying build\\lib\\object_detection\\utils\\np_box_mask_list_ops.py -> build\\bdist.win-amd64\\egg\\object_detection\\utils\n",
      "copying build\\lib\\object_detection\\utils\\np_box_mask_list_ops_test.py -> build\\bdist.win-amd64\\egg\\object_detection\\utils\n",
      "copying build\\lib\\object_detection\\utils\\np_box_mask_list_test.py -> build\\bdist.win-amd64\\egg\\object_detection\\utils\n",
      "copying build\\lib\\object_detection\\utils\\np_box_ops.py -> build\\bdist.win-amd64\\egg\\object_detection\\utils\n",
      "copying build\\lib\\object_detection\\utils\\np_box_ops_test.py -> build\\bdist.win-amd64\\egg\\object_detection\\utils\n",
      "copying build\\lib\\object_detection\\utils\\np_mask_ops.py -> build\\bdist.win-amd64\\egg\\object_detection\\utils\n",
      "copying build\\lib\\object_detection\\utils\\np_mask_ops_test.py -> build\\bdist.win-amd64\\egg\\object_detection\\utils\n",
      "copying build\\lib\\object_detection\\utils\\object_detection_evaluation.py -> build\\bdist.win-amd64\\egg\\object_detection\\utils\n",
      "copying build\\lib\\object_detection\\utils\\object_detection_evaluation_test.py -> build\\bdist.win-amd64\\egg\\object_detection\\utils\n",
      "copying build\\lib\\object_detection\\utils\\ops.py -> build\\bdist.win-amd64\\egg\\object_detection\\utils\n",
      "copying build\\lib\\object_detection\\utils\\ops_test.py -> build\\bdist.win-amd64\\egg\\object_detection\\utils\n",
      "copying build\\lib\\object_detection\\utils\\patch_ops.py -> build\\bdist.win-amd64\\egg\\object_detection\\utils\n",
      "copying build\\lib\\object_detection\\utils\\patch_ops_test.py -> build\\bdist.win-amd64\\egg\\object_detection\\utils\n",
      "copying build\\lib\\object_detection\\utils\\per_image_evaluation.py -> build\\bdist.win-amd64\\egg\\object_detection\\utils\n",
      "copying build\\lib\\object_detection\\utils\\per_image_evaluation_test.py -> build\\bdist.win-amd64\\egg\\object_detection\\utils\n",
      "copying build\\lib\\object_detection\\utils\\per_image_vrd_evaluation.py -> build\\bdist.win-amd64\\egg\\object_detection\\utils\n",
      "copying build\\lib\\object_detection\\utils\\per_image_vrd_evaluation_test.py -> build\\bdist.win-amd64\\egg\\object_detection\\utils\n",
      "copying build\\lib\\object_detection\\utils\\shape_utils.py -> build\\bdist.win-amd64\\egg\\object_detection\\utils\n",
      "copying build\\lib\\object_detection\\utils\\shape_utils_test.py -> build\\bdist.win-amd64\\egg\\object_detection\\utils\n",
      "copying build\\lib\\object_detection\\utils\\spatial_transform_ops.py -> build\\bdist.win-amd64\\egg\\object_detection\\utils\n",
      "copying build\\lib\\object_detection\\utils\\spatial_transform_ops_test.py -> build\\bdist.win-amd64\\egg\\object_detection\\utils\n",
      "copying build\\lib\\object_detection\\utils\\static_shape.py -> build\\bdist.win-amd64\\egg\\object_detection\\utils\n",
      "copying build\\lib\\object_detection\\utils\\static_shape_test.py -> build\\bdist.win-amd64\\egg\\object_detection\\utils\n",
      "copying build\\lib\\object_detection\\utils\\target_assigner_utils.py -> build\\bdist.win-amd64\\egg\\object_detection\\utils\n",
      "copying build\\lib\\object_detection\\utils\\target_assigner_utils_test.py -> build\\bdist.win-amd64\\egg\\object_detection\\utils\n",
      "copying build\\lib\\object_detection\\utils\\test_case.py -> build\\bdist.win-amd64\\egg\\object_detection\\utils\n",
      "copying build\\lib\\object_detection\\utils\\test_case_test.py -> build\\bdist.win-amd64\\egg\\object_detection\\utils\n",
      "copying build\\lib\\object_detection\\utils\\test_utils.py -> build\\bdist.win-amd64\\egg\\object_detection\\utils\n",
      "copying build\\lib\\object_detection\\utils\\test_utils_test.py -> build\\bdist.win-amd64\\egg\\object_detection\\utils\n",
      "copying build\\lib\\object_detection\\utils\\tf_version.py -> build\\bdist.win-amd64\\egg\\object_detection\\utils\n",
      "copying build\\lib\\object_detection\\utils\\variables_helper.py -> build\\bdist.win-amd64\\egg\\object_detection\\utils\n",
      "copying build\\lib\\object_detection\\utils\\variables_helper_tf1_test.py -> build\\bdist.win-amd64\\egg\\object_detection\\utils\n",
      "copying build\\lib\\object_detection\\utils\\visualization_utils.py -> build\\bdist.win-amd64\\egg\\object_detection\\utils\n",
      "copying build\\lib\\object_detection\\utils\\visualization_utils_test.py -> build\\bdist.win-amd64\\egg\\object_detection\\utils\n",
      "copying build\\lib\\object_detection\\utils\\vrd_evaluation.py -> build\\bdist.win-amd64\\egg\\object_detection\\utils\n",
      "copying build\\lib\\object_detection\\utils\\vrd_evaluation_test.py -> build\\bdist.win-amd64\\egg\\object_detection\\utils\n",
      "copying build\\lib\\object_detection\\utils\\__init__.py -> build\\bdist.win-amd64\\egg\\object_detection\\utils\n",
      "copying build\\lib\\object_detection\\__init__.py -> build\\bdist.win-amd64\\egg\\object_detection\n",
      "creating build\\bdist.win-amd64\\egg\\preprocessing\n",
      "copying build\\lib\\preprocessing\\cifarnet_preprocessing.py -> build\\bdist.win-amd64\\egg\\preprocessing\n",
      "copying build\\lib\\preprocessing\\inception_preprocessing.py -> build\\bdist.win-amd64\\egg\\preprocessing\n",
      "copying build\\lib\\preprocessing\\lenet_preprocessing.py -> build\\bdist.win-amd64\\egg\\preprocessing\n",
      "copying build\\lib\\preprocessing\\preprocessing_factory.py -> build\\bdist.win-amd64\\egg\\preprocessing\n",
      "copying build\\lib\\preprocessing\\vgg_preprocessing.py -> build\\bdist.win-amd64\\egg\\preprocessing\n",
      "copying build\\lib\\preprocessing\\__init__.py -> build\\bdist.win-amd64\\egg\\preprocessing\n",
      "byte-compiling build\\bdist.win-amd64\\egg\\datasets\\build_imagenet_data.py to build_imagenet_data.cpython-38.pyc\n",
      "byte-compiling build\\bdist.win-amd64\\egg\\datasets\\cifar10.py to cifar10.cpython-38.pyc\n",
      "byte-compiling build\\bdist.win-amd64\\egg\\datasets\\dataset_factory.py to dataset_factory.cpython-38.pyc\n",
      "byte-compiling build\\bdist.win-amd64\\egg\\datasets\\dataset_utils.py to dataset_utils.cpython-38.pyc\n",
      "byte-compiling build\\bdist.win-amd64\\egg\\datasets\\download_and_convert_cifar10.py to download_and_convert_cifar10.cpython-38.pyc\n",
      "byte-compiling build\\bdist.win-amd64\\egg\\datasets\\download_and_convert_flowers.py to download_and_convert_flowers.cpython-38.pyc\n",
      "byte-compiling build\\bdist.win-amd64\\egg\\datasets\\download_and_convert_mnist.py to download_and_convert_mnist.cpython-38.pyc\n",
      "byte-compiling build\\bdist.win-amd64\\egg\\datasets\\download_and_convert_visualwakewords.py to download_and_convert_visualwakewords.cpython-38.pyc\n",
      "byte-compiling build\\bdist.win-amd64\\egg\\datasets\\download_and_convert_visualwakewords_lib.py to download_and_convert_visualwakewords_lib.cpython-38.pyc\n",
      "byte-compiling build\\bdist.win-amd64\\egg\\datasets\\flowers.py to flowers.cpython-38.pyc\n",
      "byte-compiling build\\bdist.win-amd64\\egg\\datasets\\imagenet.py to imagenet.cpython-38.pyc\n",
      "byte-compiling build\\bdist.win-amd64\\egg\\datasets\\mnist.py to mnist.cpython-38.pyc\n",
      "byte-compiling build\\bdist.win-amd64\\egg\\datasets\\preprocess_imagenet_validation_data.py to preprocess_imagenet_validation_data.cpython-38.pyc\n",
      "byte-compiling build\\bdist.win-amd64\\egg\\datasets\\process_bounding_boxes.py to process_bounding_boxes.cpython-38.pyc\n",
      "byte-compiling build\\bdist.win-amd64\\egg\\datasets\\visualwakewords.py to visualwakewords.cpython-38.pyc\n",
      "byte-compiling build\\bdist.win-amd64\\egg\\datasets\\__init__.py to __init__.cpython-38.pyc\n",
      "byte-compiling build\\bdist.win-amd64\\egg\\deployment\\model_deploy.py to model_deploy.cpython-38.pyc\n",
      "byte-compiling build\\bdist.win-amd64\\egg\\deployment\\model_deploy_test.py to model_deploy_test.cpython-38.pyc\n",
      "byte-compiling build\\bdist.win-amd64\\egg\\deployment\\__init__.py to __init__.cpython-38.pyc\n",
      "byte-compiling build\\bdist.win-amd64\\egg\\nets\\alexnet.py to alexnet.cpython-38.pyc\n",
      "byte-compiling build\\bdist.win-amd64\\egg\\nets\\alexnet_test.py to alexnet_test.cpython-38.pyc\n",
      "byte-compiling build\\bdist.win-amd64\\egg\\nets\\cifarnet.py to cifarnet.cpython-38.pyc\n",
      "byte-compiling build\\bdist.win-amd64\\egg\\nets\\cyclegan.py to cyclegan.cpython-38.pyc\n",
      "byte-compiling build\\bdist.win-amd64\\egg\\nets\\cyclegan_test.py to cyclegan_test.cpython-38.pyc\n",
      "byte-compiling build\\bdist.win-amd64\\egg\\nets\\dcgan.py to dcgan.cpython-38.pyc\n",
      "byte-compiling build\\bdist.win-amd64\\egg\\nets\\dcgan_test.py to dcgan_test.cpython-38.pyc\n",
      "byte-compiling build\\bdist.win-amd64\\egg\\nets\\i3d.py to i3d.cpython-38.pyc\n",
      "byte-compiling build\\bdist.win-amd64\\egg\\nets\\i3d_test.py to i3d_test.cpython-38.pyc\n",
      "byte-compiling build\\bdist.win-amd64\\egg\\nets\\i3d_utils.py to i3d_utils.cpython-38.pyc\n",
      "byte-compiling build\\bdist.win-amd64\\egg\\nets\\inception.py to inception.cpython-38.pyc\n",
      "byte-compiling build\\bdist.win-amd64\\egg\\nets\\inception_resnet_v2.py to inception_resnet_v2.cpython-38.pyc\n",
      "byte-compiling build\\bdist.win-amd64\\egg\\nets\\inception_resnet_v2_test.py to inception_resnet_v2_test.cpython-38.pyc\n",
      "byte-compiling build\\bdist.win-amd64\\egg\\nets\\inception_utils.py to inception_utils.cpython-38.pyc\n",
      "byte-compiling build\\bdist.win-amd64\\egg\\nets\\inception_v1.py to inception_v1.cpython-38.pyc\n",
      "byte-compiling build\\bdist.win-amd64\\egg\\nets\\inception_v1_test.py to inception_v1_test.cpython-38.pyc\n",
      "byte-compiling build\\bdist.win-amd64\\egg\\nets\\inception_v2.py to inception_v2.cpython-38.pyc\n",
      "byte-compiling build\\bdist.win-amd64\\egg\\nets\\inception_v2_test.py to inception_v2_test.cpython-38.pyc\n",
      "byte-compiling build\\bdist.win-amd64\\egg\\nets\\inception_v3.py to inception_v3.cpython-38.pyc\n",
      "byte-compiling build\\bdist.win-amd64\\egg\\nets\\inception_v3_test.py to inception_v3_test.cpython-38.pyc\n",
      "byte-compiling build\\bdist.win-amd64\\egg\\nets\\inception_v4.py to inception_v4.cpython-38.pyc\n",
      "byte-compiling build\\bdist.win-amd64\\egg\\nets\\inception_v4_test.py to inception_v4_test.cpython-38.pyc\n",
      "byte-compiling build\\bdist.win-amd64\\egg\\nets\\lenet.py to lenet.cpython-38.pyc\n",
      "byte-compiling build\\bdist.win-amd64\\egg\\nets\\mobilenet\\conv_blocks.py to conv_blocks.cpython-38.pyc\n",
      "byte-compiling build\\bdist.win-amd64\\egg\\nets\\mobilenet\\mobilenet.py to mobilenet.cpython-38.pyc\n",
      "byte-compiling build\\bdist.win-amd64\\egg\\nets\\mobilenet\\mobilenet_v2.py to mobilenet_v2.cpython-38.pyc\n",
      "byte-compiling build\\bdist.win-amd64\\egg\\nets\\mobilenet\\mobilenet_v2_test.py to mobilenet_v2_test.cpython-38.pyc\n",
      "byte-compiling build\\bdist.win-amd64\\egg\\nets\\mobilenet\\mobilenet_v3.py to mobilenet_v3.cpython-38.pyc\n",
      "byte-compiling build\\bdist.win-amd64\\egg\\nets\\mobilenet\\mobilenet_v3_test.py to mobilenet_v3_test.cpython-38.pyc\n",
      "byte-compiling build\\bdist.win-amd64\\egg\\nets\\mobilenet\\__init__.py to __init__.cpython-38.pyc\n",
      "byte-compiling build\\bdist.win-amd64\\egg\\nets\\mobilenet_v1.py to mobilenet_v1.cpython-38.pyc\n",
      "byte-compiling build\\bdist.win-amd64\\egg\\nets\\mobilenet_v1_eval.py to mobilenet_v1_eval.cpython-38.pyc\n",
      "byte-compiling build\\bdist.win-amd64\\egg\\nets\\mobilenet_v1_test.py to mobilenet_v1_test.cpython-38.pyc\n",
      "byte-compiling build\\bdist.win-amd64\\egg\\nets\\mobilenet_v1_train.py to mobilenet_v1_train.cpython-38.pyc\n",
      "byte-compiling build\\bdist.win-amd64\\egg\\nets\\nasnet\\nasnet.py to nasnet.cpython-38.pyc\n",
      "byte-compiling build\\bdist.win-amd64\\egg\\nets\\nasnet\\nasnet_test.py to nasnet_test.cpython-38.pyc\n",
      "byte-compiling build\\bdist.win-amd64\\egg\\nets\\nasnet\\nasnet_utils.py to nasnet_utils.cpython-38.pyc\n",
      "byte-compiling build\\bdist.win-amd64\\egg\\nets\\nasnet\\nasnet_utils_test.py to nasnet_utils_test.cpython-38.pyc\n",
      "byte-compiling build\\bdist.win-amd64\\egg\\nets\\nasnet\\pnasnet.py to pnasnet.cpython-38.pyc\n",
      "byte-compiling build\\bdist.win-amd64\\egg\\nets\\nasnet\\pnasnet_test.py to pnasnet_test.cpython-38.pyc\n",
      "byte-compiling build\\bdist.win-amd64\\egg\\nets\\nasnet\\__init__.py to __init__.cpython-38.pyc\n",
      "byte-compiling build\\bdist.win-amd64\\egg\\nets\\nets_factory.py to nets_factory.cpython-38.pyc\n",
      "byte-compiling build\\bdist.win-amd64\\egg\\nets\\nets_factory_test.py to nets_factory_test.cpython-38.pyc\n",
      "byte-compiling build\\bdist.win-amd64\\egg\\nets\\overfeat.py to overfeat.cpython-38.pyc\n",
      "byte-compiling build\\bdist.win-amd64\\egg\\nets\\overfeat_test.py to overfeat_test.cpython-38.pyc\n",
      "byte-compiling build\\bdist.win-amd64\\egg\\nets\\pix2pix.py to pix2pix.cpython-38.pyc\n",
      "byte-compiling build\\bdist.win-amd64\\egg\\nets\\pix2pix_test.py to pix2pix_test.cpython-38.pyc\n",
      "byte-compiling build\\bdist.win-amd64\\egg\\nets\\post_training_quantization.py to post_training_quantization.cpython-38.pyc\n",
      "byte-compiling build\\bdist.win-amd64\\egg\\nets\\resnet_utils.py to resnet_utils.cpython-38.pyc\n",
      "byte-compiling build\\bdist.win-amd64\\egg\\nets\\resnet_v1.py to resnet_v1.cpython-38.pyc\n",
      "byte-compiling build\\bdist.win-amd64\\egg\\nets\\resnet_v1_test.py to resnet_v1_test.cpython-38.pyc\n",
      "byte-compiling build\\bdist.win-amd64\\egg\\nets\\resnet_v2.py to resnet_v2.cpython-38.pyc\n",
      "byte-compiling build\\bdist.win-amd64\\egg\\nets\\resnet_v2_test.py to resnet_v2_test.cpython-38.pyc\n",
      "byte-compiling build\\bdist.win-amd64\\egg\\nets\\s3dg.py to s3dg.cpython-38.pyc\n",
      "byte-compiling build\\bdist.win-amd64\\egg\\nets\\s3dg_test.py to s3dg_test.cpython-38.pyc\n",
      "byte-compiling build\\bdist.win-amd64\\egg\\nets\\vgg.py to vgg.cpython-38.pyc\n",
      "byte-compiling build\\bdist.win-amd64\\egg\\nets\\vgg_test.py to vgg_test.cpython-38.pyc\n",
      "byte-compiling build\\bdist.win-amd64\\egg\\nets\\__init__.py to __init__.cpython-38.pyc\n",
      "byte-compiling build\\bdist.win-amd64\\egg\\object_detection\\anchor_generators\\flexible_grid_anchor_generator.py to flexible_grid_anchor_generator.cpython-38.pyc\n",
      "byte-compiling build\\bdist.win-amd64\\egg\\object_detection\\anchor_generators\\flexible_grid_anchor_generator_test.py to flexible_grid_anchor_generator_test.cpython-38.pyc\n",
      "byte-compiling build\\bdist.win-amd64\\egg\\object_detection\\anchor_generators\\grid_anchor_generator.py to grid_anchor_generator.cpython-38.pyc\n",
      "byte-compiling build\\bdist.win-amd64\\egg\\object_detection\\anchor_generators\\grid_anchor_generator_test.py to grid_anchor_generator_test.cpython-38.pyc\n",
      "byte-compiling build\\bdist.win-amd64\\egg\\object_detection\\anchor_generators\\multiple_grid_anchor_generator.py to multiple_grid_anchor_generator.cpython-38.pyc\n",
      "byte-compiling build\\bdist.win-amd64\\egg\\object_detection\\anchor_generators\\multiple_grid_anchor_generator_test.py to multiple_grid_anchor_generator_test.cpython-38.pyc\n",
      "byte-compiling build\\bdist.win-amd64\\egg\\object_detection\\anchor_generators\\multiscale_grid_anchor_generator.py to multiscale_grid_anchor_generator.cpython-38.pyc\n",
      "byte-compiling build\\bdist.win-amd64\\egg\\object_detection\\anchor_generators\\multiscale_grid_anchor_generator_test.py to multiscale_grid_anchor_generator_test.cpython-38.pyc\n",
      "byte-compiling build\\bdist.win-amd64\\egg\\object_detection\\anchor_generators\\__init__.py to __init__.cpython-38.pyc\n",
      "byte-compiling build\\bdist.win-amd64\\egg\\object_detection\\box_coders\\faster_rcnn_box_coder.py to faster_rcnn_box_coder.cpython-38.pyc\n",
      "byte-compiling build\\bdist.win-amd64\\egg\\object_detection\\box_coders\\faster_rcnn_box_coder_test.py to faster_rcnn_box_coder_test.cpython-38.pyc\n",
      "byte-compiling build\\bdist.win-amd64\\egg\\object_detection\\box_coders\\keypoint_box_coder.py to keypoint_box_coder.cpython-38.pyc\n",
      "byte-compiling build\\bdist.win-amd64\\egg\\object_detection\\box_coders\\keypoint_box_coder_test.py to keypoint_box_coder_test.cpython-38.pyc\n",
      "byte-compiling build\\bdist.win-amd64\\egg\\object_detection\\box_coders\\mean_stddev_box_coder.py to mean_stddev_box_coder.cpython-38.pyc\n",
      "byte-compiling build\\bdist.win-amd64\\egg\\object_detection\\box_coders\\mean_stddev_box_coder_test.py to mean_stddev_box_coder_test.cpython-38.pyc\n",
      "byte-compiling build\\bdist.win-amd64\\egg\\object_detection\\box_coders\\square_box_coder.py to square_box_coder.cpython-38.pyc\n",
      "byte-compiling build\\bdist.win-amd64\\egg\\object_detection\\box_coders\\square_box_coder_test.py to square_box_coder_test.cpython-38.pyc\n",
      "byte-compiling build\\bdist.win-amd64\\egg\\object_detection\\box_coders\\__init__.py to __init__.cpython-38.pyc\n",
      "byte-compiling build\\bdist.win-amd64\\egg\\object_detection\\builders\\anchor_generator_builder.py to anchor_generator_builder.cpython-38.pyc\n",
      "byte-compiling build\\bdist.win-amd64\\egg\\object_detection\\builders\\anchor_generator_builder_test.py to anchor_generator_builder_test.cpython-38.pyc\n",
      "byte-compiling build\\bdist.win-amd64\\egg\\object_detection\\builders\\box_coder_builder.py to box_coder_builder.cpython-38.pyc\n",
      "byte-compiling build\\bdist.win-amd64\\egg\\object_detection\\builders\\box_coder_builder_test.py to box_coder_builder_test.cpython-38.pyc\n",
      "byte-compiling build\\bdist.win-amd64\\egg\\object_detection\\builders\\box_predictor_builder.py to box_predictor_builder.cpython-38.pyc\n",
      "byte-compiling build\\bdist.win-amd64\\egg\\object_detection\\builders\\box_predictor_builder_test.py to box_predictor_builder_test.cpython-38.pyc\n",
      "byte-compiling build\\bdist.win-amd64\\egg\\object_detection\\builders\\calibration_builder.py to calibration_builder.cpython-38.pyc\n",
      "byte-compiling build\\bdist.win-amd64\\egg\\object_detection\\builders\\calibration_builder_test.py to calibration_builder_test.cpython-38.pyc\n",
      "byte-compiling build\\bdist.win-amd64\\egg\\object_detection\\builders\\dataset_builder.py to dataset_builder.cpython-38.pyc\n",
      "byte-compiling build\\bdist.win-amd64\\egg\\object_detection\\builders\\dataset_builder_test.py to dataset_builder_test.cpython-38.pyc\n",
      "byte-compiling build\\bdist.win-amd64\\egg\\object_detection\\builders\\decoder_builder.py to decoder_builder.cpython-38.pyc\n",
      "byte-compiling build\\bdist.win-amd64\\egg\\object_detection\\builders\\decoder_builder_test.py to decoder_builder_test.cpython-38.pyc\n",
      "byte-compiling build\\bdist.win-amd64\\egg\\object_detection\\builders\\graph_rewriter_builder.py to graph_rewriter_builder.cpython-38.pyc\n",
      "byte-compiling build\\bdist.win-amd64\\egg\\object_detection\\builders\\graph_rewriter_builder_tf1_test.py to graph_rewriter_builder_tf1_test.cpython-38.pyc\n",
      "byte-compiling build\\bdist.win-amd64\\egg\\object_detection\\builders\\hyperparams_builder.py to hyperparams_builder.cpython-38.pyc\n",
      "byte-compiling build\\bdist.win-amd64\\egg\\object_detection\\builders\\hyperparams_builder_test.py to hyperparams_builder_test.cpython-38.pyc\n",
      "byte-compiling build\\bdist.win-amd64\\egg\\object_detection\\builders\\image_resizer_builder.py to image_resizer_builder.cpython-38.pyc\n",
      "byte-compiling build\\bdist.win-amd64\\egg\\object_detection\\builders\\image_resizer_builder_test.py to image_resizer_builder_test.cpython-38.pyc\n",
      "byte-compiling build\\bdist.win-amd64\\egg\\object_detection\\builders\\input_reader_builder.py to input_reader_builder.cpython-38.pyc\n",
      "byte-compiling build\\bdist.win-amd64\\egg\\object_detection\\builders\\input_reader_builder_tf1_test.py to input_reader_builder_tf1_test.cpython-38.pyc\n",
      "byte-compiling build\\bdist.win-amd64\\egg\\object_detection\\builders\\losses_builder.py to losses_builder.cpython-38.pyc\n",
      "byte-compiling build\\bdist.win-amd64\\egg\\object_detection\\builders\\losses_builder_test.py to losses_builder_test.cpython-38.pyc\n",
      "byte-compiling build\\bdist.win-amd64\\egg\\object_detection\\builders\\matcher_builder.py to matcher_builder.cpython-38.pyc\n",
      "byte-compiling build\\bdist.win-amd64\\egg\\object_detection\\builders\\matcher_builder_test.py to matcher_builder_test.cpython-38.pyc\n",
      "byte-compiling build\\bdist.win-amd64\\egg\\object_detection\\builders\\model_builder.py to model_builder.cpython-38.pyc\n",
      "byte-compiling build\\bdist.win-amd64\\egg\\object_detection\\builders\\model_builder_test.py to model_builder_test.cpython-38.pyc\n",
      "byte-compiling build\\bdist.win-amd64\\egg\\object_detection\\builders\\model_builder_tf1_test.py to model_builder_tf1_test.cpython-38.pyc\n",
      "byte-compiling build\\bdist.win-amd64\\egg\\object_detection\\builders\\model_builder_tf2_test.py to model_builder_tf2_test.cpython-38.pyc\n",
      "byte-compiling build\\bdist.win-amd64\\egg\\object_detection\\builders\\optimizer_builder.py to optimizer_builder.cpython-38.pyc\n",
      "byte-compiling build\\bdist.win-amd64\\egg\\object_detection\\builders\\optimizer_builder_tf1_test.py to optimizer_builder_tf1_test.cpython-38.pyc\n",
      "byte-compiling build\\bdist.win-amd64\\egg\\object_detection\\builders\\optimizer_builder_tf2_test.py to optimizer_builder_tf2_test.cpython-38.pyc\n",
      "byte-compiling build\\bdist.win-amd64\\egg\\object_detection\\builders\\post_processing_builder.py to post_processing_builder.cpython-38.pyc\n",
      "byte-compiling build\\bdist.win-amd64\\egg\\object_detection\\builders\\post_processing_builder_test.py to post_processing_builder_test.cpython-38.pyc\n",
      "byte-compiling build\\bdist.win-amd64\\egg\\object_detection\\builders\\preprocessor_builder.py to preprocessor_builder.cpython-38.pyc\n",
      "byte-compiling build\\bdist.win-amd64\\egg\\object_detection\\builders\\preprocessor_builder_test.py to preprocessor_builder_test.cpython-38.pyc\n",
      "byte-compiling build\\bdist.win-amd64\\egg\\object_detection\\builders\\region_similarity_calculator_builder.py to region_similarity_calculator_builder.cpython-38.pyc\n",
      "byte-compiling build\\bdist.win-amd64\\egg\\object_detection\\builders\\region_similarity_calculator_builder_test.py to region_similarity_calculator_builder_test.cpython-38.pyc\n",
      "byte-compiling build\\bdist.win-amd64\\egg\\object_detection\\builders\\target_assigner_builder.py to target_assigner_builder.cpython-38.pyc\n",
      "byte-compiling build\\bdist.win-amd64\\egg\\object_detection\\builders\\target_assigner_builder_test.py to target_assigner_builder_test.cpython-38.pyc\n",
      "byte-compiling build\\bdist.win-amd64\\egg\\object_detection\\builders\\__init__.py to __init__.cpython-38.pyc\n",
      "byte-compiling build\\bdist.win-amd64\\egg\\object_detection\\core\\anchor_generator.py to anchor_generator.cpython-38.pyc\n",
      "byte-compiling build\\bdist.win-amd64\\egg\\object_detection\\core\\balanced_positive_negative_sampler.py to balanced_positive_negative_sampler.cpython-38.pyc\n",
      "byte-compiling build\\bdist.win-amd64\\egg\\object_detection\\core\\balanced_positive_negative_sampler_test.py to balanced_positive_negative_sampler_test.cpython-38.pyc\n",
      "byte-compiling build\\bdist.win-amd64\\egg\\object_detection\\core\\batcher.py to batcher.cpython-38.pyc\n",
      "byte-compiling build\\bdist.win-amd64\\egg\\object_detection\\core\\batcher_tf1_test.py to batcher_tf1_test.cpython-38.pyc\n",
      "byte-compiling build\\bdist.win-amd64\\egg\\object_detection\\core\\batch_multiclass_nms_test.py to batch_multiclass_nms_test.cpython-38.pyc\n",
      "byte-compiling build\\bdist.win-amd64\\egg\\object_detection\\core\\box_coder.py to box_coder.cpython-38.pyc\n",
      "byte-compiling build\\bdist.win-amd64\\egg\\object_detection\\core\\box_coder_test.py to box_coder_test.cpython-38.pyc\n",
      "byte-compiling build\\bdist.win-amd64\\egg\\object_detection\\core\\box_list.py to box_list.cpython-38.pyc\n",
      "byte-compiling build\\bdist.win-amd64\\egg\\object_detection\\core\\box_list_ops.py to box_list_ops.cpython-38.pyc\n",
      "byte-compiling build\\bdist.win-amd64\\egg\\object_detection\\core\\box_list_ops_test.py to box_list_ops_test.cpython-38.pyc\n",
      "byte-compiling build\\bdist.win-amd64\\egg\\object_detection\\core\\box_list_test.py to box_list_test.cpython-38.pyc\n",
      "byte-compiling build\\bdist.win-amd64\\egg\\object_detection\\core\\box_predictor.py to box_predictor.cpython-38.pyc\n",
      "byte-compiling build\\bdist.win-amd64\\egg\\object_detection\\core\\class_agnostic_nms_test.py to class_agnostic_nms_test.cpython-38.pyc\n",
      "byte-compiling build\\bdist.win-amd64\\egg\\object_detection\\core\\data_decoder.py to data_decoder.cpython-38.pyc\n",
      "byte-compiling build\\bdist.win-amd64\\egg\\object_detection\\core\\data_parser.py to data_parser.cpython-38.pyc\n",
      "byte-compiling build\\bdist.win-amd64\\egg\\object_detection\\core\\densepose_ops.py to densepose_ops.cpython-38.pyc\n",
      "byte-compiling build\\bdist.win-amd64\\egg\\object_detection\\core\\densepose_ops_test.py to densepose_ops_test.cpython-38.pyc\n",
      "byte-compiling build\\bdist.win-amd64\\egg\\object_detection\\core\\freezable_batch_norm.py to freezable_batch_norm.cpython-38.pyc\n",
      "byte-compiling build\\bdist.win-amd64\\egg\\object_detection\\core\\freezable_batch_norm_tf2_test.py to freezable_batch_norm_tf2_test.cpython-38.pyc\n",
      "byte-compiling build\\bdist.win-amd64\\egg\\object_detection\\core\\freezable_sync_batch_norm.py to freezable_sync_batch_norm.cpython-38.pyc\n",
      "byte-compiling build\\bdist.win-amd64\\egg\\object_detection\\core\\keypoint_ops.py to keypoint_ops.cpython-38.pyc\n",
      "byte-compiling build\\bdist.win-amd64\\egg\\object_detection\\core\\keypoint_ops_test.py to keypoint_ops_test.cpython-38.pyc\n",
      "byte-compiling build\\bdist.win-amd64\\egg\\object_detection\\core\\losses.py to losses.cpython-38.pyc\n",
      "byte-compiling build\\bdist.win-amd64\\egg\\object_detection\\core\\losses_test.py to losses_test.cpython-38.pyc\n",
      "byte-compiling build\\bdist.win-amd64\\egg\\object_detection\\core\\matcher.py to matcher.cpython-38.pyc\n",
      "byte-compiling build\\bdist.win-amd64\\egg\\object_detection\\core\\matcher_test.py to matcher_test.cpython-38.pyc\n",
      "byte-compiling build\\bdist.win-amd64\\egg\\object_detection\\core\\minibatch_sampler.py to minibatch_sampler.cpython-38.pyc\n",
      "byte-compiling build\\bdist.win-amd64\\egg\\object_detection\\core\\minibatch_sampler_test.py to minibatch_sampler_test.cpython-38.pyc\n",
      "byte-compiling build\\bdist.win-amd64\\egg\\object_detection\\core\\model.py to model.cpython-38.pyc\n",
      "byte-compiling build\\bdist.win-amd64\\egg\\object_detection\\core\\model_test.py to model_test.cpython-38.pyc\n",
      "byte-compiling build\\bdist.win-amd64\\egg\\object_detection\\core\\multiclass_nms_test.py to multiclass_nms_test.cpython-38.pyc\n",
      "byte-compiling build\\bdist.win-amd64\\egg\\object_detection\\core\\post_processing.py to post_processing.cpython-38.pyc\n",
      "byte-compiling build\\bdist.win-amd64\\egg\\object_detection\\core\\prefetcher.py to prefetcher.cpython-38.pyc\n",
      "byte-compiling build\\bdist.win-amd64\\egg\\object_detection\\core\\prefetcher_tf1_test.py to prefetcher_tf1_test.cpython-38.pyc\n",
      "byte-compiling build\\bdist.win-amd64\\egg\\object_detection\\core\\preprocessor.py to preprocessor.cpython-38.pyc\n",
      "byte-compiling build\\bdist.win-amd64\\egg\\object_detection\\core\\preprocessor_cache.py to preprocessor_cache.cpython-38.pyc\n",
      "byte-compiling build\\bdist.win-amd64\\egg\\object_detection\\core\\preprocessor_test.py to preprocessor_test.cpython-38.pyc\n",
      "byte-compiling build\\bdist.win-amd64\\egg\\object_detection\\core\\region_similarity_calculator.py to region_similarity_calculator.cpython-38.pyc\n",
      "byte-compiling build\\bdist.win-amd64\\egg\\object_detection\\core\\region_similarity_calculator_test.py to region_similarity_calculator_test.cpython-38.pyc\n",
      "byte-compiling build\\bdist.win-amd64\\egg\\object_detection\\core\\standard_fields.py to standard_fields.cpython-38.pyc\n",
      "byte-compiling build\\bdist.win-amd64\\egg\\object_detection\\core\\target_assigner.py to target_assigner.cpython-38.pyc\n",
      "byte-compiling build\\bdist.win-amd64\\egg\\object_detection\\core\\target_assigner_test.py to target_assigner_test.cpython-38.pyc\n",
      "byte-compiling build\\bdist.win-amd64\\egg\\object_detection\\core\\__init__.py to __init__.cpython-38.pyc\n",
      "byte-compiling build\\bdist.win-amd64\\egg\\object_detection\\dataset_tools\\context_rcnn\\add_context_to_examples.py to add_context_to_examples.cpython-38.pyc\n",
      "byte-compiling build\\bdist.win-amd64\\egg\\object_detection\\dataset_tools\\context_rcnn\\add_context_to_examples_tf2_test.py to add_context_to_examples_tf2_test.cpython-38.pyc\n",
      "byte-compiling build\\bdist.win-amd64\\egg\\object_detection\\dataset_tools\\context_rcnn\\create_cococameratraps_tfexample_main.py to create_cococameratraps_tfexample_main.cpython-38.pyc\n",
      "byte-compiling build\\bdist.win-amd64\\egg\\object_detection\\dataset_tools\\context_rcnn\\create_cococameratraps_tfexample_tf2_test.py to create_cococameratraps_tfexample_tf2_test.cpython-38.pyc\n",
      "byte-compiling build\\bdist.win-amd64\\egg\\object_detection\\dataset_tools\\context_rcnn\\generate_detection_data.py to generate_detection_data.cpython-38.pyc\n",
      "byte-compiling build\\bdist.win-amd64\\egg\\object_detection\\dataset_tools\\context_rcnn\\generate_detection_data_tf2_test.py to generate_detection_data_tf2_test.cpython-38.pyc\n",
      "byte-compiling build\\bdist.win-amd64\\egg\\object_detection\\dataset_tools\\context_rcnn\\generate_embedding_data.py to generate_embedding_data.cpython-38.pyc\n",
      "byte-compiling build\\bdist.win-amd64\\egg\\object_detection\\dataset_tools\\context_rcnn\\generate_embedding_data_tf2_test.py to generate_embedding_data_tf2_test.cpython-38.pyc\n",
      "byte-compiling build\\bdist.win-amd64\\egg\\object_detection\\dataset_tools\\context_rcnn\\__init__.py to __init__.cpython-38.pyc\n",
      "byte-compiling build\\bdist.win-amd64\\egg\\object_detection\\dataset_tools\\create_ava_actions_tf_record.py to create_ava_actions_tf_record.cpython-38.pyc\n",
      "byte-compiling build\\bdist.win-amd64\\egg\\object_detection\\dataset_tools\\create_coco_tf_record.py to create_coco_tf_record.cpython-38.pyc\n",
      "byte-compiling build\\bdist.win-amd64\\egg\\object_detection\\dataset_tools\\create_coco_tf_record_test.py to create_coco_tf_record_test.cpython-38.pyc\n",
      "byte-compiling build\\bdist.win-amd64\\egg\\object_detection\\dataset_tools\\create_kitti_tf_record.py to create_kitti_tf_record.cpython-38.pyc\n",
      "byte-compiling build\\bdist.win-amd64\\egg\\object_detection\\dataset_tools\\create_kitti_tf_record_test.py to create_kitti_tf_record_test.cpython-38.pyc\n",
      "byte-compiling build\\bdist.win-amd64\\egg\\object_detection\\dataset_tools\\create_oid_tf_record.py to create_oid_tf_record.cpython-38.pyc\n",
      "byte-compiling build\\bdist.win-amd64\\egg\\object_detection\\dataset_tools\\create_pascal_tf_record.py to create_pascal_tf_record.cpython-38.pyc\n",
      "byte-compiling build\\bdist.win-amd64\\egg\\object_detection\\dataset_tools\\create_pascal_tf_record_test.py to create_pascal_tf_record_test.cpython-38.pyc\n",
      "byte-compiling build\\bdist.win-amd64\\egg\\object_detection\\dataset_tools\\create_pet_tf_record.py to create_pet_tf_record.cpython-38.pyc\n",
      "byte-compiling build\\bdist.win-amd64\\egg\\object_detection\\dataset_tools\\oid_hierarchical_labels_expansion.py to oid_hierarchical_labels_expansion.cpython-38.pyc\n",
      "byte-compiling build\\bdist.win-amd64\\egg\\object_detection\\dataset_tools\\oid_hierarchical_labels_expansion_test.py to oid_hierarchical_labels_expansion_test.cpython-38.pyc\n",
      "byte-compiling build\\bdist.win-amd64\\egg\\object_detection\\dataset_tools\\oid_tfrecord_creation.py to oid_tfrecord_creation.cpython-38.pyc\n",
      "byte-compiling build\\bdist.win-amd64\\egg\\object_detection\\dataset_tools\\oid_tfrecord_creation_test.py to oid_tfrecord_creation_test.cpython-38.pyc\n",
      "byte-compiling build\\bdist.win-amd64\\egg\\object_detection\\dataset_tools\\seq_example_util.py to seq_example_util.cpython-38.pyc\n",
      "byte-compiling build\\bdist.win-amd64\\egg\\object_detection\\dataset_tools\\seq_example_util_test.py to seq_example_util_test.cpython-38.pyc\n",
      "byte-compiling build\\bdist.win-amd64\\egg\\object_detection\\dataset_tools\\tf_record_creation_util.py to tf_record_creation_util.cpython-38.pyc\n",
      "byte-compiling build\\bdist.win-amd64\\egg\\object_detection\\dataset_tools\\tf_record_creation_util_test.py to tf_record_creation_util_test.cpython-38.pyc\n",
      "byte-compiling build\\bdist.win-amd64\\egg\\object_detection\\dataset_tools\\__init__.py to __init__.cpython-38.pyc\n",
      "byte-compiling build\\bdist.win-amd64\\egg\\object_detection\\data_decoders\\tf_example_decoder.py to tf_example_decoder.cpython-38.pyc\n",
      "byte-compiling build\\bdist.win-amd64\\egg\\object_detection\\data_decoders\\tf_example_decoder_test.py to tf_example_decoder_test.cpython-38.pyc\n",
      "byte-compiling build\\bdist.win-amd64\\egg\\object_detection\\data_decoders\\tf_sequence_example_decoder.py to tf_sequence_example_decoder.cpython-38.pyc\n",
      "byte-compiling build\\bdist.win-amd64\\egg\\object_detection\\data_decoders\\tf_sequence_example_decoder_test.py to tf_sequence_example_decoder_test.cpython-38.pyc\n",
      "byte-compiling build\\bdist.win-amd64\\egg\\object_detection\\data_decoders\\__init__.py to __init__.cpython-38.pyc\n",
      "byte-compiling build\\bdist.win-amd64\\egg\\object_detection\\eval_util.py to eval_util.cpython-38.pyc\n",
      "byte-compiling build\\bdist.win-amd64\\egg\\object_detection\\eval_util_test.py to eval_util_test.cpython-38.pyc\n",
      "byte-compiling build\\bdist.win-amd64\\egg\\object_detection\\exporter.py to exporter.cpython-38.pyc\n",
      "byte-compiling build\\bdist.win-amd64\\egg\\object_detection\\exporter_lib_tf2_test.py to exporter_lib_tf2_test.cpython-38.pyc\n",
      "byte-compiling build\\bdist.win-amd64\\egg\\object_detection\\exporter_lib_v2.py to exporter_lib_v2.cpython-38.pyc\n",
      "byte-compiling build\\bdist.win-amd64\\egg\\object_detection\\exporter_main_v2.py to exporter_main_v2.cpython-38.pyc\n",
      "byte-compiling build\\bdist.win-amd64\\egg\\object_detection\\exporter_tf1_test.py to exporter_tf1_test.cpython-38.pyc\n",
      "byte-compiling build\\bdist.win-amd64\\egg\\object_detection\\export_inference_graph.py to export_inference_graph.cpython-38.pyc\n",
      "byte-compiling build\\bdist.win-amd64\\egg\\object_detection\\export_tflite_graph_lib_tf2.py to export_tflite_graph_lib_tf2.cpython-38.pyc\n",
      "byte-compiling build\\bdist.win-amd64\\egg\\object_detection\\export_tflite_graph_lib_tf2_test.py to export_tflite_graph_lib_tf2_test.cpython-38.pyc\n",
      "byte-compiling build\\bdist.win-amd64\\egg\\object_detection\\export_tflite_graph_tf2.py to export_tflite_graph_tf2.cpython-38.pyc\n",
      "byte-compiling build\\bdist.win-amd64\\egg\\object_detection\\export_tflite_ssd_graph.py to export_tflite_ssd_graph.cpython-38.pyc\n",
      "byte-compiling build\\bdist.win-amd64\\egg\\object_detection\\export_tflite_ssd_graph_lib.py to export_tflite_ssd_graph_lib.cpython-38.pyc\n",
      "byte-compiling build\\bdist.win-amd64\\egg\\object_detection\\export_tflite_ssd_graph_lib_tf1_test.py to export_tflite_ssd_graph_lib_tf1_test.cpython-38.pyc\n",
      "byte-compiling build\\bdist.win-amd64\\egg\\object_detection\\inference\\detection_inference.py to detection_inference.cpython-38.pyc\n",
      "byte-compiling build\\bdist.win-amd64\\egg\\object_detection\\inference\\detection_inference_tf1_test.py to detection_inference_tf1_test.cpython-38.pyc\n",
      "byte-compiling build\\bdist.win-amd64\\egg\\object_detection\\inference\\infer_detections.py to infer_detections.cpython-38.pyc\n",
      "byte-compiling build\\bdist.win-amd64\\egg\\object_detection\\inference\\__init__.py to __init__.cpython-38.pyc\n",
      "byte-compiling build\\bdist.win-amd64\\egg\\object_detection\\inputs.py to inputs.cpython-38.pyc\n",
      "byte-compiling build\\bdist.win-amd64\\egg\\object_detection\\inputs_test.py to inputs_test.cpython-38.pyc\n",
      "byte-compiling build\\bdist.win-amd64\\egg\\object_detection\\legacy\\eval.py to eval.cpython-38.pyc\n",
      "byte-compiling build\\bdist.win-amd64\\egg\\object_detection\\legacy\\evaluator.py to evaluator.cpython-38.pyc\n",
      "byte-compiling build\\bdist.win-amd64\\egg\\object_detection\\legacy\\train.py to train.cpython-38.pyc\n",
      "byte-compiling build\\bdist.win-amd64\\egg\\object_detection\\legacy\\trainer.py to trainer.cpython-38.pyc\n",
      "byte-compiling build\\bdist.win-amd64\\egg\\object_detection\\legacy\\trainer_tf1_test.py to trainer_tf1_test.cpython-38.pyc\n",
      "byte-compiling build\\bdist.win-amd64\\egg\\object_detection\\legacy\\__init__.py to __init__.cpython-38.pyc\n",
      "byte-compiling build\\bdist.win-amd64\\egg\\object_detection\\matchers\\argmax_matcher.py to argmax_matcher.cpython-38.pyc\n",
      "byte-compiling build\\bdist.win-amd64\\egg\\object_detection\\matchers\\argmax_matcher_test.py to argmax_matcher_test.cpython-38.pyc\n",
      "byte-compiling build\\bdist.win-amd64\\egg\\object_detection\\matchers\\bipartite_matcher.py to bipartite_matcher.cpython-38.pyc\n",
      "byte-compiling build\\bdist.win-amd64\\egg\\object_detection\\matchers\\bipartite_matcher_tf1_test.py to bipartite_matcher_tf1_test.cpython-38.pyc\n",
      "byte-compiling build\\bdist.win-amd64\\egg\\object_detection\\matchers\\hungarian_matcher.py to hungarian_matcher.cpython-38.pyc\n",
      "byte-compiling build\\bdist.win-amd64\\egg\\object_detection\\matchers\\hungarian_matcher_tf2_test.py to hungarian_matcher_tf2_test.cpython-38.pyc\n",
      "byte-compiling build\\bdist.win-amd64\\egg\\object_detection\\matchers\\__init__.py to __init__.cpython-38.pyc\n",
      "byte-compiling build\\bdist.win-amd64\\egg\\object_detection\\meta_architectures\\center_net_meta_arch.py to center_net_meta_arch.cpython-38.pyc\n",
      "byte-compiling build\\bdist.win-amd64\\egg\\object_detection\\meta_architectures\\center_net_meta_arch_tf2_test.py to center_net_meta_arch_tf2_test.cpython-38.pyc\n",
      "byte-compiling build\\bdist.win-amd64\\egg\\object_detection\\meta_architectures\\context_rcnn_lib.py to context_rcnn_lib.cpython-38.pyc\n",
      "byte-compiling build\\bdist.win-amd64\\egg\\object_detection\\meta_architectures\\context_rcnn_lib_tf1_test.py to context_rcnn_lib_tf1_test.cpython-38.pyc\n",
      "byte-compiling build\\bdist.win-amd64\\egg\\object_detection\\meta_architectures\\context_rcnn_lib_tf2.py to context_rcnn_lib_tf2.cpython-38.pyc\n",
      "byte-compiling build\\bdist.win-amd64\\egg\\object_detection\\meta_architectures\\context_rcnn_lib_tf2_test.py to context_rcnn_lib_tf2_test.cpython-38.pyc\n",
      "byte-compiling build\\bdist.win-amd64\\egg\\object_detection\\meta_architectures\\context_rcnn_meta_arch.py to context_rcnn_meta_arch.cpython-38.pyc\n",
      "byte-compiling build\\bdist.win-amd64\\egg\\object_detection\\meta_architectures\\context_rcnn_meta_arch_test.py to context_rcnn_meta_arch_test.cpython-38.pyc\n",
      "byte-compiling build\\bdist.win-amd64\\egg\\object_detection\\meta_architectures\\deepmac_meta_arch.py to deepmac_meta_arch.cpython-38.pyc\n",
      "byte-compiling build\\bdist.win-amd64\\egg\\object_detection\\meta_architectures\\deepmac_meta_arch_test.py to deepmac_meta_arch_test.cpython-38.pyc\n",
      "byte-compiling build\\bdist.win-amd64\\egg\\object_detection\\meta_architectures\\faster_rcnn_meta_arch.py to faster_rcnn_meta_arch.cpython-38.pyc\n",
      "byte-compiling build\\bdist.win-amd64\\egg\\object_detection\\meta_architectures\\faster_rcnn_meta_arch_test.py to faster_rcnn_meta_arch_test.cpython-38.pyc\n",
      "byte-compiling build\\bdist.win-amd64\\egg\\object_detection\\meta_architectures\\faster_rcnn_meta_arch_test_lib.py to faster_rcnn_meta_arch_test_lib.cpython-38.pyc\n",
      "byte-compiling build\\bdist.win-amd64\\egg\\object_detection\\meta_architectures\\rfcn_meta_arch.py to rfcn_meta_arch.cpython-38.pyc\n",
      "byte-compiling build\\bdist.win-amd64\\egg\\object_detection\\meta_architectures\\rfcn_meta_arch_test.py to rfcn_meta_arch_test.cpython-38.pyc\n",
      "byte-compiling build\\bdist.win-amd64\\egg\\object_detection\\meta_architectures\\ssd_meta_arch.py to ssd_meta_arch.cpython-38.pyc\n",
      "byte-compiling build\\bdist.win-amd64\\egg\\object_detection\\meta_architectures\\ssd_meta_arch_test.py to ssd_meta_arch_test.cpython-38.pyc\n",
      "byte-compiling build\\bdist.win-amd64\\egg\\object_detection\\meta_architectures\\ssd_meta_arch_test_lib.py to ssd_meta_arch_test_lib.cpython-38.pyc\n",
      "byte-compiling build\\bdist.win-amd64\\egg\\object_detection\\meta_architectures\\__init__.py to __init__.cpython-38.pyc\n",
      "byte-compiling build\\bdist.win-amd64\\egg\\object_detection\\metrics\\calibration_evaluation.py to calibration_evaluation.cpython-38.pyc\n",
      "byte-compiling build\\bdist.win-amd64\\egg\\object_detection\\metrics\\calibration_evaluation_tf1_test.py to calibration_evaluation_tf1_test.cpython-38.pyc\n",
      "byte-compiling build\\bdist.win-amd64\\egg\\object_detection\\metrics\\calibration_metrics.py to calibration_metrics.cpython-38.pyc\n",
      "byte-compiling build\\bdist.win-amd64\\egg\\object_detection\\metrics\\calibration_metrics_tf1_test.py to calibration_metrics_tf1_test.cpython-38.pyc\n",
      "byte-compiling build\\bdist.win-amd64\\egg\\object_detection\\metrics\\coco_evaluation.py to coco_evaluation.cpython-38.pyc\n",
      "byte-compiling build\\bdist.win-amd64\\egg\\object_detection\\metrics\\coco_evaluation_test.py to coco_evaluation_test.cpython-38.pyc\n",
      "byte-compiling build\\bdist.win-amd64\\egg\\object_detection\\metrics\\coco_tools.py to coco_tools.cpython-38.pyc\n",
      "byte-compiling build\\bdist.win-amd64\\egg\\object_detection\\metrics\\coco_tools_test.py to coco_tools_test.cpython-38.pyc\n",
      "byte-compiling build\\bdist.win-amd64\\egg\\object_detection\\metrics\\io_utils.py to io_utils.cpython-38.pyc\n",
      "byte-compiling build\\bdist.win-amd64\\egg\\object_detection\\metrics\\lvis_evaluation.py to lvis_evaluation.cpython-38.pyc\n",
      "byte-compiling build\\bdist.win-amd64\\egg\\object_detection\\metrics\\lvis_evaluation_test.py to lvis_evaluation_test.cpython-38.pyc\n",
      "byte-compiling build\\bdist.win-amd64\\egg\\object_detection\\metrics\\lvis_tools.py to lvis_tools.cpython-38.pyc\n",
      "byte-compiling build\\bdist.win-amd64\\egg\\object_detection\\metrics\\lvis_tools_test.py to lvis_tools_test.cpython-38.pyc\n",
      "byte-compiling build\\bdist.win-amd64\\egg\\object_detection\\metrics\\offline_eval_map_corloc.py to offline_eval_map_corloc.cpython-38.pyc\n",
      "byte-compiling build\\bdist.win-amd64\\egg\\object_detection\\metrics\\offline_eval_map_corloc_test.py to offline_eval_map_corloc_test.cpython-38.pyc\n",
      "byte-compiling build\\bdist.win-amd64\\egg\\object_detection\\metrics\\oid_challenge_evaluation.py to oid_challenge_evaluation.cpython-38.pyc\n",
      "byte-compiling build\\bdist.win-amd64\\egg\\object_detection\\metrics\\oid_challenge_evaluation_utils.py to oid_challenge_evaluation_utils.cpython-38.pyc\n",
      "byte-compiling build\\bdist.win-amd64\\egg\\object_detection\\metrics\\oid_challenge_evaluation_utils_test.py to oid_challenge_evaluation_utils_test.cpython-38.pyc\n",
      "byte-compiling build\\bdist.win-amd64\\egg\\object_detection\\metrics\\oid_vrd_challenge_evaluation.py to oid_vrd_challenge_evaluation.cpython-38.pyc\n",
      "byte-compiling build\\bdist.win-amd64\\egg\\object_detection\\metrics\\oid_vrd_challenge_evaluation_utils.py to oid_vrd_challenge_evaluation_utils.cpython-38.pyc\n",
      "byte-compiling build\\bdist.win-amd64\\egg\\object_detection\\metrics\\oid_vrd_challenge_evaluation_utils_test.py to oid_vrd_challenge_evaluation_utils_test.cpython-38.pyc\n",
      "byte-compiling build\\bdist.win-amd64\\egg\\object_detection\\metrics\\tf_example_parser.py to tf_example_parser.cpython-38.pyc\n",
      "byte-compiling build\\bdist.win-amd64\\egg\\object_detection\\metrics\\tf_example_parser_test.py to tf_example_parser_test.cpython-38.pyc\n",
      "byte-compiling build\\bdist.win-amd64\\egg\\object_detection\\metrics\\__init__.py to __init__.cpython-38.pyc\n",
      "byte-compiling build\\bdist.win-amd64\\egg\\object_detection\\models\\bidirectional_feature_pyramid_generators.py to bidirectional_feature_pyramid_generators.cpython-38.pyc\n",
      "byte-compiling build\\bdist.win-amd64\\egg\\object_detection\\models\\bidirectional_feature_pyramid_generators_tf2_test.py to bidirectional_feature_pyramid_generators_tf2_test.cpython-38.pyc\n",
      "byte-compiling build\\bdist.win-amd64\\egg\\object_detection\\models\\center_net_hourglass_feature_extractor.py to center_net_hourglass_feature_extractor.cpython-38.pyc\n",
      "byte-compiling build\\bdist.win-amd64\\egg\\object_detection\\models\\center_net_hourglass_feature_extractor_tf2_test.py to center_net_hourglass_feature_extractor_tf2_test.cpython-38.pyc\n",
      "byte-compiling build\\bdist.win-amd64\\egg\\object_detection\\models\\center_net_mobilenet_v2_feature_extractor.py to center_net_mobilenet_v2_feature_extractor.cpython-38.pyc\n",
      "byte-compiling build\\bdist.win-amd64\\egg\\object_detection\\models\\center_net_mobilenet_v2_feature_extractor_tf2_test.py to center_net_mobilenet_v2_feature_extractor_tf2_test.cpython-38.pyc\n",
      "byte-compiling build\\bdist.win-amd64\\egg\\object_detection\\models\\center_net_mobilenet_v2_fpn_feature_extractor.py to center_net_mobilenet_v2_fpn_feature_extractor.cpython-38.pyc\n",
      "byte-compiling build\\bdist.win-amd64\\egg\\object_detection\\models\\center_net_mobilenet_v2_fpn_feature_extractor_tf2_test.py to center_net_mobilenet_v2_fpn_feature_extractor_tf2_test.cpython-38.pyc\n",
      "byte-compiling build\\bdist.win-amd64\\egg\\object_detection\\models\\center_net_resnet_feature_extractor.py to center_net_resnet_feature_extractor.cpython-38.pyc\n",
      "byte-compiling build\\bdist.win-amd64\\egg\\object_detection\\models\\center_net_resnet_feature_extractor_tf2_test.py to center_net_resnet_feature_extractor_tf2_test.cpython-38.pyc\n",
      "byte-compiling build\\bdist.win-amd64\\egg\\object_detection\\models\\center_net_resnet_v1_fpn_feature_extractor.py to center_net_resnet_v1_fpn_feature_extractor.cpython-38.pyc\n",
      "byte-compiling build\\bdist.win-amd64\\egg\\object_detection\\models\\center_net_resnet_v1_fpn_feature_extractor_tf2_test.py to center_net_resnet_v1_fpn_feature_extractor_tf2_test.cpython-38.pyc\n",
      "byte-compiling build\\bdist.win-amd64\\egg\\object_detection\\models\\embedded_ssd_mobilenet_v1_feature_extractor.py to embedded_ssd_mobilenet_v1_feature_extractor.cpython-38.pyc\n",
      "byte-compiling build\\bdist.win-amd64\\egg\\object_detection\\models\\embedded_ssd_mobilenet_v1_feature_extractor_tf1_test.py to embedded_ssd_mobilenet_v1_feature_extractor_tf1_test.cpython-38.pyc\n",
      "byte-compiling build\\bdist.win-amd64\\egg\\object_detection\\models\\faster_rcnn_inception_resnet_v2_feature_extractor.py to faster_rcnn_inception_resnet_v2_feature_extractor.cpython-38.pyc\n",
      "byte-compiling build\\bdist.win-amd64\\egg\\object_detection\\models\\faster_rcnn_inception_resnet_v2_feature_extractor_tf1_test.py to faster_rcnn_inception_resnet_v2_feature_extractor_tf1_test.cpython-38.pyc\n",
      "byte-compiling build\\bdist.win-amd64\\egg\\object_detection\\models\\faster_rcnn_inception_resnet_v2_keras_feature_extractor.py to faster_rcnn_inception_resnet_v2_keras_feature_extractor.cpython-38.pyc\n",
      "byte-compiling build\\bdist.win-amd64\\egg\\object_detection\\models\\faster_rcnn_inception_resnet_v2_keras_feature_extractor_tf2_test.py to faster_rcnn_inception_resnet_v2_keras_feature_extractor_tf2_test.cpython-38.pyc\n",
      "byte-compiling build\\bdist.win-amd64\\egg\\object_detection\\models\\faster_rcnn_inception_v2_feature_extractor.py to faster_rcnn_inception_v2_feature_extractor.cpython-38.pyc\n",
      "byte-compiling build\\bdist.win-amd64\\egg\\object_detection\\models\\faster_rcnn_inception_v2_feature_extractor_tf1_test.py to faster_rcnn_inception_v2_feature_extractor_tf1_test.cpython-38.pyc\n",
      "byte-compiling build\\bdist.win-amd64\\egg\\object_detection\\models\\faster_rcnn_mobilenet_v1_feature_extractor.py to faster_rcnn_mobilenet_v1_feature_extractor.cpython-38.pyc\n",
      "byte-compiling build\\bdist.win-amd64\\egg\\object_detection\\models\\faster_rcnn_mobilenet_v1_feature_extractor_tf1_test.py to faster_rcnn_mobilenet_v1_feature_extractor_tf1_test.cpython-38.pyc\n",
      "byte-compiling build\\bdist.win-amd64\\egg\\object_detection\\models\\faster_rcnn_nas_feature_extractor.py to faster_rcnn_nas_feature_extractor.cpython-38.pyc\n",
      "byte-compiling build\\bdist.win-amd64\\egg\\object_detection\\models\\faster_rcnn_nas_feature_extractor_tf1_test.py to faster_rcnn_nas_feature_extractor_tf1_test.cpython-38.pyc\n",
      "byte-compiling build\\bdist.win-amd64\\egg\\object_detection\\models\\faster_rcnn_pnas_feature_extractor.py to faster_rcnn_pnas_feature_extractor.cpython-38.pyc\n",
      "byte-compiling build\\bdist.win-amd64\\egg\\object_detection\\models\\faster_rcnn_pnas_feature_extractor_tf1_test.py to faster_rcnn_pnas_feature_extractor_tf1_test.cpython-38.pyc\n",
      "byte-compiling build\\bdist.win-amd64\\egg\\object_detection\\models\\faster_rcnn_resnet_keras_feature_extractor.py to faster_rcnn_resnet_keras_feature_extractor.cpython-38.pyc\n",
      "byte-compiling build\\bdist.win-amd64\\egg\\object_detection\\models\\faster_rcnn_resnet_keras_feature_extractor_tf2_test.py to faster_rcnn_resnet_keras_feature_extractor_tf2_test.cpython-38.pyc\n",
      "byte-compiling build\\bdist.win-amd64\\egg\\object_detection\\models\\faster_rcnn_resnet_v1_feature_extractor.py to faster_rcnn_resnet_v1_feature_extractor.cpython-38.pyc\n",
      "byte-compiling build\\bdist.win-amd64\\egg\\object_detection\\models\\faster_rcnn_resnet_v1_feature_extractor_tf1_test.py to faster_rcnn_resnet_v1_feature_extractor_tf1_test.cpython-38.pyc\n",
      "byte-compiling build\\bdist.win-amd64\\egg\\object_detection\\models\\faster_rcnn_resnet_v1_fpn_keras_feature_extractor.py to faster_rcnn_resnet_v1_fpn_keras_feature_extractor.cpython-38.pyc\n",
      "byte-compiling build\\bdist.win-amd64\\egg\\object_detection\\models\\faster_rcnn_resnet_v1_fpn_keras_feature_extractor_tf2_test.py to faster_rcnn_resnet_v1_fpn_keras_feature_extractor_tf2_test.cpython-38.pyc\n",
      "byte-compiling build\\bdist.win-amd64\\egg\\object_detection\\models\\feature_map_generators.py to feature_map_generators.cpython-38.pyc\n",
      "byte-compiling build\\bdist.win-amd64\\egg\\object_detection\\models\\feature_map_generators_test.py to feature_map_generators_test.cpython-38.pyc\n",
      "byte-compiling build\\bdist.win-amd64\\egg\\object_detection\\models\\keras_models\\convert_keras_models.py to convert_keras_models.cpython-38.pyc\n",
      "byte-compiling build\\bdist.win-amd64\\egg\\object_detection\\models\\keras_models\\hourglass_network.py to hourglass_network.cpython-38.pyc\n",
      "byte-compiling build\\bdist.win-amd64\\egg\\object_detection\\models\\keras_models\\hourglass_network_tf2_test.py to hourglass_network_tf2_test.cpython-38.pyc\n",
      "byte-compiling build\\bdist.win-amd64\\egg\\object_detection\\models\\keras_models\\inception_resnet_v2.py to inception_resnet_v2.cpython-38.pyc\n",
      "byte-compiling build\\bdist.win-amd64\\egg\\object_detection\\models\\keras_models\\inception_resnet_v2_tf2_test.py to inception_resnet_v2_tf2_test.cpython-38.pyc\n",
      "byte-compiling build\\bdist.win-amd64\\egg\\object_detection\\models\\keras_models\\mobilenet_v1.py to mobilenet_v1.cpython-38.pyc\n",
      "byte-compiling build\\bdist.win-amd64\\egg\\object_detection\\models\\keras_models\\mobilenet_v1_tf2_test.py to mobilenet_v1_tf2_test.cpython-38.pyc\n",
      "byte-compiling build\\bdist.win-amd64\\egg\\object_detection\\models\\keras_models\\mobilenet_v2.py to mobilenet_v2.cpython-38.pyc\n",
      "byte-compiling build\\bdist.win-amd64\\egg\\object_detection\\models\\keras_models\\mobilenet_v2_tf2_test.py to mobilenet_v2_tf2_test.cpython-38.pyc\n",
      "byte-compiling build\\bdist.win-amd64\\egg\\object_detection\\models\\keras_models\\model_utils.py to model_utils.cpython-38.pyc\n",
      "byte-compiling build\\bdist.win-amd64\\egg\\object_detection\\models\\keras_models\\nonlocal_block.py to nonlocal_block.cpython-38.pyc\n",
      "byte-compiling build\\bdist.win-amd64\\egg\\object_detection\\models\\keras_models\\nonlocal_block_tf2_test.py to nonlocal_block_tf2_test.cpython-38.pyc\n",
      "byte-compiling build\\bdist.win-amd64\\egg\\object_detection\\models\\keras_models\\resnet_v1.py to resnet_v1.cpython-38.pyc\n",
      "byte-compiling build\\bdist.win-amd64\\egg\\object_detection\\models\\keras_models\\resnet_v1_tf2_test.py to resnet_v1_tf2_test.cpython-38.pyc\n",
      "byte-compiling build\\bdist.win-amd64\\egg\\object_detection\\models\\keras_models\\test_utils.py to test_utils.cpython-38.pyc\n",
      "byte-compiling build\\bdist.win-amd64\\egg\\object_detection\\models\\keras_models\\__init__.py to __init__.cpython-38.pyc\n",
      "byte-compiling build\\bdist.win-amd64\\egg\\object_detection\\models\\ssd_efficientnet_bifpn_feature_extractor.py to ssd_efficientnet_bifpn_feature_extractor.cpython-38.pyc\n",
      "byte-compiling build\\bdist.win-amd64\\egg\\object_detection\\models\\ssd_efficientnet_bifpn_feature_extractor_tf2_test.py to ssd_efficientnet_bifpn_feature_extractor_tf2_test.cpython-38.pyc\n",
      "byte-compiling build\\bdist.win-amd64\\egg\\object_detection\\models\\ssd_feature_extractor_test.py to ssd_feature_extractor_test.cpython-38.pyc\n",
      "byte-compiling build\\bdist.win-amd64\\egg\\object_detection\\models\\ssd_inception_v2_feature_extractor.py to ssd_inception_v2_feature_extractor.cpython-38.pyc\n",
      "byte-compiling build\\bdist.win-amd64\\egg\\object_detection\\models\\ssd_inception_v2_feature_extractor_tf1_test.py to ssd_inception_v2_feature_extractor_tf1_test.cpython-38.pyc\n",
      "byte-compiling build\\bdist.win-amd64\\egg\\object_detection\\models\\ssd_inception_v3_feature_extractor.py to ssd_inception_v3_feature_extractor.cpython-38.pyc\n",
      "byte-compiling build\\bdist.win-amd64\\egg\\object_detection\\models\\ssd_inception_v3_feature_extractor_tf1_test.py to ssd_inception_v3_feature_extractor_tf1_test.cpython-38.pyc\n",
      "byte-compiling build\\bdist.win-amd64\\egg\\object_detection\\models\\ssd_mobiledet_feature_extractor.py to ssd_mobiledet_feature_extractor.cpython-38.pyc\n",
      "byte-compiling build\\bdist.win-amd64\\egg\\object_detection\\models\\ssd_mobiledet_feature_extractor_tf1_test.py to ssd_mobiledet_feature_extractor_tf1_test.cpython-38.pyc\n",
      "byte-compiling build\\bdist.win-amd64\\egg\\object_detection\\models\\ssd_mobilenet_edgetpu_feature_extractor.py to ssd_mobilenet_edgetpu_feature_extractor.cpython-38.pyc\n",
      "byte-compiling build\\bdist.win-amd64\\egg\\object_detection\\models\\ssd_mobilenet_edgetpu_feature_extractor_testbase.py to ssd_mobilenet_edgetpu_feature_extractor_testbase.cpython-38.pyc\n",
      "byte-compiling build\\bdist.win-amd64\\egg\\object_detection\\models\\ssd_mobilenet_edgetpu_feature_extractor_tf1_test.py to ssd_mobilenet_edgetpu_feature_extractor_tf1_test.cpython-38.pyc\n",
      "byte-compiling build\\bdist.win-amd64\\egg\\object_detection\\models\\ssd_mobilenet_v1_feature_extractor.py to ssd_mobilenet_v1_feature_extractor.cpython-38.pyc\n",
      "byte-compiling build\\bdist.win-amd64\\egg\\object_detection\\models\\ssd_mobilenet_v1_feature_extractor_tf1_test.py to ssd_mobilenet_v1_feature_extractor_tf1_test.cpython-38.pyc\n",
      "byte-compiling build\\bdist.win-amd64\\egg\\object_detection\\models\\ssd_mobilenet_v1_feature_extractor_tf2_test.py to ssd_mobilenet_v1_feature_extractor_tf2_test.cpython-38.pyc\n",
      "byte-compiling build\\bdist.win-amd64\\egg\\object_detection\\models\\ssd_mobilenet_v1_fpn_feature_extractor.py to ssd_mobilenet_v1_fpn_feature_extractor.cpython-38.pyc\n",
      "byte-compiling build\\bdist.win-amd64\\egg\\object_detection\\models\\ssd_mobilenet_v1_fpn_feature_extractor_tf1_test.py to ssd_mobilenet_v1_fpn_feature_extractor_tf1_test.cpython-38.pyc\n",
      "byte-compiling build\\bdist.win-amd64\\egg\\object_detection\\models\\ssd_mobilenet_v1_fpn_feature_extractor_tf2_test.py to ssd_mobilenet_v1_fpn_feature_extractor_tf2_test.cpython-38.pyc\n",
      "byte-compiling build\\bdist.win-amd64\\egg\\object_detection\\models\\ssd_mobilenet_v1_fpn_keras_feature_extractor.py to ssd_mobilenet_v1_fpn_keras_feature_extractor.cpython-38.pyc\n",
      "byte-compiling build\\bdist.win-amd64\\egg\\object_detection\\models\\ssd_mobilenet_v1_keras_feature_extractor.py to ssd_mobilenet_v1_keras_feature_extractor.cpython-38.pyc\n",
      "byte-compiling build\\bdist.win-amd64\\egg\\object_detection\\models\\ssd_mobilenet_v1_ppn_feature_extractor.py to ssd_mobilenet_v1_ppn_feature_extractor.cpython-38.pyc\n",
      "byte-compiling build\\bdist.win-amd64\\egg\\object_detection\\models\\ssd_mobilenet_v1_ppn_feature_extractor_tf1_test.py to ssd_mobilenet_v1_ppn_feature_extractor_tf1_test.cpython-38.pyc\n",
      "byte-compiling build\\bdist.win-amd64\\egg\\object_detection\\models\\ssd_mobilenet_v2_feature_extractor.py to ssd_mobilenet_v2_feature_extractor.cpython-38.pyc\n",
      "byte-compiling build\\bdist.win-amd64\\egg\\object_detection\\models\\ssd_mobilenet_v2_feature_extractor_tf1_test.py to ssd_mobilenet_v2_feature_extractor_tf1_test.cpython-38.pyc\n",
      "byte-compiling build\\bdist.win-amd64\\egg\\object_detection\\models\\ssd_mobilenet_v2_feature_extractor_tf2_test.py to ssd_mobilenet_v2_feature_extractor_tf2_test.cpython-38.pyc\n",
      "byte-compiling build\\bdist.win-amd64\\egg\\object_detection\\models\\ssd_mobilenet_v2_fpn_feature_extractor.py to ssd_mobilenet_v2_fpn_feature_extractor.cpython-38.pyc\n",
      "byte-compiling build\\bdist.win-amd64\\egg\\object_detection\\models\\ssd_mobilenet_v2_fpn_feature_extractor_tf1_test.py to ssd_mobilenet_v2_fpn_feature_extractor_tf1_test.cpython-38.pyc\n",
      "byte-compiling build\\bdist.win-amd64\\egg\\object_detection\\models\\ssd_mobilenet_v2_fpn_feature_extractor_tf2_test.py to ssd_mobilenet_v2_fpn_feature_extractor_tf2_test.cpython-38.pyc\n",
      "byte-compiling build\\bdist.win-amd64\\egg\\object_detection\\models\\ssd_mobilenet_v2_fpn_keras_feature_extractor.py to ssd_mobilenet_v2_fpn_keras_feature_extractor.cpython-38.pyc\n",
      "byte-compiling build\\bdist.win-amd64\\egg\\object_detection\\models\\ssd_mobilenet_v2_keras_feature_extractor.py to ssd_mobilenet_v2_keras_feature_extractor.cpython-38.pyc\n",
      "byte-compiling build\\bdist.win-amd64\\egg\\object_detection\\models\\ssd_mobilenet_v2_mnasfpn_feature_extractor.py to ssd_mobilenet_v2_mnasfpn_feature_extractor.cpython-38.pyc\n",
      "byte-compiling build\\bdist.win-amd64\\egg\\object_detection\\models\\ssd_mobilenet_v2_mnasfpn_feature_extractor_tf1_test.py to ssd_mobilenet_v2_mnasfpn_feature_extractor_tf1_test.cpython-38.pyc\n",
      "byte-compiling build\\bdist.win-amd64\\egg\\object_detection\\models\\ssd_mobilenet_v3_feature_extractor.py to ssd_mobilenet_v3_feature_extractor.cpython-38.pyc\n",
      "byte-compiling build\\bdist.win-amd64\\egg\\object_detection\\models\\ssd_mobilenet_v3_feature_extractor_testbase.py to ssd_mobilenet_v3_feature_extractor_testbase.cpython-38.pyc\n",
      "byte-compiling build\\bdist.win-amd64\\egg\\object_detection\\models\\ssd_mobilenet_v3_feature_extractor_tf1_test.py to ssd_mobilenet_v3_feature_extractor_tf1_test.cpython-38.pyc\n",
      "byte-compiling build\\bdist.win-amd64\\egg\\object_detection\\models\\ssd_pnasnet_feature_extractor.py to ssd_pnasnet_feature_extractor.cpython-38.pyc\n",
      "byte-compiling build\\bdist.win-amd64\\egg\\object_detection\\models\\ssd_pnasnet_feature_extractor_tf1_test.py to ssd_pnasnet_feature_extractor_tf1_test.cpython-38.pyc\n",
      "byte-compiling build\\bdist.win-amd64\\egg\\object_detection\\models\\ssd_resnet_v1_fpn_feature_extractor.py to ssd_resnet_v1_fpn_feature_extractor.cpython-38.pyc\n",
      "byte-compiling build\\bdist.win-amd64\\egg\\object_detection\\models\\ssd_resnet_v1_fpn_feature_extractor_testbase.py to ssd_resnet_v1_fpn_feature_extractor_testbase.cpython-38.pyc\n",
      "byte-compiling build\\bdist.win-amd64\\egg\\object_detection\\models\\ssd_resnet_v1_fpn_feature_extractor_tf1_test.py to ssd_resnet_v1_fpn_feature_extractor_tf1_test.cpython-38.pyc\n",
      "byte-compiling build\\bdist.win-amd64\\egg\\object_detection\\models\\ssd_resnet_v1_fpn_feature_extractor_tf2_test.py to ssd_resnet_v1_fpn_feature_extractor_tf2_test.cpython-38.pyc\n",
      "byte-compiling build\\bdist.win-amd64\\egg\\object_detection\\models\\ssd_resnet_v1_fpn_keras_feature_extractor.py to ssd_resnet_v1_fpn_keras_feature_extractor.cpython-38.pyc\n",
      "byte-compiling build\\bdist.win-amd64\\egg\\object_detection\\models\\ssd_resnet_v1_ppn_feature_extractor.py to ssd_resnet_v1_ppn_feature_extractor.cpython-38.pyc\n",
      "byte-compiling build\\bdist.win-amd64\\egg\\object_detection\\models\\ssd_resnet_v1_ppn_feature_extractor_testbase.py to ssd_resnet_v1_ppn_feature_extractor_testbase.cpython-38.pyc\n",
      "byte-compiling build\\bdist.win-amd64\\egg\\object_detection\\models\\ssd_resnet_v1_ppn_feature_extractor_tf1_test.py to ssd_resnet_v1_ppn_feature_extractor_tf1_test.cpython-38.pyc\n",
      "byte-compiling build\\bdist.win-amd64\\egg\\object_detection\\models\\ssd_spaghettinet_feature_extractor.py to ssd_spaghettinet_feature_extractor.cpython-38.pyc\n",
      "byte-compiling build\\bdist.win-amd64\\egg\\object_detection\\models\\ssd_spaghettinet_feature_extractor_tf1_test.py to ssd_spaghettinet_feature_extractor_tf1_test.cpython-38.pyc\n",
      "byte-compiling build\\bdist.win-amd64\\egg\\object_detection\\models\\__init__.py to __init__.cpython-38.pyc\n",
      "byte-compiling build\\bdist.win-amd64\\egg\\object_detection\\model_hparams.py to model_hparams.cpython-38.pyc\n",
      "byte-compiling build\\bdist.win-amd64\\egg\\object_detection\\model_lib.py to model_lib.cpython-38.pyc\n",
      "byte-compiling build\\bdist.win-amd64\\egg\\object_detection\\model_lib_tf1_test.py to model_lib_tf1_test.cpython-38.pyc\n",
      "byte-compiling build\\bdist.win-amd64\\egg\\object_detection\\model_lib_tf2_test.py to model_lib_tf2_test.cpython-38.pyc\n",
      "byte-compiling build\\bdist.win-amd64\\egg\\object_detection\\model_lib_v2.py to model_lib_v2.cpython-38.pyc\n",
      "byte-compiling build\\bdist.win-amd64\\egg\\object_detection\\model_main.py to model_main.cpython-38.pyc\n",
      "byte-compiling build\\bdist.win-amd64\\egg\\object_detection\\model_main_tf2.py to model_main_tf2.cpython-38.pyc\n",
      "byte-compiling build\\bdist.win-amd64\\egg\\object_detection\\model_tpu_main.py to model_tpu_main.cpython-38.pyc\n",
      "byte-compiling build\\bdist.win-amd64\\egg\\object_detection\\predictors\\convolutional_box_predictor.py to convolutional_box_predictor.cpython-38.pyc\n",
      "byte-compiling build\\bdist.win-amd64\\egg\\object_detection\\predictors\\convolutional_box_predictor_tf1_test.py to convolutional_box_predictor_tf1_test.cpython-38.pyc\n",
      "byte-compiling build\\bdist.win-amd64\\egg\\object_detection\\predictors\\convolutional_keras_box_predictor.py to convolutional_keras_box_predictor.cpython-38.pyc\n",
      "byte-compiling build\\bdist.win-amd64\\egg\\object_detection\\predictors\\convolutional_keras_box_predictor_tf2_test.py to convolutional_keras_box_predictor_tf2_test.cpython-38.pyc\n",
      "byte-compiling build\\bdist.win-amd64\\egg\\object_detection\\predictors\\heads\\box_head.py to box_head.cpython-38.pyc\n",
      "byte-compiling build\\bdist.win-amd64\\egg\\object_detection\\predictors\\heads\\box_head_tf1_test.py to box_head_tf1_test.cpython-38.pyc\n",
      "byte-compiling build\\bdist.win-amd64\\egg\\object_detection\\predictors\\heads\\class_head.py to class_head.cpython-38.pyc\n",
      "byte-compiling build\\bdist.win-amd64\\egg\\object_detection\\predictors\\heads\\class_head_tf1_test.py to class_head_tf1_test.cpython-38.pyc\n",
      "byte-compiling build\\bdist.win-amd64\\egg\\object_detection\\predictors\\heads\\head.py to head.cpython-38.pyc\n",
      "byte-compiling build\\bdist.win-amd64\\egg\\object_detection\\predictors\\heads\\keras_box_head.py to keras_box_head.cpython-38.pyc\n",
      "byte-compiling build\\bdist.win-amd64\\egg\\object_detection\\predictors\\heads\\keras_box_head_tf2_test.py to keras_box_head_tf2_test.cpython-38.pyc\n",
      "byte-compiling build\\bdist.win-amd64\\egg\\object_detection\\predictors\\heads\\keras_class_head.py to keras_class_head.cpython-38.pyc\n",
      "byte-compiling build\\bdist.win-amd64\\egg\\object_detection\\predictors\\heads\\keras_class_head_tf2_test.py to keras_class_head_tf2_test.cpython-38.pyc\n",
      "byte-compiling build\\bdist.win-amd64\\egg\\object_detection\\predictors\\heads\\keras_mask_head.py to keras_mask_head.cpython-38.pyc\n",
      "byte-compiling build\\bdist.win-amd64\\egg\\object_detection\\predictors\\heads\\keras_mask_head_tf2_test.py to keras_mask_head_tf2_test.cpython-38.pyc\n",
      "byte-compiling build\\bdist.win-amd64\\egg\\object_detection\\predictors\\heads\\keypoint_head.py to keypoint_head.cpython-38.pyc\n",
      "byte-compiling build\\bdist.win-amd64\\egg\\object_detection\\predictors\\heads\\keypoint_head_tf1_test.py to keypoint_head_tf1_test.cpython-38.pyc\n",
      "byte-compiling build\\bdist.win-amd64\\egg\\object_detection\\predictors\\heads\\mask_head.py to mask_head.cpython-38.pyc\n",
      "byte-compiling build\\bdist.win-amd64\\egg\\object_detection\\predictors\\heads\\mask_head_tf1_test.py to mask_head_tf1_test.cpython-38.pyc\n",
      "byte-compiling build\\bdist.win-amd64\\egg\\object_detection\\predictors\\heads\\__init__.py to __init__.cpython-38.pyc\n",
      "byte-compiling build\\bdist.win-amd64\\egg\\object_detection\\predictors\\mask_rcnn_box_predictor.py to mask_rcnn_box_predictor.cpython-38.pyc\n",
      "byte-compiling build\\bdist.win-amd64\\egg\\object_detection\\predictors\\mask_rcnn_box_predictor_tf1_test.py to mask_rcnn_box_predictor_tf1_test.cpython-38.pyc\n",
      "byte-compiling build\\bdist.win-amd64\\egg\\object_detection\\predictors\\mask_rcnn_keras_box_predictor.py to mask_rcnn_keras_box_predictor.cpython-38.pyc\n",
      "byte-compiling build\\bdist.win-amd64\\egg\\object_detection\\predictors\\mask_rcnn_keras_box_predictor_tf2_test.py to mask_rcnn_keras_box_predictor_tf2_test.cpython-38.pyc\n",
      "byte-compiling build\\bdist.win-amd64\\egg\\object_detection\\predictors\\rfcn_box_predictor.py to rfcn_box_predictor.cpython-38.pyc\n",
      "byte-compiling build\\bdist.win-amd64\\egg\\object_detection\\predictors\\rfcn_box_predictor_tf1_test.py to rfcn_box_predictor_tf1_test.cpython-38.pyc\n",
      "byte-compiling build\\bdist.win-amd64\\egg\\object_detection\\predictors\\rfcn_keras_box_predictor.py to rfcn_keras_box_predictor.cpython-38.pyc\n",
      "byte-compiling build\\bdist.win-amd64\\egg\\object_detection\\predictors\\rfcn_keras_box_predictor_tf2_test.py to rfcn_keras_box_predictor_tf2_test.cpython-38.pyc\n",
      "byte-compiling build\\bdist.win-amd64\\egg\\object_detection\\predictors\\__init__.py to __init__.cpython-38.pyc\n",
      "byte-compiling build\\bdist.win-amd64\\egg\\object_detection\\protos\\anchor_generator_pb2.py to anchor_generator_pb2.cpython-38.pyc\n",
      "byte-compiling build\\bdist.win-amd64\\egg\\object_detection\\protos\\argmax_matcher_pb2.py to argmax_matcher_pb2.cpython-38.pyc\n",
      "byte-compiling build\\bdist.win-amd64\\egg\\object_detection\\protos\\bipartite_matcher_pb2.py to bipartite_matcher_pb2.cpython-38.pyc\n",
      "byte-compiling build\\bdist.win-amd64\\egg\\object_detection\\protos\\box_coder_pb2.py to box_coder_pb2.cpython-38.pyc\n",
      "byte-compiling build\\bdist.win-amd64\\egg\\object_detection\\protos\\box_predictor_pb2.py to box_predictor_pb2.cpython-38.pyc\n",
      "byte-compiling build\\bdist.win-amd64\\egg\\object_detection\\protos\\calibration_pb2.py to calibration_pb2.cpython-38.pyc\n",
      "byte-compiling build\\bdist.win-amd64\\egg\\object_detection\\protos\\center_net_pb2.py to center_net_pb2.cpython-38.pyc\n",
      "byte-compiling build\\bdist.win-amd64\\egg\\object_detection\\protos\\eval_pb2.py to eval_pb2.cpython-38.pyc\n",
      "byte-compiling build\\bdist.win-amd64\\egg\\object_detection\\protos\\faster_rcnn_box_coder_pb2.py to faster_rcnn_box_coder_pb2.cpython-38.pyc\n",
      "byte-compiling build\\bdist.win-amd64\\egg\\object_detection\\protos\\faster_rcnn_pb2.py to faster_rcnn_pb2.cpython-38.pyc\n",
      "byte-compiling build\\bdist.win-amd64\\egg\\object_detection\\protos\\flexible_grid_anchor_generator_pb2.py to flexible_grid_anchor_generator_pb2.cpython-38.pyc\n",
      "byte-compiling build\\bdist.win-amd64\\egg\\object_detection\\protos\\fpn_pb2.py to fpn_pb2.cpython-38.pyc\n",
      "byte-compiling build\\bdist.win-amd64\\egg\\object_detection\\protos\\graph_rewriter_pb2.py to graph_rewriter_pb2.cpython-38.pyc\n",
      "byte-compiling build\\bdist.win-amd64\\egg\\object_detection\\protos\\grid_anchor_generator_pb2.py to grid_anchor_generator_pb2.cpython-38.pyc\n",
      "byte-compiling build\\bdist.win-amd64\\egg\\object_detection\\protos\\hyperparams_pb2.py to hyperparams_pb2.cpython-38.pyc\n",
      "byte-compiling build\\bdist.win-amd64\\egg\\object_detection\\protos\\image_resizer_pb2.py to image_resizer_pb2.cpython-38.pyc\n",
      "byte-compiling build\\bdist.win-amd64\\egg\\object_detection\\protos\\input_reader_pb2.py to input_reader_pb2.cpython-38.pyc\n",
      "byte-compiling build\\bdist.win-amd64\\egg\\object_detection\\protos\\keypoint_box_coder_pb2.py to keypoint_box_coder_pb2.cpython-38.pyc\n",
      "byte-compiling build\\bdist.win-amd64\\egg\\object_detection\\protos\\losses_pb2.py to losses_pb2.cpython-38.pyc\n",
      "byte-compiling build\\bdist.win-amd64\\egg\\object_detection\\protos\\matcher_pb2.py to matcher_pb2.cpython-38.pyc\n",
      "byte-compiling build\\bdist.win-amd64\\egg\\object_detection\\protos\\mean_stddev_box_coder_pb2.py to mean_stddev_box_coder_pb2.cpython-38.pyc\n",
      "byte-compiling build\\bdist.win-amd64\\egg\\object_detection\\protos\\model_pb2.py to model_pb2.cpython-38.pyc\n",
      "byte-compiling build\\bdist.win-amd64\\egg\\object_detection\\protos\\multiscale_anchor_generator_pb2.py to multiscale_anchor_generator_pb2.cpython-38.pyc\n",
      "byte-compiling build\\bdist.win-amd64\\egg\\object_detection\\protos\\optimizer_pb2.py to optimizer_pb2.cpython-38.pyc\n",
      "byte-compiling build\\bdist.win-amd64\\egg\\object_detection\\protos\\pipeline_pb2.py to pipeline_pb2.cpython-38.pyc\n",
      "byte-compiling build\\bdist.win-amd64\\egg\\object_detection\\protos\\post_processing_pb2.py to post_processing_pb2.cpython-38.pyc\n",
      "byte-compiling build\\bdist.win-amd64\\egg\\object_detection\\protos\\preprocessor_pb2.py to preprocessor_pb2.cpython-38.pyc\n",
      "byte-compiling build\\bdist.win-amd64\\egg\\object_detection\\protos\\region_similarity_calculator_pb2.py to region_similarity_calculator_pb2.cpython-38.pyc\n",
      "byte-compiling build\\bdist.win-amd64\\egg\\object_detection\\protos\\square_box_coder_pb2.py to square_box_coder_pb2.cpython-38.pyc\n",
      "byte-compiling build\\bdist.win-amd64\\egg\\object_detection\\protos\\ssd_anchor_generator_pb2.py to ssd_anchor_generator_pb2.cpython-38.pyc\n",
      "byte-compiling build\\bdist.win-amd64\\egg\\object_detection\\protos\\ssd_pb2.py to ssd_pb2.cpython-38.pyc\n",
      "byte-compiling build\\bdist.win-amd64\\egg\\object_detection\\protos\\string_int_label_map_pb2.py to string_int_label_map_pb2.cpython-38.pyc\n",
      "byte-compiling build\\bdist.win-amd64\\egg\\object_detection\\protos\\target_assigner_pb2.py to target_assigner_pb2.cpython-38.pyc\n",
      "byte-compiling build\\bdist.win-amd64\\egg\\object_detection\\protos\\train_pb2.py to train_pb2.cpython-38.pyc\n",
      "byte-compiling build\\bdist.win-amd64\\egg\\object_detection\\protos\\__init__.py to __init__.cpython-38.pyc\n",
      "byte-compiling build\\bdist.win-amd64\\egg\\object_detection\\tpu_exporters\\export_saved_model_tpu.py to export_saved_model_tpu.cpython-38.pyc\n",
      "byte-compiling build\\bdist.win-amd64\\egg\\object_detection\\tpu_exporters\\export_saved_model_tpu_lib.py to export_saved_model_tpu_lib.cpython-38.pyc\n",
      "byte-compiling build\\bdist.win-amd64\\egg\\object_detection\\tpu_exporters\\export_saved_model_tpu_lib_tf1_test.py to export_saved_model_tpu_lib_tf1_test.cpython-38.pyc\n",
      "byte-compiling build\\bdist.win-amd64\\egg\\object_detection\\tpu_exporters\\faster_rcnn.py to faster_rcnn.cpython-38.pyc\n",
      "byte-compiling build\\bdist.win-amd64\\egg\\object_detection\\tpu_exporters\\ssd.py to ssd.cpython-38.pyc\n",
      "byte-compiling build\\bdist.win-amd64\\egg\\object_detection\\tpu_exporters\\testdata\\__init__.py to __init__.cpython-38.pyc\n",
      "byte-compiling build\\bdist.win-amd64\\egg\\object_detection\\tpu_exporters\\utils.py to utils.cpython-38.pyc\n",
      "byte-compiling build\\bdist.win-amd64\\egg\\object_detection\\tpu_exporters\\utils_test.py to utils_test.cpython-38.pyc\n",
      "byte-compiling build\\bdist.win-amd64\\egg\\object_detection\\tpu_exporters\\__init__.py to __init__.cpython-38.pyc\n",
      "byte-compiling build\\bdist.win-amd64\\egg\\object_detection\\utils\\autoaugment_utils.py to autoaugment_utils.cpython-38.pyc\n",
      "byte-compiling build\\bdist.win-amd64\\egg\\object_detection\\utils\\bifpn_utils.py to bifpn_utils.cpython-38.pyc\n",
      "byte-compiling build\\bdist.win-amd64\\egg\\object_detection\\utils\\category_util.py to category_util.cpython-38.pyc\n",
      "byte-compiling build\\bdist.win-amd64\\egg\\object_detection\\utils\\category_util_test.py to category_util_test.cpython-38.pyc\n",
      "byte-compiling build\\bdist.win-amd64\\egg\\object_detection\\utils\\colab_utils.py to colab_utils.cpython-38.pyc\n",
      "byte-compiling build\\bdist.win-amd64\\egg\\object_detection\\utils\\config_util.py to config_util.cpython-38.pyc\n",
      "byte-compiling build\\bdist.win-amd64\\egg\\object_detection\\utils\\config_util_test.py to config_util_test.cpython-38.pyc\n",
      "byte-compiling build\\bdist.win-amd64\\egg\\object_detection\\utils\\context_manager.py to context_manager.cpython-38.pyc\n",
      "byte-compiling build\\bdist.win-amd64\\egg\\object_detection\\utils\\context_manager_test.py to context_manager_test.cpython-38.pyc\n",
      "byte-compiling build\\bdist.win-amd64\\egg\\object_detection\\utils\\dataset_util.py to dataset_util.cpython-38.pyc\n",
      "byte-compiling build\\bdist.win-amd64\\egg\\object_detection\\utils\\dataset_util_test.py to dataset_util_test.cpython-38.pyc\n",
      "byte-compiling build\\bdist.win-amd64\\egg\\object_detection\\utils\\json_utils.py to json_utils.cpython-38.pyc\n",
      "byte-compiling build\\bdist.win-amd64\\egg\\object_detection\\utils\\json_utils_test.py to json_utils_test.cpython-38.pyc\n",
      "byte-compiling build\\bdist.win-amd64\\egg\\object_detection\\utils\\label_map_util.py to label_map_util.cpython-38.pyc\n",
      "byte-compiling build\\bdist.win-amd64\\egg\\object_detection\\utils\\label_map_util_test.py to label_map_util_test.cpython-38.pyc\n",
      "byte-compiling build\\bdist.win-amd64\\egg\\object_detection\\utils\\learning_schedules.py to learning_schedules.cpython-38.pyc\n",
      "byte-compiling build\\bdist.win-amd64\\egg\\object_detection\\utils\\learning_schedules_test.py to learning_schedules_test.cpython-38.pyc\n",
      "byte-compiling build\\bdist.win-amd64\\egg\\object_detection\\utils\\metrics.py to metrics.cpython-38.pyc\n",
      "byte-compiling build\\bdist.win-amd64\\egg\\object_detection\\utils\\metrics_test.py to metrics_test.cpython-38.pyc\n",
      "byte-compiling build\\bdist.win-amd64\\egg\\object_detection\\utils\\model_util.py to model_util.cpython-38.pyc\n",
      "byte-compiling build\\bdist.win-amd64\\egg\\object_detection\\utils\\model_util_tf2_test.py to model_util_tf2_test.cpython-38.pyc\n",
      "byte-compiling build\\bdist.win-amd64\\egg\\object_detection\\utils\\np_box_list.py to np_box_list.cpython-38.pyc\n",
      "byte-compiling build\\bdist.win-amd64\\egg\\object_detection\\utils\\np_box_list_ops.py to np_box_list_ops.cpython-38.pyc\n",
      "byte-compiling build\\bdist.win-amd64\\egg\\object_detection\\utils\\np_box_list_ops_test.py to np_box_list_ops_test.cpython-38.pyc\n",
      "byte-compiling build\\bdist.win-amd64\\egg\\object_detection\\utils\\np_box_list_test.py to np_box_list_test.cpython-38.pyc\n",
      "byte-compiling build\\bdist.win-amd64\\egg\\object_detection\\utils\\np_box_mask_list.py to np_box_mask_list.cpython-38.pyc\n",
      "byte-compiling build\\bdist.win-amd64\\egg\\object_detection\\utils\\np_box_mask_list_ops.py to np_box_mask_list_ops.cpython-38.pyc\n",
      "byte-compiling build\\bdist.win-amd64\\egg\\object_detection\\utils\\np_box_mask_list_ops_test.py to np_box_mask_list_ops_test.cpython-38.pyc\n",
      "byte-compiling build\\bdist.win-amd64\\egg\\object_detection\\utils\\np_box_mask_list_test.py to np_box_mask_list_test.cpython-38.pyc\n",
      "byte-compiling build\\bdist.win-amd64\\egg\\object_detection\\utils\\np_box_ops.py to np_box_ops.cpython-38.pyc\n",
      "byte-compiling build\\bdist.win-amd64\\egg\\object_detection\\utils\\np_box_ops_test.py to np_box_ops_test.cpython-38.pyc\n",
      "byte-compiling build\\bdist.win-amd64\\egg\\object_detection\\utils\\np_mask_ops.py to np_mask_ops.cpython-38.pyc\n",
      "byte-compiling build\\bdist.win-amd64\\egg\\object_detection\\utils\\np_mask_ops_test.py to np_mask_ops_test.cpython-38.pyc\n",
      "byte-compiling build\\bdist.win-amd64\\egg\\object_detection\\utils\\object_detection_evaluation.py to object_detection_evaluation.cpython-38.pyc\n",
      "byte-compiling build\\bdist.win-amd64\\egg\\object_detection\\utils\\object_detection_evaluation_test.py to object_detection_evaluation_test.cpython-38.pyc\n",
      "byte-compiling build\\bdist.win-amd64\\egg\\object_detection\\utils\\ops.py to ops.cpython-38.pyc\n",
      "byte-compiling build\\bdist.win-amd64\\egg\\object_detection\\utils\\ops_test.py to ops_test.cpython-38.pyc\n",
      "byte-compiling build\\bdist.win-amd64\\egg\\object_detection\\utils\\patch_ops.py to patch_ops.cpython-38.pyc\n",
      "byte-compiling build\\bdist.win-amd64\\egg\\object_detection\\utils\\patch_ops_test.py to patch_ops_test.cpython-38.pyc\n",
      "byte-compiling build\\bdist.win-amd64\\egg\\object_detection\\utils\\per_image_evaluation.py to per_image_evaluation.cpython-38.pyc\n",
      "byte-compiling build\\bdist.win-amd64\\egg\\object_detection\\utils\\per_image_evaluation_test.py to per_image_evaluation_test.cpython-38.pyc\n",
      "byte-compiling build\\bdist.win-amd64\\egg\\object_detection\\utils\\per_image_vrd_evaluation.py to per_image_vrd_evaluation.cpython-38.pyc\n",
      "byte-compiling build\\bdist.win-amd64\\egg\\object_detection\\utils\\per_image_vrd_evaluation_test.py to per_image_vrd_evaluation_test.cpython-38.pyc\n",
      "byte-compiling build\\bdist.win-amd64\\egg\\object_detection\\utils\\shape_utils.py to shape_utils.cpython-38.pyc\n",
      "byte-compiling build\\bdist.win-amd64\\egg\\object_detection\\utils\\shape_utils_test.py to shape_utils_test.cpython-38.pyc\n",
      "byte-compiling build\\bdist.win-amd64\\egg\\object_detection\\utils\\spatial_transform_ops.py to spatial_transform_ops.cpython-38.pyc\n",
      "byte-compiling build\\bdist.win-amd64\\egg\\object_detection\\utils\\spatial_transform_ops_test.py to spatial_transform_ops_test.cpython-38.pyc\n",
      "byte-compiling build\\bdist.win-amd64\\egg\\object_detection\\utils\\static_shape.py to static_shape.cpython-38.pyc\n",
      "byte-compiling build\\bdist.win-amd64\\egg\\object_detection\\utils\\static_shape_test.py to static_shape_test.cpython-38.pyc\n",
      "byte-compiling build\\bdist.win-amd64\\egg\\object_detection\\utils\\target_assigner_utils.py to target_assigner_utils.cpython-38.pyc\n",
      "byte-compiling build\\bdist.win-amd64\\egg\\object_detection\\utils\\target_assigner_utils_test.py to target_assigner_utils_test.cpython-38.pyc\n",
      "byte-compiling build\\bdist.win-amd64\\egg\\object_detection\\utils\\test_case.py to test_case.cpython-38.pyc\n",
      "byte-compiling build\\bdist.win-amd64\\egg\\object_detection\\utils\\test_case_test.py to test_case_test.cpython-38.pyc\n",
      "byte-compiling build\\bdist.win-amd64\\egg\\object_detection\\utils\\test_utils.py to test_utils.cpython-38.pyc\n",
      "byte-compiling build\\bdist.win-amd64\\egg\\object_detection\\utils\\test_utils_test.py to test_utils_test.cpython-38.pyc\n",
      "byte-compiling build\\bdist.win-amd64\\egg\\object_detection\\utils\\tf_version.py to tf_version.cpython-38.pyc\n",
      "byte-compiling build\\bdist.win-amd64\\egg\\object_detection\\utils\\variables_helper.py to variables_helper.cpython-38.pyc\n",
      "byte-compiling build\\bdist.win-amd64\\egg\\object_detection\\utils\\variables_helper_tf1_test.py to variables_helper_tf1_test.cpython-38.pyc\n",
      "byte-compiling build\\bdist.win-amd64\\egg\\object_detection\\utils\\visualization_utils.py to visualization_utils.cpython-38.pyc\n",
      "byte-compiling build\\bdist.win-amd64\\egg\\object_detection\\utils\\visualization_utils_test.py to visualization_utils_test.cpython-38.pyc\n",
      "byte-compiling build\\bdist.win-amd64\\egg\\object_detection\\utils\\vrd_evaluation.py to vrd_evaluation.cpython-38.pyc\n",
      "byte-compiling build\\bdist.win-amd64\\egg\\object_detection\\utils\\vrd_evaluation_test.py to vrd_evaluation_test.cpython-38.pyc\n",
      "byte-compiling build\\bdist.win-amd64\\egg\\object_detection\\utils\\__init__.py to __init__.cpython-38.pyc\n",
      "byte-compiling build\\bdist.win-amd64\\egg\\object_detection\\__init__.py to __init__.cpython-38.pyc\n",
      "byte-compiling build\\bdist.win-amd64\\egg\\preprocessing\\cifarnet_preprocessing.py to cifarnet_preprocessing.cpython-38.pyc\n",
      "byte-compiling build\\bdist.win-amd64\\egg\\preprocessing\\inception_preprocessing.py to inception_preprocessing.cpython-38.pyc\n",
      "byte-compiling build\\bdist.win-amd64\\egg\\preprocessing\\lenet_preprocessing.py to lenet_preprocessing.cpython-38.pyc\n",
      "byte-compiling build\\bdist.win-amd64\\egg\\preprocessing\\preprocessing_factory.py to preprocessing_factory.cpython-38.pyc\n",
      "byte-compiling build\\bdist.win-amd64\\egg\\preprocessing\\vgg_preprocessing.py to vgg_preprocessing.cpython-38.pyc\n",
      "byte-compiling build\\bdist.win-amd64\\egg\\preprocessing\\__init__.py to __init__.cpython-38.pyc\n",
      "creating build\\bdist.win-amd64\\egg\\EGG-INFO\n",
      "copying object_detection.egg-info\\PKG-INFO -> build\\bdist.win-amd64\\egg\\EGG-INFO\n",
      "copying object_detection.egg-info\\SOURCES.txt -> build\\bdist.win-amd64\\egg\\EGG-INFO\n",
      "copying object_detection.egg-info\\dependency_links.txt -> build\\bdist.win-amd64\\egg\\EGG-INFO\n",
      "copying object_detection.egg-info\\requires.txt -> build\\bdist.win-amd64\\egg\\EGG-INFO\n",
      "copying object_detection.egg-info\\top_level.txt -> build\\bdist.win-amd64\\egg\\EGG-INFO\n",
      "creating 'dist\\object_detection-0.1-py3.8.egg' and adding 'build\\bdist.win-amd64\\egg' to it\n",
      "removing 'build\\bdist.win-amd64\\egg' (and everything under it)\n",
      "Processing object_detection-0.1-py3.8.egg\n",
      "removing 'c:\\users\\mnour\\documents\\ai\\test\\tfodcourse\\tfod\\lib\\site-packages\\object_detection-0.1-py3.8.egg' (and everything under it)\n",
      "creating c:\\users\\mnour\\documents\\ai\\test\\tfodcourse\\tfod\\lib\\site-packages\\object_detection-0.1-py3.8.egg\n",
      "Extracting object_detection-0.1-py3.8.egg to c:\\users\\mnour\\documents\\ai\\test\\tfodcourse\\tfod\\lib\\site-packages\n",
      "object-detection 0.1 is already the active version in easy-install.pth\n",
      "\n",
      "Installed c:\\users\\mnour\\documents\\ai\\test\\tfodcourse\\tfod\\lib\\site-packages\\object_detection-0.1-py3.8.egg\n",
      "Processing dependencies for object-detection==0.1\n",
      "Searching for contextlib2\n",
      "Reading https://pypi.org/simple/contextlib2/\n",
      "Downloading https://files.pythonhosted.org/packages/76/56/6d6872f79d14c0cb02f1646cbb4592eef935857c0951a105874b7b62a0c3/contextlib2-21.6.0-py2.py3-none-any.whl#sha256=3fbdb64466afd23abaf6c977627b75b6139a5a3e8ce38405c5b413aed7a0471f\n",
      "Best match: contextlib2 21.6.0\n",
      "Processing contextlib2-21.6.0-py2.py3-none-any.whl\n",
      "Installing contextlib2-21.6.0-py2.py3-none-any.whl to c:\\users\\mnour\\documents\\ai\\test\\tfodcourse\\tfod\\lib\\site-packages\n",
      "Adding contextlib2 21.6.0 to easy-install.pth file\n",
      "\n",
      "Installed c:\\users\\mnour\\documents\\ai\\test\\tfodcourse\\tfod\\lib\\site-packages\\contextlib2-21.6.0-py3.8.egg\n",
      "Searching for apache-beam\n",
      "Reading https://pypi.org/simple/apache-beam/\n",
      "Downloading https://files.pythonhosted.org/packages/28/26/f7031d948f2df6a2e64cd8fd433e2492f659f7c81894bc4814a86538db67/apache_beam-2.52.0rc4-cp38-cp38-win_amd64.whl#sha256=c97c3b6c26343d8ccc5bb1c1fbe46a553b8c8c0309cb9ab67891d99af5af6cfb\n",
      "Best match: apache-beam 2.52.0rc4\n",
      "Processing apache_beam-2.52.0rc4-cp38-cp38-win_amd64.whl\n",
      "Installing apache_beam-2.52.0rc4-cp38-cp38-win_amd64.whl to c:\\users\\mnour\\documents\\ai\\test\\tfodcourse\\tfod\\lib\\site-packages\n",
      "Adding apache-beam 2.52.0rc4 to easy-install.pth file\n",
      "\n",
      "Installed c:\\users\\mnour\\documents\\ai\\test\\tfodcourse\\tfod\\lib\\site-packages\\apache_beam-2.52.0rc4-py3.8-win-amd64.egg\n",
      "Searching for avro-python3\n",
      "Reading https://pypi.org/simple/avro-python3/\n",
      "Downloading https://files.pythonhosted.org/packages/cc/97/7a6970380ca8db9139a3cc0b0e3e0dd3e4bc584fb3644e1d06e71e1a55f0/avro-python3-1.10.2.tar.gz#sha256=3b63f24e6b04368c3e4a6f923f484be0230d821aad65ac36108edbff29e9aaab\n",
      "Best match: avro-python3 1.10.2\n",
      "Processing avro-python3-1.10.2.tar.gz\n",
      "Writing C:\\Users\\mnour\\AppData\\Local\\Temp\\easy_install-yr0thzxt\\avro-python3-1.10.2\\setup.cfg\n",
      "Running avro-python3-1.10.2\\setup.py -q bdist_egg --dist-dir C:\\Users\\mnour\\AppData\\Local\\Temp\\easy_install-yr0thzxt\\avro-python3-1.10.2\\egg-dist-tmp-h4jdpytm\n",
      "Copying avro_python3-1.10.2-py3.8.egg to c:\\users\\mnour\\documents\\ai\\test\\tfodcourse\\tfod\\lib\\site-packages\n",
      "Adding avro-python3 1.10.2 to easy-install.pth file\n",
      "Installing avro script to c:\\Users\\mnour\\Documents\\ai\\test\\TFODCourse\\tfod\\Scripts\n",
      "\n",
      "Installed c:\\users\\mnour\\documents\\ai\\test\\tfodcourse\\tfod\\lib\\site-packages\\avro_python3-1.10.2-py3.8.egg\n",
      "Searching for tabulate>=0.8.9\n",
      "Reading https://pypi.org/simple/tabulate/\n",
      "Downloading https://files.pythonhosted.org/packages/40/44/4a5f08c96eb108af5cb50b41f76142f0afa346dfa99d5296fe7202a11854/tabulate-0.9.0-py3-none-any.whl#sha256=024ca478df22e9340661486f85298cff5f6dcdba14f3813e8830015b9ed1948f\n",
      "Best match: tabulate 0.9.0\n",
      "Processing tabulate-0.9.0-py3-none-any.whl\n",
      "Installing tabulate-0.9.0-py3-none-any.whl to c:\\users\\mnour\\documents\\ai\\test\\tfodcourse\\tfod\\lib\\site-packages\n",
      "Adding tabulate 0.9.0 to easy-install.pth file\n",
      "Installing tabulate-script.py script to c:\\Users\\mnour\\Documents\\ai\\test\\TFODCourse\\tfod\\Scripts\n",
      "Installing tabulate.exe script to c:\\Users\\mnour\\Documents\\ai\\test\\TFODCourse\\tfod\\Scripts\n",
      "\n",
      "Installed c:\\users\\mnour\\documents\\ai\\test\\tfodcourse\\tfod\\lib\\site-packages\\tabulate-0.9.0-py3.8.egg\n",
      "Searching for regex\n",
      "Reading https://pypi.org/simple/regex/\n",
      "Downloading https://files.pythonhosted.org/packages/7d/38/dcd673b81c2b4930bf39d970decff57ba48e0aee3028364897830ca9cc8e/regex-2023.10.3-cp38-cp38-win_amd64.whl#sha256=c55853684fe08d4897c37dfc5faeff70607a5f1806c8be148f1695be4a63414b\n",
      "Best match: regex 2023.10.3\n",
      "Processing regex-2023.10.3-cp38-cp38-win_amd64.whl\n",
      "Installing regex-2023.10.3-cp38-cp38-win_amd64.whl to c:\\users\\mnour\\documents\\ai\\test\\tfodcourse\\tfod\\lib\\site-packages\n",
      "Adding regex 2023.10.3 to easy-install.pth file\n",
      "\n",
      "Installed c:\\users\\mnour\\documents\\ai\\test\\tfodcourse\\tfod\\lib\\site-packages\\regex-2023.10.3-py3.8-win-amd64.egg\n",
      "Searching for portalocker\n",
      "Reading https://pypi.org/simple/portalocker/\n",
      "Downloading https://files.pythonhosted.org/packages/17/9e/87671efcca80ba6203811540ed1f9c0462c1609d2281d7b7f53cef05da3d/portalocker-2.8.2-py3-none-any.whl#sha256=cfb86acc09b9aa7c3b43594e19be1345b9d16af3feb08bf92f23d4dce513a28e\n",
      "Best match: portalocker 2.8.2\n",
      "Processing portalocker-2.8.2-py3-none-any.whl\n",
      "Installing portalocker-2.8.2-py3-none-any.whl to c:\\users\\mnour\\documents\\ai\\test\\tfodcourse\\tfod\\lib\\site-packages\n",
      "Adding portalocker 2.8.2 to easy-install.pth file\n",
      "\n",
      "Installed c:\\users\\mnour\\documents\\ai\\test\\tfodcourse\\tfod\\lib\\site-packages\\portalocker-2.8.2-py3.8.egg\n",
      "Searching for tensorflow~=2.14.0\n",
      "Reading https://pypi.org/simple/tensorflow/\n"
     ]
    },
    {
     "name": "stderr",
     "output_type": "stream",
     "text": [
      "zip_safe flag not set; analyzing archive contents...\n",
      "object_detection.core.__pycache__.densepose_ops.cpython-38: module references __file__\n",
      "object_detection.core.__pycache__.preprocessor.cpython-38: module MAY be using inspect.stack\n",
      "object_detection.utils.__pycache__.autoaugment_utils.cpython-38: module MAY be using inspect.stack\n",
      "No local packages or working download links found for tensorflow~=2.14.0\n",
      "error: Could not find suitable distribution for Requirement.parse('tensorflow~=2.14.0')\n"
     ]
    },
    {
     "name": "stdout",
     "output_type": "stream",
     "text": [
      "Obtaining file:///C:/Users/mnour/Documents/ai/test/TFODCourse/Tensorflow/models/research/slim\n",
      "  Preparing metadata (setup.py): started\n",
      "  Preparing metadata (setup.py): finished with status 'done'\n",
      "Requirement already satisfied: six in c:\\users\\mnour\\documents\\ai\\test\\tfodcourse\\tfod\\lib\\site-packages (from slim==0.1) (1.16.0)\n",
      "Requirement already satisfied: tf-slim>=1.1 in c:\\users\\mnour\\documents\\ai\\test\\tfodcourse\\tfod\\lib\\site-packages (from slim==0.1) (1.1.0)\n",
      "Requirement already satisfied: absl-py>=0.2.2 in c:\\users\\mnour\\documents\\ai\\test\\tfodcourse\\tfod\\lib\\site-packages (from tf-slim>=1.1->slim==0.1) (2.0.0)\n",
      "Installing collected packages: slim\n",
      "  Attempting uninstall: slim\n",
      "    Found existing installation: slim 0.1\n",
      "    Uninstalling slim-0.1:\n",
      "      Successfully uninstalled slim-0.1\n",
      "  Running setup.py develop for slim\n",
      "Successfully installed slim-0.1\n"
     ]
    }
   ],
   "source": [
    "# Install Tensorflow Object Detection \n",
    "if os.name=='posix':  \n",
    "    !apt-get install protobuf-compiler\n",
    "    !cd Tensorflow/models/research && protoc object_detection/protos/*.proto --python_out=. && cp object_detection/packages/tf2/setup.py . && python -m pip install . \n",
    "    \n",
    "if os.name=='nt':\n",
    "    url=\"https://github.com/protocolbuffers/protobuf/releases/download/v3.15.6/protoc-3.15.6-win64.zip\"\n",
    "    wget.download(url)\n",
    "    !move protoc-3.15.6-win64.zip {paths['PROTOC_PATH']}\n",
    "    !cd {paths['PROTOC_PATH']} && cd protoc-3.15.6-win64\n",
    "    os.environ['PATH'] += os.pathsep + os.path.abspath(os.path.join(paths['PROTOC_PATH'], 'bin'))   \n",
    "    !cd Tensorflow/models/research && protoc object_detection/protos/*.proto --python_out=. && copy object_detection\\\\packages\\\\tf2\\\\setup.py setup.py && python setup.py build && python setup.py install\n",
    "    !cd Tensorflow/models/research/slim && pip install -e . "
   ]
  },
  {
   "cell_type": "code",
   "execution_count": 27,
   "metadata": {
    "scrolled": true
   },
   "outputs": [
    {
     "name": "stderr",
     "output_type": "stream",
     "text": [
      "Running tests under Python 3.8.10: c:\\Users\\mnour\\Documents\\ai\\test\\TFODCourse\\tfod\\Scripts\\python.exe\n",
      "[ RUN      ] ModelBuilderTF2Test.test_create_center_net_deepmac\n",
      "2023-11-11 23:45:33.608925: I tensorflow/core/platform/cpu_feature_guard.cc:193] This TensorFlow binary is optimized with oneAPI Deep Neural Network Library (oneDNN) to use the following CPU instructions in performance-critical operations:  AVX AVX2\n",
      "To enable them in other operations, rebuild TensorFlow with the appropriate compiler flags.\n",
      "2023-11-11 23:45:34.817505: I tensorflow/core/common_runtime/gpu/gpu_device.cc:1616] Created device /job:localhost/replica:0/task:0/device:GPU:0 with 5534 MB memory:  -> device: 0, name: NVIDIA GeForce RTX 2070 SUPER, pci bus id: 0000:07:00.0, compute capability: 7.5\n",
      "2023-11-11 23:45:35.006302: I tensorflow/stream_executor/cuda/cuda_driver.cc:733] failed to allocate 5.40G (5802844160 bytes) from device: CUDA_ERROR_OUT_OF_MEMORY: out of memory\n",
      "2023-11-11 23:45:35.089321: I tensorflow/stream_executor/cuda/cuda_driver.cc:733] failed to allocate 4.86G (5222559744 bytes) from device: CUDA_ERROR_OUT_OF_MEMORY: out of memory\n",
      "c:\\Users\\mnour\\Documents\\ai\\test\\TFODCourse\\tfod\\lib\\site-packages\\object_detection-0.1-py3.8.egg\\object_detection\\builders\\model_builder.py:1112: DeprecationWarning: The 'warn' function is deprecated, use 'warning' instead\n",
      "  logging.warn(('Building experimental DeepMAC meta-arch.'\n",
      "W1111 23:45:41.374455   328 model_builder.py:1112] Building experimental DeepMAC meta-arch. Some features may be omitted.\n",
      "INFO:tensorflow:time(__main__.ModelBuilderTF2Test.test_create_center_net_deepmac): 8.03s\n",
      "I1111 23:45:41.634995   328 test_util.py:2460] time(__main__.ModelBuilderTF2Test.test_create_center_net_deepmac): 8.03s\n",
      "[       OK ] ModelBuilderTF2Test.test_create_center_net_deepmac\n",
      "[ RUN      ] ModelBuilderTF2Test.test_create_center_net_model0 (customize_head_params=True)\n",
      "INFO:tensorflow:time(__main__.ModelBuilderTF2Test.test_create_center_net_model0 (customize_head_params=True)): 1.36s\n",
      "I1111 23:45:42.998838   328 test_util.py:2460] time(__main__.ModelBuilderTF2Test.test_create_center_net_model0 (customize_head_params=True)): 1.36s\n",
      "[       OK ] ModelBuilderTF2Test.test_create_center_net_model0 (customize_head_params=True)\n",
      "[ RUN      ] ModelBuilderTF2Test.test_create_center_net_model1 (customize_head_params=False)\n",
      "INFO:tensorflow:time(__main__.ModelBuilderTF2Test.test_create_center_net_model1 (customize_head_params=False)): 0.25s\n",
      "I1111 23:45:43.249945   328 test_util.py:2460] time(__main__.ModelBuilderTF2Test.test_create_center_net_model1 (customize_head_params=False)): 0.25s\n",
      "[       OK ] ModelBuilderTF2Test.test_create_center_net_model1 (customize_head_params=False)\n",
      "[ RUN      ] ModelBuilderTF2Test.test_create_center_net_model_from_keypoints\n",
      "INFO:tensorflow:time(__main__.ModelBuilderTF2Test.test_create_center_net_model_from_keypoints): 0.22s\n",
      "I1111 23:45:43.466147   328 test_util.py:2460] time(__main__.ModelBuilderTF2Test.test_create_center_net_model_from_keypoints): 0.22s\n",
      "[       OK ] ModelBuilderTF2Test.test_create_center_net_model_from_keypoints\n",
      "[ RUN      ] ModelBuilderTF2Test.test_create_center_net_model_mobilenet\n",
      "INFO:tensorflow:time(__main__.ModelBuilderTF2Test.test_create_center_net_model_mobilenet): 4.48s\n",
      "I1111 23:45:47.945447   328 test_util.py:2460] time(__main__.ModelBuilderTF2Test.test_create_center_net_model_mobilenet): 4.48s\n",
      "[       OK ] ModelBuilderTF2Test.test_create_center_net_model_mobilenet\n",
      "[ RUN      ] ModelBuilderTF2Test.test_create_experimental_model\n",
      "INFO:tensorflow:time(__main__.ModelBuilderTF2Test.test_create_experimental_model): 0.0s\n",
      "I1111 23:45:47.949951   328 test_util.py:2460] time(__main__.ModelBuilderTF2Test.test_create_experimental_model): 0.0s\n",
      "[       OK ] ModelBuilderTF2Test.test_create_experimental_model\n",
      "[ RUN      ] ModelBuilderTF2Test.test_create_faster_rcnn_from_config_with_crop_feature0 (True)\n",
      "INFO:tensorflow:time(__main__.ModelBuilderTF2Test.test_create_faster_rcnn_from_config_with_crop_feature0 (True)): 0.02s\n",
      "I1111 23:45:47.970002   328 test_util.py:2460] time(__main__.ModelBuilderTF2Test.test_create_faster_rcnn_from_config_with_crop_feature0 (True)): 0.02s\n",
      "[       OK ] ModelBuilderTF2Test.test_create_faster_rcnn_from_config_with_crop_feature0 (True)\n",
      "[ RUN      ] ModelBuilderTF2Test.test_create_faster_rcnn_from_config_with_crop_feature1 (False)\n",
      "INFO:tensorflow:time(__main__.ModelBuilderTF2Test.test_create_faster_rcnn_from_config_with_crop_feature1 (False)): 0.01s\n",
      "I1111 23:45:47.984050   328 test_util.py:2460] time(__main__.ModelBuilderTF2Test.test_create_faster_rcnn_from_config_with_crop_feature1 (False)): 0.01s\n",
      "[       OK ] ModelBuilderTF2Test.test_create_faster_rcnn_from_config_with_crop_feature1 (False)\n",
      "[ RUN      ] ModelBuilderTF2Test.test_create_faster_rcnn_model_from_config_with_example_miner\n",
      "INFO:tensorflow:time(__main__.ModelBuilderTF2Test.test_create_faster_rcnn_model_from_config_with_example_miner): 0.01s\n",
      "I1111 23:45:47.997575   328 test_util.py:2460] time(__main__.ModelBuilderTF2Test.test_create_faster_rcnn_model_from_config_with_example_miner): 0.01s\n",
      "[       OK ] ModelBuilderTF2Test.test_create_faster_rcnn_model_from_config_with_example_miner\n",
      "[ RUN      ] ModelBuilderTF2Test.test_create_faster_rcnn_models_from_config_faster_rcnn_with_matmul\n",
      "INFO:tensorflow:time(__main__.ModelBuilderTF2Test.test_create_faster_rcnn_models_from_config_faster_rcnn_with_matmul): 0.08s\n",
      "I1111 23:45:48.077277   328 test_util.py:2460] time(__main__.ModelBuilderTF2Test.test_create_faster_rcnn_models_from_config_faster_rcnn_with_matmul): 0.08s\n",
      "[       OK ] ModelBuilderTF2Test.test_create_faster_rcnn_models_from_config_faster_rcnn_with_matmul\n",
      "[ RUN      ] ModelBuilderTF2Test.test_create_faster_rcnn_models_from_config_faster_rcnn_without_matmul\n",
      "INFO:tensorflow:time(__main__.ModelBuilderTF2Test.test_create_faster_rcnn_models_from_config_faster_rcnn_without_matmul): 0.07s\n",
      "I1111 23:45:48.148934   328 test_util.py:2460] time(__main__.ModelBuilderTF2Test.test_create_faster_rcnn_models_from_config_faster_rcnn_without_matmul): 0.07s\n",
      "[       OK ] ModelBuilderTF2Test.test_create_faster_rcnn_models_from_config_faster_rcnn_without_matmul\n",
      "[ RUN      ] ModelBuilderTF2Test.test_create_faster_rcnn_models_from_config_mask_rcnn_with_matmul\n",
      "INFO:tensorflow:time(__main__.ModelBuilderTF2Test.test_create_faster_rcnn_models_from_config_mask_rcnn_with_matmul): 0.08s\n",
      "I1111 23:45:48.228672   328 test_util.py:2460] time(__main__.ModelBuilderTF2Test.test_create_faster_rcnn_models_from_config_mask_rcnn_with_matmul): 0.08s\n",
      "[       OK ] ModelBuilderTF2Test.test_create_faster_rcnn_models_from_config_mask_rcnn_with_matmul\n",
      "[ RUN      ] ModelBuilderTF2Test.test_create_faster_rcnn_models_from_config_mask_rcnn_without_matmul\n",
      "INFO:tensorflow:time(__main__.ModelBuilderTF2Test.test_create_faster_rcnn_models_from_config_mask_rcnn_without_matmul): 0.07s\n",
      "I1111 23:45:48.300859   328 test_util.py:2460] time(__main__.ModelBuilderTF2Test.test_create_faster_rcnn_models_from_config_mask_rcnn_without_matmul): 0.07s\n",
      "[       OK ] ModelBuilderTF2Test.test_create_faster_rcnn_models_from_config_mask_rcnn_without_matmul\n",
      "[ RUN      ] ModelBuilderTF2Test.test_create_rfcn_model_from_config\n",
      "INFO:tensorflow:time(__main__.ModelBuilderTF2Test.test_create_rfcn_model_from_config): 0.08s\n",
      "I1111 23:45:48.386074   328 test_util.py:2460] time(__main__.ModelBuilderTF2Test.test_create_rfcn_model_from_config): 0.08s\n",
      "[       OK ] ModelBuilderTF2Test.test_create_rfcn_model_from_config\n",
      "[ RUN      ] ModelBuilderTF2Test.test_create_ssd_fpn_model_from_config\n",
      "INFO:tensorflow:time(__main__.ModelBuilderTF2Test.test_create_ssd_fpn_model_from_config): 0.02s\n",
      "I1111 23:45:48.410129   328 test_util.py:2460] time(__main__.ModelBuilderTF2Test.test_create_ssd_fpn_model_from_config): 0.02s\n",
      "[       OK ] ModelBuilderTF2Test.test_create_ssd_fpn_model_from_config\n",
      "[ RUN      ] ModelBuilderTF2Test.test_create_ssd_models_from_config\n",
      "I1111 23:45:48.555553   328 ssd_efficientnet_bifpn_feature_extractor.py:161] EfficientDet EfficientNet backbone version: efficientnet-b0\n",
      "I1111 23:45:48.556054   328 ssd_efficientnet_bifpn_feature_extractor.py:163] EfficientDet BiFPN num filters: 64\n",
      "I1111 23:45:48.556054   328 ssd_efficientnet_bifpn_feature_extractor.py:164] EfficientDet BiFPN num iterations: 3\n",
      "I1111 23:45:48.558055   328 efficientnet_model.py:143] round_filter input=32 output=32\n",
      "I1111 23:45:48.581646   328 efficientnet_model.py:143] round_filter input=32 output=32\n",
      "I1111 23:45:48.581646   328 efficientnet_model.py:143] round_filter input=16 output=16\n",
      "I1111 23:45:48.649315   328 efficientnet_model.py:143] round_filter input=16 output=16\n",
      "I1111 23:45:48.649816   328 efficientnet_model.py:143] round_filter input=24 output=24\n",
      "I1111 23:45:48.834666   328 efficientnet_model.py:143] round_filter input=24 output=24\n",
      "I1111 23:45:48.834666   328 efficientnet_model.py:143] round_filter input=40 output=40\n",
      "I1111 23:45:49.025490   328 efficientnet_model.py:143] round_filter input=40 output=40\n",
      "I1111 23:45:49.025991   328 efficientnet_model.py:143] round_filter input=80 output=80\n",
      "I1111 23:45:49.251812   328 efficientnet_model.py:143] round_filter input=80 output=80\n",
      "I1111 23:45:49.252313   328 efficientnet_model.py:143] round_filter input=112 output=112\n",
      "I1111 23:45:49.478029   328 efficientnet_model.py:143] round_filter input=112 output=112\n",
      "I1111 23:45:49.478530   328 efficientnet_model.py:143] round_filter input=192 output=192\n",
      "I1111 23:45:49.807501   328 efficientnet_model.py:143] round_filter input=192 output=192\n",
      "I1111 23:45:49.807501   328 efficientnet_model.py:143] round_filter input=320 output=320\n",
      "I1111 23:45:49.884784   328 efficientnet_model.py:143] round_filter input=1280 output=1280\n",
      "I1111 23:45:49.922387   328 efficientnet_model.py:453] Building model efficientnet with params ModelConfig(width_coefficient=1.0, depth_coefficient=1.0, resolution=224, dropout_rate=0.2, blocks=(BlockConfig(input_filters=32, output_filters=16, kernel_size=3, num_repeat=1, expand_ratio=1, strides=(1, 1), se_ratio=0.25, id_skip=True, fused_conv=False, conv_type='depthwise'), BlockConfig(input_filters=16, output_filters=24, kernel_size=3, num_repeat=2, expand_ratio=6, strides=(2, 2), se_ratio=0.25, id_skip=True, fused_conv=False, conv_type='depthwise'), BlockConfig(input_filters=24, output_filters=40, kernel_size=5, num_repeat=2, expand_ratio=6, strides=(2, 2), se_ratio=0.25, id_skip=True, fused_conv=False, conv_type='depthwise'), BlockConfig(input_filters=40, output_filters=80, kernel_size=3, num_repeat=3, expand_ratio=6, strides=(2, 2), se_ratio=0.25, id_skip=True, fused_conv=False, conv_type='depthwise'), BlockConfig(input_filters=80, output_filters=112, kernel_size=5, num_repeat=3, expand_ratio=6, strides=(1, 1), se_ratio=0.25, id_skip=True, fused_conv=False, conv_type='depthwise'), BlockConfig(input_filters=112, output_filters=192, kernel_size=5, num_repeat=4, expand_ratio=6, strides=(2, 2), se_ratio=0.25, id_skip=True, fused_conv=False, conv_type='depthwise'), BlockConfig(input_filters=192, output_filters=320, kernel_size=3, num_repeat=1, expand_ratio=6, strides=(1, 1), se_ratio=0.25, id_skip=True, fused_conv=False, conv_type='depthwise')), stem_base_filters=32, top_base_filters=1280, activation='simple_swish', batch_norm='default', bn_momentum=0.99, bn_epsilon=0.001, weight_decay=5e-06, drop_connect_rate=0.2, depth_divisor=8, min_depth=None, use_se=True, input_channels=3, num_classes=1000, model_name='efficientnet', rescale_input=False, data_format='channels_last', dtype='float32')\n",
      "I1111 23:45:49.963507   328 ssd_efficientnet_bifpn_feature_extractor.py:161] EfficientDet EfficientNet backbone version: efficientnet-b1\n",
      "I1111 23:45:49.963507   328 ssd_efficientnet_bifpn_feature_extractor.py:163] EfficientDet BiFPN num filters: 88\n",
      "I1111 23:45:49.963507   328 ssd_efficientnet_bifpn_feature_extractor.py:164] EfficientDet BiFPN num iterations: 4\n",
      "I1111 23:45:49.965008   328 efficientnet_model.py:143] round_filter input=32 output=32\n",
      "I1111 23:45:49.978538   328 efficientnet_model.py:143] round_filter input=32 output=32\n",
      "I1111 23:45:49.979038   328 efficientnet_model.py:143] round_filter input=16 output=16\n",
      "I1111 23:45:50.197321   328 efficientnet_model.py:143] round_filter input=16 output=16\n",
      "I1111 23:45:50.197821   328 efficientnet_model.py:143] round_filter input=24 output=24\n",
      "I1111 23:45:50.406889   328 efficientnet_model.py:143] round_filter input=24 output=24\n",
      "I1111 23:45:50.407389   328 efficientnet_model.py:143] round_filter input=40 output=40\n",
      "I1111 23:45:50.610936   328 efficientnet_model.py:143] round_filter input=40 output=40\n",
      "I1111 23:45:50.611438   328 efficientnet_model.py:143] round_filter input=80 output=80\n",
      "I1111 23:45:50.885475   328 efficientnet_model.py:143] round_filter input=80 output=80\n",
      "I1111 23:45:50.885475   328 efficientnet_model.py:143] round_filter input=112 output=112\n",
      "I1111 23:45:51.139740   328 efficientnet_model.py:143] round_filter input=112 output=112\n",
      "I1111 23:45:51.139740   328 efficientnet_model.py:143] round_filter input=192 output=192\n",
      "I1111 23:45:51.470019   328 efficientnet_model.py:143] round_filter input=192 output=192\n",
      "I1111 23:45:51.470019   328 efficientnet_model.py:143] round_filter input=320 output=320\n",
      "I1111 23:45:51.629544   328 efficientnet_model.py:143] round_filter input=1280 output=1280\n",
      "I1111 23:45:51.686746   328 efficientnet_model.py:453] Building model efficientnet with params ModelConfig(width_coefficient=1.0, depth_coefficient=1.1, resolution=240, dropout_rate=0.2, blocks=(BlockConfig(input_filters=32, output_filters=16, kernel_size=3, num_repeat=1, expand_ratio=1, strides=(1, 1), se_ratio=0.25, id_skip=True, fused_conv=False, conv_type='depthwise'), BlockConfig(input_filters=16, output_filters=24, kernel_size=3, num_repeat=2, expand_ratio=6, strides=(2, 2), se_ratio=0.25, id_skip=True, fused_conv=False, conv_type='depthwise'), BlockConfig(input_filters=24, output_filters=40, kernel_size=5, num_repeat=2, expand_ratio=6, strides=(2, 2), se_ratio=0.25, id_skip=True, fused_conv=False, conv_type='depthwise'), BlockConfig(input_filters=40, output_filters=80, kernel_size=3, num_repeat=3, expand_ratio=6, strides=(2, 2), se_ratio=0.25, id_skip=True, fused_conv=False, conv_type='depthwise'), BlockConfig(input_filters=80, output_filters=112, kernel_size=5, num_repeat=3, expand_ratio=6, strides=(1, 1), se_ratio=0.25, id_skip=True, fused_conv=False, conv_type='depthwise'), BlockConfig(input_filters=112, output_filters=192, kernel_size=5, num_repeat=4, expand_ratio=6, strides=(2, 2), se_ratio=0.25, id_skip=True, fused_conv=False, conv_type='depthwise'), BlockConfig(input_filters=192, output_filters=320, kernel_size=3, num_repeat=1, expand_ratio=6, strides=(1, 1), se_ratio=0.25, id_skip=True, fused_conv=False, conv_type='depthwise')), stem_base_filters=32, top_base_filters=1280, activation='simple_swish', batch_norm='default', bn_momentum=0.99, bn_epsilon=0.001, weight_decay=5e-06, drop_connect_rate=0.2, depth_divisor=8, min_depth=None, use_se=True, input_channels=3, num_classes=1000, model_name='efficientnet', rescale_input=False, data_format='channels_last', dtype='float32')\n",
      "I1111 23:45:51.734360   328 ssd_efficientnet_bifpn_feature_extractor.py:161] EfficientDet EfficientNet backbone version: efficientnet-b2\n",
      "I1111 23:45:51.734360   328 ssd_efficientnet_bifpn_feature_extractor.py:163] EfficientDet BiFPN num filters: 112\n",
      "I1111 23:45:51.734360   328 ssd_efficientnet_bifpn_feature_extractor.py:164] EfficientDet BiFPN num iterations: 5\n",
      "I1111 23:45:51.735875   328 efficientnet_model.py:143] round_filter input=32 output=32\n",
      "I1111 23:45:51.748895   328 efficientnet_model.py:143] round_filter input=32 output=32\n",
      "I1111 23:45:51.748895   328 efficientnet_model.py:143] round_filter input=16 output=16\n",
      "I1111 23:45:51.857192   328 efficientnet_model.py:143] round_filter input=16 output=16\n",
      "I1111 23:45:51.857692   328 efficientnet_model.py:143] round_filter input=24 output=24\n",
      "I1111 23:45:52.060202   328 efficientnet_model.py:143] round_filter input=24 output=24\n",
      "I1111 23:45:52.060202   328 efficientnet_model.py:143] round_filter input=40 output=48\n",
      "I1111 23:45:52.324549   328 efficientnet_model.py:143] round_filter input=40 output=48\n",
      "I1111 23:45:52.325050   328 efficientnet_model.py:143] round_filter input=80 output=88\n",
      "I1111 23:45:52.672957   328 efficientnet_model.py:143] round_filter input=80 output=88\n",
      "I1111 23:45:52.672957   328 efficientnet_model.py:143] round_filter input=112 output=120\n",
      "I1111 23:45:52.971955   328 efficientnet_model.py:143] round_filter input=112 output=120\n",
      "I1111 23:45:52.971955   328 efficientnet_model.py:143] round_filter input=192 output=208\n",
      "I1111 23:45:53.318894   328 efficientnet_model.py:143] round_filter input=192 output=208\n",
      "I1111 23:45:53.319394   328 efficientnet_model.py:143] round_filter input=320 output=352\n",
      "I1111 23:45:53.463939   328 efficientnet_model.py:143] round_filter input=1280 output=1408\n",
      "I1111 23:45:53.494019   328 efficientnet_model.py:453] Building model efficientnet with params ModelConfig(width_coefficient=1.1, depth_coefficient=1.2, resolution=260, dropout_rate=0.3, blocks=(BlockConfig(input_filters=32, output_filters=16, kernel_size=3, num_repeat=1, expand_ratio=1, strides=(1, 1), se_ratio=0.25, id_skip=True, fused_conv=False, conv_type='depthwise'), BlockConfig(input_filters=16, output_filters=24, kernel_size=3, num_repeat=2, expand_ratio=6, strides=(2, 2), se_ratio=0.25, id_skip=True, fused_conv=False, conv_type='depthwise'), BlockConfig(input_filters=24, output_filters=40, kernel_size=5, num_repeat=2, expand_ratio=6, strides=(2, 2), se_ratio=0.25, id_skip=True, fused_conv=False, conv_type='depthwise'), BlockConfig(input_filters=40, output_filters=80, kernel_size=3, num_repeat=3, expand_ratio=6, strides=(2, 2), se_ratio=0.25, id_skip=True, fused_conv=False, conv_type='depthwise'), BlockConfig(input_filters=80, output_filters=112, kernel_size=5, num_repeat=3, expand_ratio=6, strides=(1, 1), se_ratio=0.25, id_skip=True, fused_conv=False, conv_type='depthwise'), BlockConfig(input_filters=112, output_filters=192, kernel_size=5, num_repeat=4, expand_ratio=6, strides=(2, 2), se_ratio=0.25, id_skip=True, fused_conv=False, conv_type='depthwise'), BlockConfig(input_filters=192, output_filters=320, kernel_size=3, num_repeat=1, expand_ratio=6, strides=(1, 1), se_ratio=0.25, id_skip=True, fused_conv=False, conv_type='depthwise')), stem_base_filters=32, top_base_filters=1280, activation='simple_swish', batch_norm='default', bn_momentum=0.99, bn_epsilon=0.001, weight_decay=5e-06, drop_connect_rate=0.2, depth_divisor=8, min_depth=None, use_se=True, input_channels=3, num_classes=1000, model_name='efficientnet', rescale_input=False, data_format='channels_last', dtype='float32')\n",
      "I1111 23:45:53.539653   328 ssd_efficientnet_bifpn_feature_extractor.py:161] EfficientDet EfficientNet backbone version: efficientnet-b3\n",
      "I1111 23:45:53.539653   328 ssd_efficientnet_bifpn_feature_extractor.py:163] EfficientDet BiFPN num filters: 160\n",
      "I1111 23:45:53.539653   328 ssd_efficientnet_bifpn_feature_extractor.py:164] EfficientDet BiFPN num iterations: 6\n",
      "I1111 23:45:53.541158   328 efficientnet_model.py:143] round_filter input=32 output=40\n",
      "I1111 23:45:53.557700   328 efficientnet_model.py:143] round_filter input=32 output=40\n",
      "I1111 23:45:53.557700   328 efficientnet_model.py:143] round_filter input=16 output=24\n",
      "I1111 23:45:53.671521   328 efficientnet_model.py:143] round_filter input=16 output=24\n",
      "I1111 23:45:53.671521   328 efficientnet_model.py:143] round_filter input=24 output=32\n",
      "I1111 23:45:53.873582   328 efficientnet_model.py:143] round_filter input=24 output=32\n",
      "I1111 23:45:53.873582   328 efficientnet_model.py:143] round_filter input=40 output=48\n",
      "I1111 23:45:54.072085   328 efficientnet_model.py:143] round_filter input=40 output=48\n",
      "I1111 23:45:54.072085   328 efficientnet_model.py:143] round_filter input=80 output=96\n",
      "I1111 23:45:54.532504   328 efficientnet_model.py:143] round_filter input=80 output=96\n",
      "I1111 23:45:54.532504   328 efficientnet_model.py:143] round_filter input=112 output=136\n",
      "I1111 23:45:54.886520   328 efficientnet_model.py:143] round_filter input=112 output=136\n",
      "I1111 23:45:54.886520   328 efficientnet_model.py:143] round_filter input=192 output=232\n",
      "I1111 23:45:55.303119   328 efficientnet_model.py:143] round_filter input=192 output=232\n",
      "I1111 23:45:55.303119   328 efficientnet_model.py:143] round_filter input=320 output=384\n",
      "I1111 23:45:55.447975   328 efficientnet_model.py:143] round_filter input=1280 output=1536\n",
      "I1111 23:45:55.478559   328 efficientnet_model.py:453] Building model efficientnet with params ModelConfig(width_coefficient=1.2, depth_coefficient=1.4, resolution=300, dropout_rate=0.3, blocks=(BlockConfig(input_filters=32, output_filters=16, kernel_size=3, num_repeat=1, expand_ratio=1, strides=(1, 1), se_ratio=0.25, id_skip=True, fused_conv=False, conv_type='depthwise'), BlockConfig(input_filters=16, output_filters=24, kernel_size=3, num_repeat=2, expand_ratio=6, strides=(2, 2), se_ratio=0.25, id_skip=True, fused_conv=False, conv_type='depthwise'), BlockConfig(input_filters=24, output_filters=40, kernel_size=5, num_repeat=2, expand_ratio=6, strides=(2, 2), se_ratio=0.25, id_skip=True, fused_conv=False, conv_type='depthwise'), BlockConfig(input_filters=40, output_filters=80, kernel_size=3, num_repeat=3, expand_ratio=6, strides=(2, 2), se_ratio=0.25, id_skip=True, fused_conv=False, conv_type='depthwise'), BlockConfig(input_filters=80, output_filters=112, kernel_size=5, num_repeat=3, expand_ratio=6, strides=(1, 1), se_ratio=0.25, id_skip=True, fused_conv=False, conv_type='depthwise'), BlockConfig(input_filters=112, output_filters=192, kernel_size=5, num_repeat=4, expand_ratio=6, strides=(2, 2), se_ratio=0.25, id_skip=True, fused_conv=False, conv_type='depthwise'), BlockConfig(input_filters=192, output_filters=320, kernel_size=3, num_repeat=1, expand_ratio=6, strides=(1, 1), se_ratio=0.25, id_skip=True, fused_conv=False, conv_type='depthwise')), stem_base_filters=32, top_base_filters=1280, activation='simple_swish', batch_norm='default', bn_momentum=0.99, bn_epsilon=0.001, weight_decay=5e-06, drop_connect_rate=0.2, depth_divisor=8, min_depth=None, use_se=True, input_channels=3, num_classes=1000, model_name='efficientnet', rescale_input=False, data_format='channels_last', dtype='float32')\n",
      "I1111 23:45:55.531212   328 ssd_efficientnet_bifpn_feature_extractor.py:161] EfficientDet EfficientNet backbone version: efficientnet-b4\n",
      "I1111 23:45:55.531212   328 ssd_efficientnet_bifpn_feature_extractor.py:163] EfficientDet BiFPN num filters: 224\n",
      "I1111 23:45:55.531212   328 ssd_efficientnet_bifpn_feature_extractor.py:164] EfficientDet BiFPN num iterations: 7\n",
      "I1111 23:45:55.532226   328 efficientnet_model.py:143] round_filter input=32 output=48\n",
      "I1111 23:45:55.548758   328 efficientnet_model.py:143] round_filter input=32 output=48\n",
      "I1111 23:45:55.548758   328 efficientnet_model.py:143] round_filter input=16 output=24\n",
      "I1111 23:45:55.662042   328 efficientnet_model.py:143] round_filter input=16 output=24\n",
      "I1111 23:45:55.662042   328 efficientnet_model.py:143] round_filter input=24 output=32\n",
      "I1111 23:45:55.928973   328 efficientnet_model.py:143] round_filter input=24 output=32\n",
      "I1111 23:45:55.928973   328 efficientnet_model.py:143] round_filter input=40 output=56\n",
      "I1111 23:45:56.229862   328 efficientnet_model.py:143] round_filter input=40 output=56\n",
      "I1111 23:45:56.229862   328 efficientnet_model.py:143] round_filter input=80 output=112\n",
      "I1111 23:45:56.642513   328 efficientnet_model.py:143] round_filter input=80 output=112\n",
      "I1111 23:45:56.643023   328 efficientnet_model.py:143] round_filter input=112 output=160\n",
      "I1111 23:45:57.054257   328 efficientnet_model.py:143] round_filter input=112 output=160\n",
      "I1111 23:45:57.054257   328 efficientnet_model.py:143] round_filter input=192 output=272\n",
      "I1111 23:45:57.602469   328 efficientnet_model.py:143] round_filter input=192 output=272\n",
      "I1111 23:45:57.602469   328 efficientnet_model.py:143] round_filter input=320 output=448\n",
      "I1111 23:45:57.747583   328 efficientnet_model.py:143] round_filter input=1280 output=1792\n",
      "I1111 23:45:57.778153   328 efficientnet_model.py:453] Building model efficientnet with params ModelConfig(width_coefficient=1.4, depth_coefficient=1.8, resolution=380, dropout_rate=0.4, blocks=(BlockConfig(input_filters=32, output_filters=16, kernel_size=3, num_repeat=1, expand_ratio=1, strides=(1, 1), se_ratio=0.25, id_skip=True, fused_conv=False, conv_type='depthwise'), BlockConfig(input_filters=16, output_filters=24, kernel_size=3, num_repeat=2, expand_ratio=6, strides=(2, 2), se_ratio=0.25, id_skip=True, fused_conv=False, conv_type='depthwise'), BlockConfig(input_filters=24, output_filters=40, kernel_size=5, num_repeat=2, expand_ratio=6, strides=(2, 2), se_ratio=0.25, id_skip=True, fused_conv=False, conv_type='depthwise'), BlockConfig(input_filters=40, output_filters=80, kernel_size=3, num_repeat=3, expand_ratio=6, strides=(2, 2), se_ratio=0.25, id_skip=True, fused_conv=False, conv_type='depthwise'), BlockConfig(input_filters=80, output_filters=112, kernel_size=5, num_repeat=3, expand_ratio=6, strides=(1, 1), se_ratio=0.25, id_skip=True, fused_conv=False, conv_type='depthwise'), BlockConfig(input_filters=112, output_filters=192, kernel_size=5, num_repeat=4, expand_ratio=6, strides=(2, 2), se_ratio=0.25, id_skip=True, fused_conv=False, conv_type='depthwise'), BlockConfig(input_filters=192, output_filters=320, kernel_size=3, num_repeat=1, expand_ratio=6, strides=(1, 1), se_ratio=0.25, id_skip=True, fused_conv=False, conv_type='depthwise')), stem_base_filters=32, top_base_filters=1280, activation='simple_swish', batch_norm='default', bn_momentum=0.99, bn_epsilon=0.001, weight_decay=5e-06, drop_connect_rate=0.2, depth_divisor=8, min_depth=None, use_se=True, input_channels=3, num_classes=1000, model_name='efficientnet', rescale_input=False, data_format='channels_last', dtype='float32')\n",
      "I1111 23:45:57.840791   328 ssd_efficientnet_bifpn_feature_extractor.py:161] EfficientDet EfficientNet backbone version: efficientnet-b5\n",
      "I1111 23:45:57.841304   328 ssd_efficientnet_bifpn_feature_extractor.py:163] EfficientDet BiFPN num filters: 288\n",
      "I1111 23:45:57.841304   328 ssd_efficientnet_bifpn_feature_extractor.py:164] EfficientDet BiFPN num iterations: 7\n",
      "I1111 23:45:57.842304   328 efficientnet_model.py:143] round_filter input=32 output=48\n",
      "I1111 23:45:57.855850   328 efficientnet_model.py:143] round_filter input=32 output=48\n",
      "I1111 23:45:57.856350   328 efficientnet_model.py:143] round_filter input=16 output=24\n",
      "I1111 23:45:58.017906   328 efficientnet_model.py:143] round_filter input=16 output=24\n",
      "I1111 23:45:58.017906   328 efficientnet_model.py:143] round_filter input=24 output=40\n",
      "I1111 23:45:58.476267   328 efficientnet_model.py:143] round_filter input=24 output=40\n",
      "I1111 23:45:58.476267   328 efficientnet_model.py:143] round_filter input=40 output=64\n",
      "I1111 23:45:58.818671   328 efficientnet_model.py:143] round_filter input=40 output=64\n",
      "I1111 23:45:58.818671   328 efficientnet_model.py:143] round_filter input=80 output=128\n",
      "I1111 23:45:59.307643   328 efficientnet_model.py:143] round_filter input=80 output=128\n",
      "I1111 23:45:59.307643   328 efficientnet_model.py:143] round_filter input=112 output=176\n",
      "I1111 23:45:59.794248   328 efficientnet_model.py:143] round_filter input=112 output=176\n",
      "I1111 23:45:59.794749   328 efficientnet_model.py:143] round_filter input=192 output=304\n",
      "I1111 23:46:00.448068   328 efficientnet_model.py:143] round_filter input=192 output=304\n",
      "I1111 23:46:00.448068   328 efficientnet_model.py:143] round_filter input=320 output=512\n",
      "I1111 23:46:00.668248   328 efficientnet_model.py:143] round_filter input=1280 output=2048\n",
      "I1111 23:46:00.697831   328 efficientnet_model.py:453] Building model efficientnet with params ModelConfig(width_coefficient=1.6, depth_coefficient=2.2, resolution=456, dropout_rate=0.4, blocks=(BlockConfig(input_filters=32, output_filters=16, kernel_size=3, num_repeat=1, expand_ratio=1, strides=(1, 1), se_ratio=0.25, id_skip=True, fused_conv=False, conv_type='depthwise'), BlockConfig(input_filters=16, output_filters=24, kernel_size=3, num_repeat=2, expand_ratio=6, strides=(2, 2), se_ratio=0.25, id_skip=True, fused_conv=False, conv_type='depthwise'), BlockConfig(input_filters=24, output_filters=40, kernel_size=5, num_repeat=2, expand_ratio=6, strides=(2, 2), se_ratio=0.25, id_skip=True, fused_conv=False, conv_type='depthwise'), BlockConfig(input_filters=40, output_filters=80, kernel_size=3, num_repeat=3, expand_ratio=6, strides=(2, 2), se_ratio=0.25, id_skip=True, fused_conv=False, conv_type='depthwise'), BlockConfig(input_filters=80, output_filters=112, kernel_size=5, num_repeat=3, expand_ratio=6, strides=(1, 1), se_ratio=0.25, id_skip=True, fused_conv=False, conv_type='depthwise'), BlockConfig(input_filters=112, output_filters=192, kernel_size=5, num_repeat=4, expand_ratio=6, strides=(2, 2), se_ratio=0.25, id_skip=True, fused_conv=False, conv_type='depthwise'), BlockConfig(input_filters=192, output_filters=320, kernel_size=3, num_repeat=1, expand_ratio=6, strides=(1, 1), se_ratio=0.25, id_skip=True, fused_conv=False, conv_type='depthwise')), stem_base_filters=32, top_base_filters=1280, activation='simple_swish', batch_norm='default', bn_momentum=0.99, bn_epsilon=0.001, weight_decay=5e-06, drop_connect_rate=0.2, depth_divisor=8, min_depth=None, use_se=True, input_channels=3, num_classes=1000, model_name='efficientnet', rescale_input=False, data_format='channels_last', dtype='float32')\n",
      "I1111 23:46:00.768495   328 ssd_efficientnet_bifpn_feature_extractor.py:161] EfficientDet EfficientNet backbone version: efficientnet-b6\n",
      "I1111 23:46:00.768495   328 ssd_efficientnet_bifpn_feature_extractor.py:163] EfficientDet BiFPN num filters: 384\n",
      "I1111 23:46:00.768495   328 ssd_efficientnet_bifpn_feature_extractor.py:164] EfficientDet BiFPN num iterations: 8\n",
      "I1111 23:46:00.769996   328 efficientnet_model.py:143] round_filter input=32 output=56\n",
      "I1111 23:46:00.785557   328 efficientnet_model.py:143] round_filter input=32 output=56\n",
      "I1111 23:46:00.785557   328 efficientnet_model.py:143] round_filter input=16 output=32\n",
      "I1111 23:46:00.955564   328 efficientnet_model.py:143] round_filter input=16 output=32\n",
      "I1111 23:46:00.955564   328 efficientnet_model.py:143] round_filter input=24 output=40\n",
      "I1111 23:46:01.378762   328 efficientnet_model.py:143] round_filter input=24 output=40\n",
      "I1111 23:46:01.378762   328 efficientnet_model.py:143] round_filter input=40 output=72\n",
      "I1111 23:46:01.822244   328 efficientnet_model.py:143] round_filter input=40 output=72\n",
      "I1111 23:46:01.822746   328 efficientnet_model.py:143] round_filter input=80 output=144\n",
      "I1111 23:46:02.395869   328 efficientnet_model.py:143] round_filter input=80 output=144\n",
      "I1111 23:46:02.395869   328 efficientnet_model.py:143] round_filter input=112 output=200\n",
      "I1111 23:46:03.105952   328 efficientnet_model.py:143] round_filter input=112 output=200\n",
      "I1111 23:46:03.105952   328 efficientnet_model.py:143] round_filter input=192 output=344\n",
      "I1111 23:46:03.866452   328 efficientnet_model.py:143] round_filter input=192 output=344\n",
      "I1111 23:46:03.866452   328 efficientnet_model.py:143] round_filter input=320 output=576\n",
      "I1111 23:46:04.078147   328 efficientnet_model.py:143] round_filter input=1280 output=2304\n",
      "I1111 23:46:04.105710   328 efficientnet_model.py:453] Building model efficientnet with params ModelConfig(width_coefficient=1.8, depth_coefficient=2.6, resolution=528, dropout_rate=0.5, blocks=(BlockConfig(input_filters=32, output_filters=16, kernel_size=3, num_repeat=1, expand_ratio=1, strides=(1, 1), se_ratio=0.25, id_skip=True, fused_conv=False, conv_type='depthwise'), BlockConfig(input_filters=16, output_filters=24, kernel_size=3, num_repeat=2, expand_ratio=6, strides=(2, 2), se_ratio=0.25, id_skip=True, fused_conv=False, conv_type='depthwise'), BlockConfig(input_filters=24, output_filters=40, kernel_size=5, num_repeat=2, expand_ratio=6, strides=(2, 2), se_ratio=0.25, id_skip=True, fused_conv=False, conv_type='depthwise'), BlockConfig(input_filters=40, output_filters=80, kernel_size=3, num_repeat=3, expand_ratio=6, strides=(2, 2), se_ratio=0.25, id_skip=True, fused_conv=False, conv_type='depthwise'), BlockConfig(input_filters=80, output_filters=112, kernel_size=5, num_repeat=3, expand_ratio=6, strides=(1, 1), se_ratio=0.25, id_skip=True, fused_conv=False, conv_type='depthwise'), BlockConfig(input_filters=112, output_filters=192, kernel_size=5, num_repeat=4, expand_ratio=6, strides=(2, 2), se_ratio=0.25, id_skip=True, fused_conv=False, conv_type='depthwise'), BlockConfig(input_filters=192, output_filters=320, kernel_size=3, num_repeat=1, expand_ratio=6, strides=(1, 1), se_ratio=0.25, id_skip=True, fused_conv=False, conv_type='depthwise')), stem_base_filters=32, top_base_filters=1280, activation='simple_swish', batch_norm='default', bn_momentum=0.99, bn_epsilon=0.001, weight_decay=5e-06, drop_connect_rate=0.2, depth_divisor=8, min_depth=None, use_se=True, input_channels=3, num_classes=1000, model_name='efficientnet', rescale_input=False, data_format='channels_last', dtype='float32')\n",
      "I1111 23:46:04.186926   328 ssd_efficientnet_bifpn_feature_extractor.py:161] EfficientDet EfficientNet backbone version: efficientnet-b7\n",
      "I1111 23:46:04.186926   328 ssd_efficientnet_bifpn_feature_extractor.py:163] EfficientDet BiFPN num filters: 384\n",
      "I1111 23:46:04.186926   328 ssd_efficientnet_bifpn_feature_extractor.py:164] EfficientDet BiFPN num iterations: 8\n",
      "I1111 23:46:04.188427   328 efficientnet_model.py:143] round_filter input=32 output=64\n",
      "I1111 23:46:04.203475   328 efficientnet_model.py:143] round_filter input=32 output=64\n",
      "I1111 23:46:04.203475   328 efficientnet_model.py:143] round_filter input=16 output=32\n",
      "I1111 23:46:04.421705   328 efficientnet_model.py:143] round_filter input=16 output=32\n",
      "I1111 23:46:04.421705   328 efficientnet_model.py:143] round_filter input=24 output=48\n",
      "I1111 23:46:04.895041   328 efficientnet_model.py:143] round_filter input=24 output=48\n",
      "I1111 23:46:04.895041   328 efficientnet_model.py:143] round_filter input=40 output=80\n",
      "I1111 23:46:05.359874   328 efficientnet_model.py:143] round_filter input=40 output=80\n",
      "I1111 23:46:05.360878   328 efficientnet_model.py:143] round_filter input=80 output=160\n",
      "I1111 23:46:06.029816   328 efficientnet_model.py:143] round_filter input=80 output=160\n",
      "I1111 23:46:06.029816   328 efficientnet_model.py:143] round_filter input=112 output=224\n",
      "I1111 23:46:06.702583   328 efficientnet_model.py:143] round_filter input=112 output=224\n",
      "I1111 23:46:06.702583   328 efficientnet_model.py:143] round_filter input=192 output=384\n",
      "I1111 23:46:07.570042   328 efficientnet_model.py:143] round_filter input=192 output=384\n",
      "I1111 23:46:07.570042   328 efficientnet_model.py:143] round_filter input=320 output=640\n",
      "I1111 23:46:07.850090   328 efficientnet_model.py:143] round_filter input=1280 output=2560\n",
      "I1111 23:46:07.880191   328 efficientnet_model.py:453] Building model efficientnet with params ModelConfig(width_coefficient=2.0, depth_coefficient=3.1, resolution=600, dropout_rate=0.5, blocks=(BlockConfig(input_filters=32, output_filters=16, kernel_size=3, num_repeat=1, expand_ratio=1, strides=(1, 1), se_ratio=0.25, id_skip=True, fused_conv=False, conv_type='depthwise'), BlockConfig(input_filters=16, output_filters=24, kernel_size=3, num_repeat=2, expand_ratio=6, strides=(2, 2), se_ratio=0.25, id_skip=True, fused_conv=False, conv_type='depthwise'), BlockConfig(input_filters=24, output_filters=40, kernel_size=5, num_repeat=2, expand_ratio=6, strides=(2, 2), se_ratio=0.25, id_skip=True, fused_conv=False, conv_type='depthwise'), BlockConfig(input_filters=40, output_filters=80, kernel_size=3, num_repeat=3, expand_ratio=6, strides=(2, 2), se_ratio=0.25, id_skip=True, fused_conv=False, conv_type='depthwise'), BlockConfig(input_filters=80, output_filters=112, kernel_size=5, num_repeat=3, expand_ratio=6, strides=(1, 1), se_ratio=0.25, id_skip=True, fused_conv=False, conv_type='depthwise'), BlockConfig(input_filters=112, output_filters=192, kernel_size=5, num_repeat=4, expand_ratio=6, strides=(2, 2), se_ratio=0.25, id_skip=True, fused_conv=False, conv_type='depthwise'), BlockConfig(input_filters=192, output_filters=320, kernel_size=3, num_repeat=1, expand_ratio=6, strides=(1, 1), se_ratio=0.25, id_skip=True, fused_conv=False, conv_type='depthwise')), stem_base_filters=32, top_base_filters=1280, activation='simple_swish', batch_norm='default', bn_momentum=0.99, bn_epsilon=0.001, weight_decay=5e-06, drop_connect_rate=0.2, depth_divisor=8, min_depth=None, use_se=True, input_channels=3, num_classes=1000, model_name='efficientnet', rescale_input=False, data_format='channels_last', dtype='float32')\n",
      "INFO:tensorflow:time(__main__.ModelBuilderTF2Test.test_create_ssd_models_from_config): 19.72s\n",
      "I1111 23:46:08.128409   328 test_util.py:2460] time(__main__.ModelBuilderTF2Test.test_create_ssd_models_from_config): 19.72s\n",
      "[       OK ] ModelBuilderTF2Test.test_create_ssd_models_from_config\n",
      "[ RUN      ] ModelBuilderTF2Test.test_invalid_faster_rcnn_batchnorm_update\n",
      "INFO:tensorflow:time(__main__.ModelBuilderTF2Test.test_invalid_faster_rcnn_batchnorm_update): 0.0s\n",
      "I1111 23:46:08.148484   328 test_util.py:2460] time(__main__.ModelBuilderTF2Test.test_invalid_faster_rcnn_batchnorm_update): 0.0s\n",
      "[       OK ] ModelBuilderTF2Test.test_invalid_faster_rcnn_batchnorm_update\n",
      "[ RUN      ] ModelBuilderTF2Test.test_invalid_first_stage_nms_iou_threshold\n",
      "INFO:tensorflow:time(__main__.ModelBuilderTF2Test.test_invalid_first_stage_nms_iou_threshold): 0.0s\n",
      "I1111 23:46:08.149485   328 test_util.py:2460] time(__main__.ModelBuilderTF2Test.test_invalid_first_stage_nms_iou_threshold): 0.0s\n",
      "[       OK ] ModelBuilderTF2Test.test_invalid_first_stage_nms_iou_threshold\n",
      "[ RUN      ] ModelBuilderTF2Test.test_invalid_model_config_proto\n",
      "INFO:tensorflow:time(__main__.ModelBuilderTF2Test.test_invalid_model_config_proto): 0.0s\n",
      "I1111 23:46:08.149986   328 test_util.py:2460] time(__main__.ModelBuilderTF2Test.test_invalid_model_config_proto): 0.0s\n",
      "[       OK ] ModelBuilderTF2Test.test_invalid_model_config_proto\n",
      "[ RUN      ] ModelBuilderTF2Test.test_invalid_second_stage_batch_size\n",
      "INFO:tensorflow:time(__main__.ModelBuilderTF2Test.test_invalid_second_stage_batch_size): 0.0s\n",
      "I1111 23:46:08.150990   328 test_util.py:2460] time(__main__.ModelBuilderTF2Test.test_invalid_second_stage_batch_size): 0.0s\n",
      "[       OK ] ModelBuilderTF2Test.test_invalid_second_stage_batch_size\n",
      "[ RUN      ] ModelBuilderTF2Test.test_session\n",
      "[  SKIPPED ] ModelBuilderTF2Test.test_session\n",
      "[ RUN      ] ModelBuilderTF2Test.test_unknown_faster_rcnn_feature_extractor\n",
      "INFO:tensorflow:time(__main__.ModelBuilderTF2Test.test_unknown_faster_rcnn_feature_extractor): 0.0s\n",
      "I1111 23:46:08.152005   328 test_util.py:2460] time(__main__.ModelBuilderTF2Test.test_unknown_faster_rcnn_feature_extractor): 0.0s\n",
      "[       OK ] ModelBuilderTF2Test.test_unknown_faster_rcnn_feature_extractor\n",
      "[ RUN      ] ModelBuilderTF2Test.test_unknown_meta_architecture\n",
      "INFO:tensorflow:time(__main__.ModelBuilderTF2Test.test_unknown_meta_architecture): 0.0s\n",
      "I1111 23:46:08.152506   328 test_util.py:2460] time(__main__.ModelBuilderTF2Test.test_unknown_meta_architecture): 0.0s\n",
      "[       OK ] ModelBuilderTF2Test.test_unknown_meta_architecture\n",
      "[ RUN      ] ModelBuilderTF2Test.test_unknown_ssd_feature_extractor\n",
      "INFO:tensorflow:time(__main__.ModelBuilderTF2Test.test_unknown_ssd_feature_extractor): 0.0s\n",
      "I1111 23:46:08.153007   328 test_util.py:2460] time(__main__.ModelBuilderTF2Test.test_unknown_ssd_feature_extractor): 0.0s\n",
      "[       OK ] ModelBuilderTF2Test.test_unknown_ssd_feature_extractor\n",
      "----------------------------------------------------------------------\n",
      "Ran 24 tests in 34.552s\n",
      "\n",
      "OK (skipped=1)\n"
     ]
    }
   ],
   "source": [
    "VERIFICATION_SCRIPT = os.path.join(paths['APIMODEL_PATH'], 'research', 'object_detection', 'builders', 'model_builder_tf2_test.py')\n",
    "# Verify Installation\n",
    "!python {VERIFICATION_SCRIPT}"
   ]
  },
  {
   "cell_type": "code",
   "execution_count": null,
   "metadata": {
    "collapsed": true,
    "jupyter": {
     "outputs_hidden": true
    }
   },
   "outputs": [],
   "source": [
    "!pip install tensorflow --upgrade"
   ]
  },
  {
   "cell_type": "code",
   "execution_count": null,
   "metadata": {
    "collapsed": true,
    "jupyter": {
     "outputs_hidden": true
    }
   },
   "outputs": [],
   "source": [
    "!pip uninstall protobuf matplotlib -y\n",
    "!pip install protobuf matplotlib==3.2"
   ]
  },
  {
   "cell_type": "code",
   "execution_count": null,
   "metadata": {},
   "outputs": [],
   "source": [
    "!pip install pillow"
   ]
  },
  {
   "cell_type": "code",
   "execution_count": null,
   "metadata": {},
   "outputs": [],
   "source": [
    "!pip install apache-beam"
   ]
  },
  {
   "cell_type": "code",
   "execution_count": null,
   "metadata": {},
   "outputs": [],
   "source": [
    "!pip install avro-python3"
   ]
  },
  {
   "cell_type": "code",
   "execution_count": 6,
   "metadata": {},
   "outputs": [],
   "source": [
    "import object_detection"
   ]
  },
  {
   "cell_type": "code",
   "execution_count": null,
   "metadata": {
    "scrolled": true
   },
   "outputs": [],
   "source": [
    "!pip list"
   ]
  },
  {
   "cell_type": "code",
   "execution_count": 7,
   "metadata": {
    "colab": {
     "base_uri": "https://localhost:8080/"
    },
    "id": "csofht2npfDE",
    "outputId": "ff5471b2-bed2-43f2-959c-327a706527b6"
   },
   "outputs": [
    {
     "ename": "NameError",
     "evalue": "name 'wget' is not defined",
     "output_type": "error",
     "traceback": [
      "\u001b[1;31m---------------------------------------------------------------------------\u001b[0m",
      "\u001b[1;31mNameError\u001b[0m                                 Traceback (most recent call last)",
      "\u001b[1;32mc:\\Users\\mnour\\Documents\\ai\\test\\TFODCourse\\2. Training and Detection.ipynb Cell 20\u001b[0m line \u001b[0;36m6\n\u001b[0;32m      <a href='vscode-notebook-cell:/c%3A/Users/mnour/Documents/ai/test/TFODCourse/2.%20Training%20and%20Detection.ipynb#X25sZmlsZQ%3D%3D?line=3'>4</a>\u001b[0m     get_ipython()\u001b[39m.\u001b[39msystem(\u001b[39m\"\u001b[39m\u001b[39mcd \u001b[39m\u001b[39m{paths['PRETRAINED_MODEL_PATH']}\u001b[39;00m\u001b[39m && tar -zxvf \u001b[39m\u001b[39m{\u001b[39m\u001b[39mPRETRAINED_MODEL_NAME+\u001b[39m\u001b[39m'\u001b[39m\u001b[39m.tar.gz\u001b[39m\u001b[39m'\u001b[39m\u001b[39m}\u001b[39m\u001b[39m\"\u001b[39m)\n\u001b[0;32m      <a href='vscode-notebook-cell:/c%3A/Users/mnour/Documents/ai/test/TFODCourse/2.%20Training%20and%20Detection.ipynb#X25sZmlsZQ%3D%3D?line=4'>5</a>\u001b[0m \u001b[39mif\u001b[39;00m os\u001b[39m.\u001b[39mname \u001b[39m==\u001b[39m \u001b[39m'\u001b[39m\u001b[39mnt\u001b[39m\u001b[39m'\u001b[39m:\n\u001b[1;32m----> <a href='vscode-notebook-cell:/c%3A/Users/mnour/Documents/ai/test/TFODCourse/2.%20Training%20and%20Detection.ipynb#X25sZmlsZQ%3D%3D?line=5'>6</a>\u001b[0m     wget\u001b[39m.\u001b[39mdownload(PRETRAINED_MODEL_URL)\n\u001b[0;32m      <a href='vscode-notebook-cell:/c%3A/Users/mnour/Documents/ai/test/TFODCourse/2.%20Training%20and%20Detection.ipynb#X25sZmlsZQ%3D%3D?line=6'>7</a>\u001b[0m     get_ipython()\u001b[39m.\u001b[39msystem(\u001b[39m\"\u001b[39m\u001b[39mmove \u001b[39m\u001b[39m{\u001b[39m\u001b[39mPRETRAINED_MODEL_NAME+\u001b[39m\u001b[39m'\u001b[39m\u001b[39m.tar.gz\u001b[39m\u001b[39m'\u001b[39m\u001b[39m} \u001b[39m\u001b[39m{paths['PRETRAINED_MODEL_PATH']}\u001b[39;00m\u001b[39m\"\u001b[39m)\n\u001b[0;32m      <a href='vscode-notebook-cell:/c%3A/Users/mnour/Documents/ai/test/TFODCourse/2.%20Training%20and%20Detection.ipynb#X25sZmlsZQ%3D%3D?line=7'>8</a>\u001b[0m     get_ipython()\u001b[39m.\u001b[39msystem(\u001b[39m\"\u001b[39m\u001b[39mcd \u001b[39m\u001b[39m{paths['PRETRAINED_MODEL_PATH']}\u001b[39;00m\u001b[39m && cd \u001b[39m\u001b[39m{PRETRAINED_MODEL_NAME}\u001b[39;00m\u001b[39m\"\u001b[39m)\n",
      "\u001b[1;31mNameError\u001b[0m: name 'wget' is not defined"
     ]
    }
   ],
   "source": [
    "if os.name =='posix':\n",
    "    !wget {PRETRAINED_MODEL_URL}\n",
    "    !mv {PRETRAINED_MODEL_NAME+'.tar.gz'} {paths['PRETRAINED_MODEL_PATH']}\n",
    "    !cd {paths['PRETRAINED_MODEL_PATH']} && tar -zxvf {PRETRAINED_MODEL_NAME+'.tar.gz'}\n",
    "if os.name == 'nt':\n",
    "    wget.download(PRETRAINED_MODEL_URL)\n",
    "    !move {PRETRAINED_MODEL_NAME+'.tar.gz'} {paths['PRETRAINED_MODEL_PATH']}\n",
    "    !cd {paths['PRETRAINED_MODEL_PATH']} && cd {PRETRAINED_MODEL_NAME}"
   ]
  },
  {
   "cell_type": "markdown",
   "metadata": {
    "id": "M5KJTnkfpfDC"
   },
   "source": [
    "# 2. Create Label Map"
   ]
  },
  {
   "cell_type": "code",
   "execution_count": 7,
   "metadata": {
    "id": "p1BVDWo7pfDC"
   },
   "outputs": [],
   "source": [
    "labels = [{'name':'face', 'id':1}, {'name':'eyes', 'id':2}, {'name':'livelong', 'id':3} , {'name':'thumpup', 'id':4}, {'name':'thumpdown', 'id':5}, {'name':'thankyou', 'id':6}]\n",
    "#{'name':'eyes_opened', 'id':1}, {'name':'eyes_closed', 'id':2}, {'name':'yawning', 'id':3} , {'name':'holding_phone', 'id':4}, {'name':'drowsy', 'id':5}\n",
    "with open(files['LABELMAP'], 'w') as f:\n",
    "    for label in labels:\n",
    "        f.write('item { \\n')\n",
    "        f.write('\\tname:\\'{}\\'\\n'.format(label['name']))\n",
    "        f.write('\\tid:{}\\n'.format(label['id']))\n",
    "        f.write('}\\n')"
   ]
  },
  {
   "cell_type": "markdown",
   "metadata": {
    "id": "C88zyVELpfDC"
   },
   "source": [
    "# 3. Create TF records"
   ]
  },
  {
   "cell_type": "code",
   "execution_count": 22,
   "metadata": {
    "colab": {
     "base_uri": "https://localhost:8080/"
    },
    "id": "kvf5WccwrFGq",
    "outputId": "49902aeb-0bd7-4298-e1a0-5b4a64eb2064"
   },
   "outputs": [],
   "source": [
    "# OPTIONAL IF RUNNING ON COLAB\n",
    "ARCHIVE_FILES = os.path.join(paths['IMAGE_PATH'], 'archive.tar.gz')\n",
    "if os.path.exists(ARCHIVE_FILES):\n",
    "  !tar -zxvf {ARCHIVE_FILES}"
   ]
  },
  {
   "cell_type": "code",
   "execution_count": 21,
   "metadata": {
    "colab": {
     "base_uri": "https://localhost:8080/"
    },
    "id": "KWpb_BVUpfDD",
    "outputId": "56ce2a3f-3933-4ee6-8a9d-d5ec65f7d73c"
   },
   "outputs": [],
   "source": [
    "if not os.path.exists(files['TF_RECORD_SCRIPT']):\n",
    "    !git clone https://github.com/nicknochnack/GenerateTFRecord {paths['SCRIPTS_PATH']}"
   ]
  },
  {
   "cell_type": "code",
   "execution_count": 34,
   "metadata": {
    "colab": {
     "base_uri": "https://localhost:8080/"
    },
    "id": "UPFToGZqpfDD",
    "outputId": "0ebb456f-aadc-4a1f-96e6-fbfec1923e1c"
   },
   "outputs": [
    {
     "name": "stdout",
     "output_type": "stream",
     "text": [
      "Successfully created the TFRecord file: Tensorflow\\workspace\\annotations\\train.record\n",
      "Successfully created the TFRecord file: Tensorflow\\workspace\\annotations\\test.record\n"
     ]
    }
   ],
   "source": [
    "!python {files['TF_RECORD_SCRIPT']} -x {os.path.join(paths['IMAGE_PATH'], 'train')} -l {files['LABELMAP']} -o {os.path.join(paths['ANNOTATION_PATH'], 'train.record')} \n",
    "!python {files['TF_RECORD_SCRIPT']} -x {os.path.join(paths['IMAGE_PATH'], 'test')} -l {files['LABELMAP']} -o {os.path.join(paths['ANNOTATION_PATH'], 'test.record')} "
   ]
  },
  {
   "cell_type": "markdown",
   "metadata": {
    "id": "qT4QU7pLpfDE"
   },
   "source": [
    "# 4. Copy Model Config to Training Folder"
   ]
  },
  {
   "cell_type": "code",
   "execution_count": 35,
   "metadata": {
    "id": "cOjuTFbwpfDF"
   },
   "outputs": [
    {
     "name": "stdout",
     "output_type": "stream",
     "text": [
      "        1 file(s) copied.\n"
     ]
    }
   ],
   "source": [
    "if os.name =='posix':\n",
    "    !cp {os.path.join(paths['PRETRAINED_MODEL_PATH'], PRETRAINED_MODEL_NAME, 'pipeline.config')} {os.path.join(paths['CHECKPOINT_PATH'])}\n",
    "if os.name == 'nt':\n",
    "    !copy {os.path.join(paths['PRETRAINED_MODEL_PATH'], PRETRAINED_MODEL_NAME, 'pipeline.config')} {os.path.join(paths['CHECKPOINT_PATH'])}"
   ]
  },
  {
   "cell_type": "markdown",
   "metadata": {
    "id": "Ga8gpNslpfDF"
   },
   "source": [
    "# 5. Update Config For Transfer Learning"
   ]
  },
  {
   "cell_type": "code",
   "execution_count": 36,
   "metadata": {
    "id": "Z9hRrO_ppfDF"
   },
   "outputs": [],
   "source": [
    "import tensorflow as tf\n",
    "from object_detection.utils import config_util\n",
    "from object_detection.protos import pipeline_pb2\n",
    "from google.protobuf import text_format"
   ]
  },
  {
   "cell_type": "code",
   "execution_count": 37,
   "metadata": {
    "id": "c2A0mn4ipfDF"
   },
   "outputs": [],
   "source": [
    "config = config_util.get_configs_from_pipeline_file(files['PIPELINE_CONFIG'])"
   ]
  },
  {
   "cell_type": "code",
   "execution_count": 38,
   "metadata": {
    "colab": {
     "base_uri": "https://localhost:8080/"
    },
    "id": "uQA13-afpfDF",
    "outputId": "907496a4-a39d-4b13-8c2c-e5978ecb1f10"
   },
   "outputs": [
    {
     "data": {
      "text/plain": [
       "{'model': ssd {\n",
       "   num_classes: 90\n",
       "   image_resizer {\n",
       "     fixed_shape_resizer {\n",
       "       height: 320\n",
       "       width: 320\n",
       "     }\n",
       "   }\n",
       "   feature_extractor {\n",
       "     type: \"ssd_mobilenet_v2_fpn_keras\"\n",
       "     depth_multiplier: 1.0\n",
       "     min_depth: 16\n",
       "     conv_hyperparams {\n",
       "       regularizer {\n",
       "         l2_regularizer {\n",
       "           weight: 3.9999998989515007e-05\n",
       "         }\n",
       "       }\n",
       "       initializer {\n",
       "         random_normal_initializer {\n",
       "           mean: 0.0\n",
       "           stddev: 0.009999999776482582\n",
       "         }\n",
       "       }\n",
       "       activation: RELU_6\n",
       "       batch_norm {\n",
       "         decay: 0.996999979019165\n",
       "         scale: true\n",
       "         epsilon: 0.0010000000474974513\n",
       "       }\n",
       "     }\n",
       "     use_depthwise: true\n",
       "     override_base_feature_extractor_hyperparams: true\n",
       "     fpn {\n",
       "       min_level: 3\n",
       "       max_level: 7\n",
       "       additional_layer_depth: 128\n",
       "     }\n",
       "   }\n",
       "   box_coder {\n",
       "     faster_rcnn_box_coder {\n",
       "       y_scale: 10.0\n",
       "       x_scale: 10.0\n",
       "       height_scale: 5.0\n",
       "       width_scale: 5.0\n",
       "     }\n",
       "   }\n",
       "   matcher {\n",
       "     argmax_matcher {\n",
       "       matched_threshold: 0.5\n",
       "       unmatched_threshold: 0.5\n",
       "       ignore_thresholds: false\n",
       "       negatives_lower_than_unmatched: true\n",
       "       force_match_for_each_row: true\n",
       "       use_matmul_gather: true\n",
       "     }\n",
       "   }\n",
       "   similarity_calculator {\n",
       "     iou_similarity {\n",
       "     }\n",
       "   }\n",
       "   box_predictor {\n",
       "     weight_shared_convolutional_box_predictor {\n",
       "       conv_hyperparams {\n",
       "         regularizer {\n",
       "           l2_regularizer {\n",
       "             weight: 3.9999998989515007e-05\n",
       "           }\n",
       "         }\n",
       "         initializer {\n",
       "           random_normal_initializer {\n",
       "             mean: 0.0\n",
       "             stddev: 0.009999999776482582\n",
       "           }\n",
       "         }\n",
       "         activation: RELU_6\n",
       "         batch_norm {\n",
       "           decay: 0.996999979019165\n",
       "           scale: true\n",
       "           epsilon: 0.0010000000474974513\n",
       "         }\n",
       "       }\n",
       "       depth: 128\n",
       "       num_layers_before_predictor: 4\n",
       "       kernel_size: 3\n",
       "       class_prediction_bias_init: -4.599999904632568\n",
       "       share_prediction_tower: true\n",
       "       use_depthwise: true\n",
       "     }\n",
       "   }\n",
       "   anchor_generator {\n",
       "     multiscale_anchor_generator {\n",
       "       min_level: 3\n",
       "       max_level: 7\n",
       "       anchor_scale: 4.0\n",
       "       aspect_ratios: 1.0\n",
       "       aspect_ratios: 2.0\n",
       "       aspect_ratios: 0.5\n",
       "       scales_per_octave: 2\n",
       "     }\n",
       "   }\n",
       "   post_processing {\n",
       "     batch_non_max_suppression {\n",
       "       score_threshold: 9.99999993922529e-09\n",
       "       iou_threshold: 0.6000000238418579\n",
       "       max_detections_per_class: 100\n",
       "       max_total_detections: 100\n",
       "       use_static_shapes: false\n",
       "     }\n",
       "     score_converter: SIGMOID\n",
       "   }\n",
       "   normalize_loss_by_num_matches: true\n",
       "   loss {\n",
       "     localization_loss {\n",
       "       weighted_smooth_l1 {\n",
       "       }\n",
       "     }\n",
       "     classification_loss {\n",
       "       weighted_sigmoid_focal {\n",
       "         gamma: 2.0\n",
       "         alpha: 0.25\n",
       "       }\n",
       "     }\n",
       "     classification_weight: 1.0\n",
       "     localization_weight: 1.0\n",
       "   }\n",
       "   encode_background_as_zeros: true\n",
       "   normalize_loc_loss_by_codesize: true\n",
       "   inplace_batchnorm_update: true\n",
       "   freeze_batchnorm: false\n",
       " },\n",
       " 'train_config': batch_size: 128\n",
       " data_augmentation_options {\n",
       "   random_horizontal_flip {\n",
       "   }\n",
       " }\n",
       " data_augmentation_options {\n",
       "   random_crop_image {\n",
       "     min_object_covered: 0.0\n",
       "     min_aspect_ratio: 0.75\n",
       "     max_aspect_ratio: 3.0\n",
       "     min_area: 0.75\n",
       "     max_area: 1.0\n",
       "     overlap_thresh: 0.0\n",
       "   }\n",
       " }\n",
       " sync_replicas: true\n",
       " optimizer {\n",
       "   momentum_optimizer {\n",
       "     learning_rate {\n",
       "       cosine_decay_learning_rate {\n",
       "         learning_rate_base: 0.07999999821186066\n",
       "         total_steps: 50000\n",
       "         warmup_learning_rate: 0.026666000485420227\n",
       "         warmup_steps: 1000\n",
       "       }\n",
       "     }\n",
       "     momentum_optimizer_value: 0.8999999761581421\n",
       "   }\n",
       "   use_moving_average: false\n",
       " }\n",
       " fine_tune_checkpoint: \"PATH_TO_BE_CONFIGURED\"\n",
       " num_steps: 50000\n",
       " startup_delay_steps: 0.0\n",
       " replicas_to_aggregate: 8\n",
       " max_number_of_boxes: 100\n",
       " unpad_groundtruth_tensors: false\n",
       " fine_tune_checkpoint_type: \"classification\"\n",
       " fine_tune_checkpoint_version: V2,\n",
       " 'train_input_config': label_map_path: \"PATH_TO_BE_CONFIGURED\"\n",
       " tf_record_input_reader {\n",
       "   input_path: \"PATH_TO_BE_CONFIGURED\"\n",
       " },\n",
       " 'eval_config': metrics_set: \"coco_detection_metrics\"\n",
       " use_moving_averages: false,\n",
       " 'eval_input_configs': [label_map_path: \"PATH_TO_BE_CONFIGURED\"\n",
       " shuffle: false\n",
       " num_epochs: 1\n",
       " tf_record_input_reader {\n",
       "   input_path: \"PATH_TO_BE_CONFIGURED\"\n",
       " }\n",
       " ],\n",
       " 'eval_input_config': label_map_path: \"PATH_TO_BE_CONFIGURED\"\n",
       " shuffle: false\n",
       " num_epochs: 1\n",
       " tf_record_input_reader {\n",
       "   input_path: \"PATH_TO_BE_CONFIGURED\"\n",
       " }}"
      ]
     },
     "execution_count": 38,
     "metadata": {},
     "output_type": "execute_result"
    }
   ],
   "source": [
    "config"
   ]
  },
  {
   "cell_type": "code",
   "execution_count": 39,
   "metadata": {
    "id": "9vK5lotDpfDF"
   },
   "outputs": [],
   "source": [
    "pipeline_config = pipeline_pb2.TrainEvalPipelineConfig()\n",
    "with tf.io.gfile.GFile(files['PIPELINE_CONFIG'], \"r\") as f:                                                                                                                                                                                                                     \n",
    "    proto_str = f.read()                                                                                                                                                                                                                                          \n",
    "    text_format.Merge(proto_str, pipeline_config)  "
   ]
  },
  {
   "cell_type": "code",
   "execution_count": 40,
   "metadata": {
    "id": "rP43Ph0JpfDG"
   },
   "outputs": [],
   "source": [
    "pipeline_config.model.ssd.num_classes = len(labels)\n",
    "pipeline_config.train_config.batch_size = 4\n",
    "pipeline_config.train_config.fine_tune_checkpoint = os.path.join(paths['PRETRAINED_MODEL_PATH'], PRETRAINED_MODEL_NAME, 'checkpoint', 'ckpt-0')\n",
    "pipeline_config.train_config.fine_tune_checkpoint_type = \"detection\"\n",
    "pipeline_config.train_input_reader.label_map_path= files['LABELMAP']\n",
    "pipeline_config.train_input_reader.tf_record_input_reader.input_path[:] = [os.path.join(paths['ANNOTATION_PATH'], 'train.record')]\n",
    "pipeline_config.eval_input_reader[0].label_map_path = files['LABELMAP']\n",
    "pipeline_config.eval_input_reader[0].tf_record_input_reader.input_path[:] = [os.path.join(paths['ANNOTATION_PATH'], 'test.record')]"
   ]
  },
  {
   "cell_type": "code",
   "execution_count": 41,
   "metadata": {
    "id": "oJvfgwWqpfDG"
   },
   "outputs": [],
   "source": [
    "config_text = text_format.MessageToString(pipeline_config)                                                                                                                                                                                                        \n",
    "with tf.io.gfile.GFile(files['PIPELINE_CONFIG'], \"wb\") as f:                                                                                                                                                                                                                     \n",
    "    f.write(config_text)   "
   ]
  },
  {
   "cell_type": "markdown",
   "metadata": {
    "id": "Zr3ON7xMpfDG"
   },
   "source": [
    "# 6. Train the model"
   ]
  },
  {
   "cell_type": "code",
   "execution_count": 12,
   "metadata": {},
   "outputs": [
    {
     "name": "stdout",
     "output_type": "stream",
     "text": [
      "Collecting gin\n",
      "  Using cached gin-0.1.6-py3-none-any.whl\n",
      "Installing collected packages: gin\n",
      "Successfully installed gin-0.1.6\n"
     ]
    }
   ],
   "source": [
    "!pip install gin"
   ]
  },
  {
   "cell_type": "code",
   "execution_count": 42,
   "metadata": {},
   "outputs": [
    {
     "data": {
      "text/plain": [
       "True"
      ]
     },
     "execution_count": 42,
     "metadata": {},
     "output_type": "execute_result"
    }
   ],
   "source": [
    "tf.test.is_built_with_cuda()"
   ]
  },
  {
   "cell_type": "code",
   "execution_count": 43,
   "metadata": {},
   "outputs": [
    {
     "data": {
      "text/plain": [
       "[PhysicalDevice(name='/physical_device:CPU:0', device_type='CPU'),\n",
       " PhysicalDevice(name='/physical_device:GPU:0', device_type='GPU')]"
      ]
     },
     "execution_count": 43,
     "metadata": {},
     "output_type": "execute_result"
    }
   ],
   "source": [
    "tf.config.list_physical_devices()"
   ]
  },
  {
   "cell_type": "code",
   "execution_count": 44,
   "metadata": {
    "id": "B-Y2UQmQpfDG"
   },
   "outputs": [],
   "source": [
    "TRAINING_SCRIPT = os.path.join(paths['APIMODEL_PATH'], 'research', 'object_detection', 'model_main_tf2.py')"
   ]
  },
  {
   "cell_type": "code",
   "execution_count": 45,
   "metadata": {
    "id": "jMP2XDfQpfDH"
   },
   "outputs": [],
   "source": [
    "command = \"python {} --model_dir={} --pipeline_config_path={} --num_train_steps=2000\".format(TRAINING_SCRIPT, paths['CHECKPOINT_PATH'],files['PIPELINE_CONFIG'])"
   ]
  },
  {
   "cell_type": "code",
   "execution_count": 46,
   "metadata": {
    "colab": {
     "base_uri": "https://localhost:8080/"
    },
    "id": "A4OXXi-ApfDH",
    "outputId": "117a0e83-012b-466e-b7a6-ccaa349ac5ab"
   },
   "outputs": [
    {
     "name": "stdout",
     "output_type": "stream",
     "text": [
      "python Tensorflow\\models\\research\\object_detection\\model_main_tf2.py --model_dir=Tensorflow\\workspace\\models\\Image_proccessing_project --pipeline_config_path=Tensorflow\\workspace\\models\\Image_proccessing_project\\pipeline.config --num_train_steps=2000\n"
     ]
    }
   ],
   "source": [
    "print(command)"
   ]
  },
  {
   "cell_type": "code",
   "execution_count": null,
   "metadata": {
    "colab": {
     "base_uri": "https://localhost:8080/"
    },
    "id": "i3ZsJR-qpfDH",
    "outputId": "cabec5e1-45e6-4f2f-d9cf-297d9c1d0225"
   },
   "outputs": [],
   "source": [
    "!{command}"
   ]
  },
  {
   "cell_type": "markdown",
   "metadata": {
    "id": "4_YRZu7npfDH"
   },
   "source": [
    "# 7. Evaluate the Model"
   ]
  },
  {
   "cell_type": "code",
   "execution_count": 12,
   "metadata": {
    "id": "80L7-fdPpfDH"
   },
   "outputs": [],
   "source": [
    "command = \"python {} --model_dir={} --pipeline_config_path={} --checkpoint_dir={}\".format(TRAINING_SCRIPT, paths['CHECKPOINT_PATH'],files['PIPELINE_CONFIG'], paths['CHECKPOINT_PATH'])"
   ]
  },
  {
   "cell_type": "code",
   "execution_count": 13,
   "metadata": {
    "colab": {
     "base_uri": "https://localhost:8080/"
    },
    "id": "lYsgEPx9pfDH",
    "outputId": "8632d48b-91d2-45d9-bcb8-c1b172bf6eed"
   },
   "outputs": [
    {
     "name": "stdout",
     "output_type": "stream",
     "text": [
      "python Tensorflow\\models\\research\\object_detection\\model_main_tf2.py --model_dir=Tensorflow\\workspace\\models\\eyes_yawning_phone_drowsy --pipeline_config_path=Tensorflow\\workspace\\models\\eyes_yawning_phone_drowsy\\pipeline.config --checkpoint_dir=Tensorflow\\workspace\\models\\eyes_yawning_phone_drowsy\n"
     ]
    }
   ],
   "source": [
    "print(command)"
   ]
  },
  {
   "cell_type": "code",
   "execution_count": 24,
   "metadata": {
    "id": "lqTV2jGBpfDH"
   },
   "outputs": [
    {
     "name": "stderr",
     "output_type": "stream",
     "text": [
      "WARNING:tensorflow:Forced number of epochs for all eval validations to be 1.\n",
      "W1110 21:45:22.465272 19484 model_lib_v2.py:1089] Forced number of epochs for all eval validations to be 1.\n",
      "INFO:tensorflow:Maybe overwriting sample_1_of_n_eval_examples: None\n",
      "I1110 21:45:22.465272 19484 config_util.py:552] Maybe overwriting sample_1_of_n_eval_examples: None\n",
      "INFO:tensorflow:Maybe overwriting use_bfloat16: False\n",
      "I1110 21:45:22.465272 19484 config_util.py:552] Maybe overwriting use_bfloat16: False\n",
      "INFO:tensorflow:Maybe overwriting eval_num_epochs: 1\n",
      "I1110 21:45:22.465272 19484 config_util.py:552] Maybe overwriting eval_num_epochs: 1\n",
      "WARNING:tensorflow:Expected number of evaluation epochs is 1, but instead encountered `eval_on_train_input_config.num_epochs` = 0. Overwriting `num_epochs` to 1.\n",
      "W1110 21:45:22.465272 19484 model_lib_v2.py:1106] Expected number of evaluation epochs is 1, but instead encountered `eval_on_train_input_config.num_epochs` = 0. Overwriting `num_epochs` to 1.\n",
      "2023-11-10 21:45:22.467515: I tensorflow/core/platform/cpu_feature_guard.cc:193] This TensorFlow binary is optimized with oneAPI Deep Neural Network Library (oneDNN) to use the following CPU instructions in performance-critical operations:  AVX AVX2\n",
      "To enable them in other operations, rebuild TensorFlow with the appropriate compiler flags.\n",
      "2023-11-10 21:45:23.257243: I tensorflow/core/common_runtime/gpu/gpu_device.cc:1616] Created device /job:localhost/replica:0/task:0/device:GPU:0 with 5973 MB memory:  -> device: 0, name: NVIDIA GeForce RTX 2070 SUPER, pci bus id: 0000:07:00.0, compute capability: 7.5\n",
      "INFO:tensorflow:Reading unweighted datasets: ['Tensorflow\\\\workspace\\\\annotations\\\\test.record']\n",
      "I1110 21:45:23.463177 19484 dataset_builder.py:162] Reading unweighted datasets: ['Tensorflow\\\\workspace\\\\annotations\\\\test.record']\n",
      "INFO:tensorflow:Reading record datasets for input file: ['Tensorflow\\\\workspace\\\\annotations\\\\test.record']\n",
      "I1110 21:45:23.463678 19484 dataset_builder.py:79] Reading record datasets for input file: ['Tensorflow\\\\workspace\\\\annotations\\\\test.record']\n",
      "INFO:tensorflow:Number of filenames to read: 1\n",
      "I1110 21:45:23.464178 19484 dataset_builder.py:80] Number of filenames to read: 1\n",
      "WARNING:tensorflow:num_readers has been reduced to 1 to match input file shards.\n",
      "W1110 21:45:23.464178 19484 dataset_builder.py:86] num_readers has been reduced to 1 to match input file shards.\n",
      "WARNING:tensorflow:From c:\\Users\\mnour\\Documents\\ai\\test\\TFODCourse\\tfod\\lib\\site-packages\\object_detection-0.1-py3.8.egg\\object_detection\\builders\\dataset_builder.py:100: parallel_interleave (from tensorflow.python.data.experimental.ops.interleave_ops) is deprecated and will be removed in a future version.\n",
      "Instructions for updating:\n",
      "Use `tf.data.Dataset.interleave(map_func, cycle_length, block_length, num_parallel_calls=tf.data.AUTOTUNE)` instead. If sloppy execution is desired, use `tf.data.Options.deterministic`.\n",
      "W1110 21:45:23.467180 19484 deprecation.py:350] From c:\\Users\\mnour\\Documents\\ai\\test\\TFODCourse\\tfod\\lib\\site-packages\\object_detection-0.1-py3.8.egg\\object_detection\\builders\\dataset_builder.py:100: parallel_interleave (from tensorflow.python.data.experimental.ops.interleave_ops) is deprecated and will be removed in a future version.\n",
      "Instructions for updating:\n",
      "Use `tf.data.Dataset.interleave(map_func, cycle_length, block_length, num_parallel_calls=tf.data.AUTOTUNE)` instead. If sloppy execution is desired, use `tf.data.Options.deterministic`.\n",
      "WARNING:tensorflow:From c:\\Users\\mnour\\Documents\\ai\\test\\TFODCourse\\tfod\\lib\\site-packages\\object_detection-0.1-py3.8.egg\\object_detection\\builders\\dataset_builder.py:235: DatasetV1.map_with_legacy_function (from tensorflow.python.data.ops.dataset_ops) is deprecated and will be removed in a future version.\n",
      "Instructions for updating:\n",
      "Use `tf.data.Dataset.map()\n",
      "W1110 21:45:23.480191 19484 deprecation.py:350] From c:\\Users\\mnour\\Documents\\ai\\test\\TFODCourse\\tfod\\lib\\site-packages\\object_detection-0.1-py3.8.egg\\object_detection\\builders\\dataset_builder.py:235: DatasetV1.map_with_legacy_function (from tensorflow.python.data.ops.dataset_ops) is deprecated and will be removed in a future version.\n",
      "Instructions for updating:\n",
      "Use `tf.data.Dataset.map()\n",
      "WARNING:tensorflow:From c:\\Users\\mnour\\Documents\\ai\\test\\TFODCourse\\tfod\\lib\\site-packages\\tensorflow\\python\\util\\dispatch.py:1176: sparse_to_dense (from tensorflow.python.ops.sparse_ops) is deprecated and will be removed in a future version.\n",
      "Instructions for updating:\n",
      "Create a `tf.sparse.SparseTensor` and use `tf.sparse.to_dense` instead.\n",
      "W1110 21:45:26.883805 19484 deprecation.py:350] From c:\\Users\\mnour\\Documents\\ai\\test\\TFODCourse\\tfod\\lib\\site-packages\\tensorflow\\python\\util\\dispatch.py:1176: sparse_to_dense (from tensorflow.python.ops.sparse_ops) is deprecated and will be removed in a future version.\n",
      "Instructions for updating:\n",
      "Create a `tf.sparse.SparseTensor` and use `tf.sparse.to_dense` instead.\n",
      "WARNING:tensorflow:From c:\\Users\\mnour\\Documents\\ai\\test\\TFODCourse\\tfod\\lib\\site-packages\\tensorflow\\python\\util\\dispatch.py:1176: to_float (from tensorflow.python.ops.math_ops) is deprecated and will be removed in a future version.\n",
      "Instructions for updating:\n",
      "Use `tf.cast` instead.\n",
      "W1110 21:45:27.737076 19484 deprecation.py:350] From c:\\Users\\mnour\\Documents\\ai\\test\\TFODCourse\\tfod\\lib\\site-packages\\tensorflow\\python\\util\\dispatch.py:1176: to_float (from tensorflow.python.ops.math_ops) is deprecated and will be removed in a future version.\n",
      "Instructions for updating:\n",
      "Use `tf.cast` instead.\n",
      "INFO:tensorflow:Waiting for new checkpoint at Tensorflow\\workspace\\models\\my_ssd_mobnet_eyesOnly\n",
      "I1110 21:45:30.009144 19484 checkpoint_utils.py:142] Waiting for new checkpoint at Tensorflow\\workspace\\models\\my_ssd_mobnet_eyesOnly\n",
      "INFO:tensorflow:Found new checkpoint at Tensorflow\\workspace\\models\\my_ssd_mobnet_eyesOnly\\ckpt-6\n",
      "I1110 21:45:30.010144 19484 checkpoint_utils.py:151] Found new checkpoint at Tensorflow\\workspace\\models\\my_ssd_mobnet_eyesOnly\\ckpt-6\n",
      "c:\\Users\\mnour\\Documents\\ai\\test\\TFODCourse\\tfod\\lib\\site-packages\\keras\\backend.py:451: UserWarning: `tf.keras.backend.set_learning_phase` is deprecated and will be removed after 2020-10-11. To update it, simply pass a True/False value to the `training` argument of the `__call__` method of your layer or model.\n",
      "  warnings.warn(\n",
      "Traceback (most recent call last):\n",
      "  File \"Tensorflow\\models\\research\\object_detection\\model_main_tf2.py\", line 114, in <module>\n",
      "    tf.compat.v1.app.run()\n",
      "  File \"c:\\Users\\mnour\\Documents\\ai\\test\\TFODCourse\\tfod\\lib\\site-packages\\tensorflow\\python\\platform\\app.py\", line 36, in run\n",
      "    _run(main=main, argv=argv, flags_parser=_parse_flags_tolerate_undef)\n",
      "  File \"c:\\Users\\mnour\\Documents\\ai\\test\\TFODCourse\\tfod\\lib\\site-packages\\absl\\app.py\", line 308, in run\n",
      "    _run_main(main, args)\n",
      "  File \"c:\\Users\\mnour\\Documents\\ai\\test\\TFODCourse\\tfod\\lib\\site-packages\\absl\\app.py\", line 254, in _run_main\n",
      "    sys.exit(main(argv))\n",
      "  File \"Tensorflow\\models\\research\\object_detection\\model_main_tf2.py\", line 81, in main\n",
      "    model_lib_v2.eval_continuously(\n",
      "  File \"c:\\Users\\mnour\\Documents\\ai\\test\\TFODCourse\\tfod\\lib\\site-packages\\object_detection-0.1-py3.8.egg\\object_detection\\model_lib_v2.py\", line 1158, in eval_continuously\n",
      "    eager_eval_loop(\n",
      "  File \"c:\\Users\\mnour\\Documents\\ai\\test\\TFODCourse\\tfod\\lib\\site-packages\\object_detection-0.1-py3.8.egg\\object_detection\\model_lib_v2.py\", line 1009, in eager_eval_loop\n",
      "    for evaluator in evaluators:\n",
      "TypeError: 'NoneType' object is not iterable\n"
     ]
    }
   ],
   "source": [
    "!{command}"
   ]
  },
  {
   "cell_type": "markdown",
   "metadata": {
    "id": "orvRk02UpfDI"
   },
   "source": [
    "# 8. Load Train Model From Checkpoint"
   ]
  },
  {
   "cell_type": "code",
   "execution_count": 8,
   "metadata": {
    "id": "8TYk4_oIpfDI"
   },
   "outputs": [],
   "source": [
    "import os\n",
    "import tensorflow as tf\n",
    "from object_detection.utils import label_map_util\n",
    "from object_detection.utils import visualization_utils as viz_utils\n",
    "from object_detection.builders import model_builder\n",
    "from object_detection.utils import config_util"
   ]
  },
  {
   "cell_type": "code",
   "execution_count": 9,
   "metadata": {
    "id": "tDnQg-cYpfDI"
   },
   "outputs": [],
   "source": [
    "# Load pipeline config and build a detection model\n",
    "configs = config_util.get_configs_from_pipeline_file(files['PIPELINE_CONFIG'])\n",
    "detection_model = model_builder.build(model_config=configs['model'], is_training=False)\n",
    "\n",
    "# Restore checkpoint\n",
    "ckpt = tf.compat.v2.train.Checkpoint(model=detection_model)\n",
    "ckpt.restore(os.path.join(paths['CHECKPOINT_PATH'], 'ckpt-21')).expect_partial()\n",
    "\n",
    "@tf.function\n",
    "def detect_fn(image):\n",
    "    image, shapes = detection_model.preprocess(image)\n",
    "    prediction_dict = detection_model.predict(image, shapes)\n",
    "    detections = detection_model.postprocess(prediction_dict, shapes)\n",
    "    return detections"
   ]
  },
  {
   "cell_type": "markdown",
   "metadata": {
    "id": "0EmsmbBZpfDI"
   },
   "source": [
    "# 9. Detect from an Image"
   ]
  },
  {
   "cell_type": "code",
   "execution_count": 10,
   "metadata": {
    "id": "Y_MKiuZ4pfDI"
   },
   "outputs": [],
   "source": [
    "import cv2 \n",
    "import numpy as np\n",
    "from matplotlib import pyplot as plt\n",
    "%matplotlib inline"
   ]
  },
  {
   "cell_type": "code",
   "execution_count": 11,
   "metadata": {
    "id": "cBDbIhNapfDI"
   },
   "outputs": [],
   "source": [
    "category_index = label_map_util.create_category_index_from_labelmap(files['LABELMAP'])"
   ]
  },
  {
   "cell_type": "code",
   "execution_count": 12,
   "metadata": {},
   "outputs": [
    {
     "data": {
      "text/plain": [
       "{1: {'id': 1, 'name': 'face'},\n",
       " 2: {'id': 2, 'name': 'eyes'},\n",
       " 3: {'id': 3, 'name': 'livelong'},\n",
       " 4: {'id': 4, 'name': 'thumpup'},\n",
       " 5: {'id': 5, 'name': 'thumpdown'},\n",
       " 6: {'id': 6, 'name': 'thankyou'}}"
      ]
     },
     "execution_count": 12,
     "metadata": {},
     "output_type": "execute_result"
    }
   ],
   "source": [
    "category_index"
   ]
  },
  {
   "cell_type": "code",
   "execution_count": 19,
   "metadata": {
    "id": "Lx3crOhOzITB"
   },
   "outputs": [],
   "source": [
    "IMAGE_PATH = os.path.join(paths['IMAGE_PATH'], 'test', 'eyes_opened (1).jpg')"
   ]
  },
  {
   "cell_type": "code",
   "execution_count": 20,
   "metadata": {
    "colab": {
     "base_uri": "https://localhost:8080/",
     "height": 269
    },
    "id": "Tpzn1SMry1yK",
    "outputId": "c392a2c5-10fe-4fc4-9998-a1d4c7db2bd3",
    "scrolled": true
   },
   "outputs": [
    {
     "name": "stdout",
     "output_type": "stream",
     "text": [
      "(480, 640, 3)\n"
     ]
    },
    {
     "data": {
      "image/png": "[encoded data removed]",
      "text/plain": [
       "<Figure size 640x480 with 1 Axes>"
      ]
     },
     "metadata": {},
     "output_type": "display_data"
    }
   ],
   "source": [
    "img = cv2.imread(IMAGE_PATH)\n",
    "image_np = np.array(img)\n",
    "\n",
    "input_tensor = tf.convert_to_tensor(np.expand_dims(image_np, 0), dtype=tf.float32)\n",
    "detections = detect_fn(input_tensor)\n",
    "\n",
    "num_detections = int(detections.pop('num_detections'))\n",
    "detections = {key: value[0, :num_detections].numpy()\n",
    "              for key, value in detections.items()}\n",
    "detections['num_detections'] = num_detections\n",
    "\n",
    "# detection_classes should be ints.\n",
    "detections['detection_classes'] = detections['detection_classes'].astype(np.int64)\n",
    "\n",
    "label_id_offset = 1\n",
    "image_np_with_detections = image_np.copy()\n",
    "\n",
    "viz_utils.visualize_boxes_and_labels_on_image_array(\n",
    "            image_np_with_detections,\n",
    "            detections['detection_boxes'],\n",
    "            detections['detection_classes']+label_id_offset,\n",
    "            detections['detection_scores'],\n",
    "            category_index,\n",
    "            use_normalized_coordinates=True,\n",
    "            max_boxes_to_draw=3,\n",
    "            min_score_thresh=.6,\n",
    "            agnostic_mode=False)\n",
    "print(image_np_with_detections.shape) \n",
    "\n",
    "plt.imshow(cv2.cvtColor(image_np_with_detections, cv2.COLOR_BGR2RGB))\n",
    "plt.show()"
   ]
  },
  {
   "cell_type": "code",
   "execution_count": 17,
   "metadata": {},
   "outputs": [
    {
     "data": {
      "text/plain": [
       "0.05819801"
      ]
     },
     "execution_count": 17,
     "metadata": {},
     "output_type": "execute_result"
    }
   ],
   "source": [
    "detections['detection_scores'][0]"
   ]
  },
  {
   "cell_type": "markdown",
   "metadata": {
    "id": "IsNAaYAo0WVL"
   },
   "source": [
    "# 10. Real Time Detections from your Webcam"
   ]
  },
  {
   "cell_type": "code",
   "execution_count": null,
   "metadata": {},
   "outputs": [],
   "source": [
    "!pip uninstall opencv-python-headless -y"
   ]
  },
  {
   "cell_type": "code",
   "execution_count": 18,
   "metadata": {
    "id": "o_grs6OGpfDJ"
   },
   "outputs": [],
   "source": [
    "cap = cv2.VideoCapture(0)\n",
    "width = int(cap.get(cv2.CAP_PROP_FRAME_WIDTH))\n",
    "height = int(cap.get(cv2.CAP_PROP_FRAME_HEIGHT))\n",
    "\n",
    "while cap.isOpened(): \n",
    "    ret, frame = cap.read()\n",
    "    image_np = np.array(frame)\n",
    "    \n",
    "    input_tensor = tf.convert_to_tensor(np.expand_dims(image_np, 0), dtype=tf.float32)\n",
    "    detections = detect_fn(input_tensor)\n",
    "    \n",
    "    num_detections = int(detections.pop('num_detections'))\n",
    "    detections = {key: value[0, :num_detections].numpy()\n",
    "                  for key, value in detections.items()}\n",
    "    detections['num_detections'] = num_detections\n",
    "\n",
    "    # detection_classes should be ints.\n",
    "    detections['detection_classes'] = detections['detection_classes'].astype(np.int64)\n",
    "\n",
    "    label_id_offset = 1\n",
    "    image_np_with_detections = image_np.copy()\n",
    "\n",
    "    viz_utils.visualize_boxes_and_labels_on_image_array(\n",
    "                image_np_with_detections,\n",
    "                detections['detection_boxes'],\n",
    "                detections['detection_classes']+label_id_offset,\n",
    "                detections['detection_scores'],\n",
    "                category_index,\n",
    "                use_normalized_coordinates=True,\n",
    "                max_boxes_to_draw=3,\n",
    "                min_score_thresh=.40,\n",
    "                agnostic_mode=False)\n",
    "\n",
    "    cv2.imshow('object detection',  cv2.resize(image_np_with_detections, (800, 600)))\n",
    "    \n",
    "    if cv2.waitKey(10) & 0xFF == ord('q'):\n",
    "        cap.release()\n",
    "        cv2.destroyAllWindows()\n",
    "        break"
   ]
  },
  {
   "cell_type": "markdown",
   "metadata": {
    "id": "rzlM4jt0pfDJ"
   },
   "source": [
    "# 10. Freezing the Graph"
   ]
  },
  {
   "cell_type": "code",
   "execution_count": 22,
   "metadata": {
    "id": "n4olHB2npfDJ"
   },
   "outputs": [],
   "source": [
    "FREEZE_SCRIPT = os.path.join(paths['APIMODEL_PATH'], 'research', 'object_detection', 'exporter_main_v2.py ')"
   ]
  },
  {
   "cell_type": "code",
   "execution_count": 23,
   "metadata": {
    "id": "0AjO93QDpfDJ"
   },
   "outputs": [],
   "source": [
    "command = \"python {} --input_type=image_tensor --pipeline_config_path={} --trained_checkpoint_dir={} --output_directory={}\".format(FREEZE_SCRIPT ,files['PIPELINE_CONFIG'], paths['CHECKPOINT_PATH'], paths['OUTPUT_PATH'])"
   ]
  },
  {
   "cell_type": "code",
   "execution_count": 24,
   "metadata": {
    "colab": {
     "base_uri": "https://localhost:8080/"
    },
    "id": "F6Lsp3tCpfDJ",
    "outputId": "c3828529-bf06-4df5-d7f3-145890ec3edd"
   },
   "outputs": [
    {
     "name": "stdout",
     "output_type": "stream",
     "text": [
      "python Tensorflow\\models\\research\\object_detection\\exporter_main_v2.py  --input_type=float_image_tensor --pipeline_config_path=Tensorflow\\workspace\\models\\Image_proccessing_project\\pipeline.config --trained_checkpoint_dir=Tensorflow\\workspace\\models\\Image_proccessing_project --output_directory=Tensorflow\\workspace\\models\\Image_proccessing_project\\export\\pipeline.config\n"
     ]
    }
   ],
   "source": [
    "print(command)"
   ]
  },
  {
   "cell_type": "code",
   "execution_count": 25,
   "metadata": {
    "colab": {
     "base_uri": "https://localhost:8080/"
    },
    "id": "1Sw1ULgHpfDJ",
    "outputId": "6fd441e1-9fc9-4889-d072-3395c21e40b6",
    "scrolled": true
   },
   "outputs": [
    {
     "name": "stdout",
     "output_type": "stream",
     "text": [
      "^C\n"
     ]
    },
    {
     "name": "stderr",
     "output_type": "stream",
     "text": [
      "2023-12-17 19:03:01.994631: I tensorflow/core/platform/cpu_feature_guard.cc:193] This TensorFlow binary is optimized with oneAPI Deep Neural Network Library (oneDNN) to use the following CPU instructions in performance-critical operations:  AVX AVX2\n",
      "To enable them in other operations, rebuild TensorFlow with the appropriate compiler flags.\n",
      "2023-12-17 19:03:02.691695: I tensorflow/core/common_runtime/gpu/gpu_device.cc:1616] Created device /job:localhost/replica:0/task:0/device:GPU:0 with 5366 MB memory:  -> device: 0, name: NVIDIA GeForce RTX 2070 SUPER, pci bus id: 0000:07:00.0, compute capability: 7.5\n",
      "WARNING:tensorflow:From C:\\Users\\mnour\\Documents\\ai\\test\\TFODCourse\\tfod\\lib\\site-packages\\tensorflow\\python\\autograph\\impl\\api.py:458: calling map_fn_v2 (from tensorflow.python.ops.map_fn) with back_prop=False is deprecated and will be removed in a future version.\n",
      "Instructions for updating:\n",
      "back_prop=False is deprecated. Consider using tf.stop_gradient instead.\n",
      "Instead of:\n",
      "results = tf.map_fn(fn, elems, back_prop=False)\n",
      "Use:\n",
      "results = tf.nest.map_structure(tf.stop_gradient, tf.map_fn(fn, elems))\n",
      "W1217 19:03:03.875526  5836 deprecation.py:623] From C:\\Users\\mnour\\Documents\\ai\\test\\TFODCourse\\tfod\\lib\\site-packages\\tensorflow\\python\\autograph\\impl\\api.py:458: calling map_fn_v2 (from tensorflow.python.ops.map_fn) with back_prop=False is deprecated and will be removed in a future version.\n",
      "Instructions for updating:\n",
      "back_prop=False is deprecated. Consider using tf.stop_gradient instead.\n",
      "Instead of:\n",
      "results = tf.map_fn(fn, elems, back_prop=False)\n",
      "Use:\n",
      "results = tf.nest.map_structure(tf.stop_gradient, tf.map_fn(fn, elems))\n",
      "I1217 19:03:07.345443  5836 api.py:459] feature_map_spatial_dims: [(40, 40), (20, 20), (10, 10), (5, 5), (3, 3)]\n",
      "WARNING:tensorflow:From C:\\Users\\mnour\\Documents\\ai\\test\\TFODCourse\\tfod\\lib\\site-packages\\tensorflow\\python\\autograph\\impl\\api.py:459: calling map_fn (from tensorflow.python.ops.map_fn) with dtype is deprecated and will be removed in a future version.\n",
      "Instructions for updating:\n",
      "Use fn_output_signature instead\n",
      "W1217 19:03:12.089622  5836 deprecation.py:554] From C:\\Users\\mnour\\Documents\\ai\\test\\TFODCourse\\tfod\\lib\\site-packages\\tensorflow\\python\\autograph\\impl\\api.py:459: calling map_fn (from tensorflow.python.ops.map_fn) with dtype is deprecated and will be removed in a future version.\n",
      "Instructions for updating:\n",
      "Use fn_output_signature instead\n",
      "I1217 19:03:15.718977  5836 api.py:459] feature_map_spatial_dims: [(40, 40), (20, 20), (10, 10), (5, 5), (3, 3)]\n",
      "I1217 19:03:19.537413  5836 api.py:459] feature_map_spatial_dims: [(40, 40), (20, 20), (10, 10), (5, 5), (3, 3)]\n",
      "WARNING:tensorflow:Skipping full serialization of Keras layer <object_detection.meta_architectures.ssd_meta_arch.SSDMetaArch object at 0x0000022A0D6AF820>, because it is not built.\n",
      "W1217 19:03:22.062771  5836 save_impl.py:66] Skipping full serialization of Keras layer <object_detection.meta_architectures.ssd_meta_arch.SSDMetaArch object at 0x0000022A0D6AF820>, because it is not built.\n",
      "WARNING:tensorflow:Skipping full serialization of Keras layer <keras.layers.convolutional.separable_conv2d.SeparableConv2D object at 0x0000022A14434B20>, because it is not built.\n",
      "W1217 19:03:22.265048  5836 save_impl.py:66] Skipping full serialization of Keras layer <keras.layers.convolutional.separable_conv2d.SeparableConv2D object at 0x0000022A14434B20>, because it is not built.\n",
      "WARNING:tensorflow:Skipping full serialization of Keras layer <object_detection.core.freezable_batch_norm.FreezableBatchNorm object at 0x0000022A27599250>, because it is not built.\n",
      "W1217 19:03:22.265048  5836 save_impl.py:66] Skipping full serialization of Keras layer <object_detection.core.freezable_batch_norm.FreezableBatchNorm object at 0x0000022A27599250>, because it is not built.\n",
      "WARNING:tensorflow:Skipping full serialization of Keras layer <keras.layers.core.lambda_layer.Lambda object at 0x0000022A275997C0>, because it is not built.\n",
      "W1217 19:03:22.265048  5836 save_impl.py:66] Skipping full serialization of Keras layer <keras.layers.core.lambda_layer.Lambda object at 0x0000022A275997C0>, because it is not built.\n",
      "WARNING:tensorflow:Skipping full serialization of Keras layer <keras.layers.convolutional.separable_conv2d.SeparableConv2D object at 0x0000022A7AA74EB0>, because it is not built.\n",
      "W1217 19:03:22.265549  5836 save_impl.py:66] Skipping full serialization of Keras layer <keras.layers.convolutional.separable_conv2d.SeparableConv2D object at 0x0000022A7AA74EB0>, because it is not built.\n",
      "WARNING:tensorflow:Skipping full serialization of Keras layer <object_detection.core.freezable_batch_norm.FreezableBatchNorm object at 0x0000022A7AA745E0>, because it is not built.\n",
      "W1217 19:03:22.265549  5836 save_impl.py:66] Skipping full serialization of Keras layer <object_detection.core.freezable_batch_norm.FreezableBatchNorm object at 0x0000022A7AA745E0>, because it is not built.\n",
      "WARNING:tensorflow:Skipping full serialization of Keras layer <keras.layers.core.lambda_layer.Lambda object at 0x0000022A19269550>, because it is not built.\n",
      "W1217 19:03:22.265549  5836 save_impl.py:66] Skipping full serialization of Keras layer <keras.layers.core.lambda_layer.Lambda object at 0x0000022A19269550>, because it is not built.\n",
      "WARNING:tensorflow:Skipping full serialization of Keras layer <keras.layers.convolutional.separable_conv2d.SeparableConv2D object at 0x0000022A192692B0>, because it is not built.\n",
      "W1217 19:03:22.265549  5836 save_impl.py:66] Skipping full serialization of Keras layer <keras.layers.convolutional.separable_conv2d.SeparableConv2D object at 0x0000022A192692B0>, because it is not built.\n",
      "WARNING:tensorflow:Skipping full serialization of Keras layer <object_detection.core.freezable_batch_norm.FreezableBatchNorm object at 0x0000022A275A44F0>, because it is not built.\n",
      "W1217 19:03:22.265549  5836 save_impl.py:66] Skipping full serialization of Keras layer <object_detection.core.freezable_batch_norm.FreezableBatchNorm object at 0x0000022A275A44F0>, because it is not built.\n",
      "WARNING:tensorflow:Skipping full serialization of Keras layer <keras.layers.core.lambda_layer.Lambda object at 0x0000022A19790FA0>, because it is not built.\n",
      "W1217 19:03:22.265549  5836 save_impl.py:66] Skipping full serialization of Keras layer <keras.layers.core.lambda_layer.Lambda object at 0x0000022A19790FA0>, because it is not built.\n",
      "WARNING:tensorflow:Skipping full serialization of Keras layer <keras.layers.convolutional.separable_conv2d.SeparableConv2D object at 0x0000022A27581820>, because it is not built.\n",
      "W1217 19:03:22.265549  5836 save_impl.py:66] Skipping full serialization of Keras layer <keras.layers.convolutional.separable_conv2d.SeparableConv2D object at 0x0000022A27581820>, because it is not built.\n",
      "WARNING:tensorflow:Skipping full serialization of Keras layer <object_detection.core.freezable_batch_norm.FreezableBatchNorm object at 0x0000022A275817C0>, because it is not built.\n",
      "W1217 19:03:22.265549  5836 save_impl.py:66] Skipping full serialization of Keras layer <object_detection.core.freezable_batch_norm.FreezableBatchNorm object at 0x0000022A275817C0>, because it is not built.\n",
      "WARNING:tensorflow:Skipping full serialization of Keras layer <keras.layers.core.lambda_layer.Lambda object at 0x0000022A279ED610>, because it is not built.\n",
      "W1217 19:03:22.266050  5836 save_impl.py:66] Skipping full serialization of Keras layer <keras.layers.core.lambda_layer.Lambda object at 0x0000022A279ED610>, because it is not built.\n",
      "WARNING:tensorflow:Skipping full serialization of Keras layer <object_detection.core.freezable_batch_norm.FreezableBatchNorm object at 0x0000022A7A8B7EB0>, because it is not built.\n",
      "W1217 19:03:22.266050  5836 save_impl.py:66] Skipping full serialization of Keras layer <object_detection.core.freezable_batch_norm.FreezableBatchNorm object at 0x0000022A7A8B7EB0>, because it is not built.\n",
      "WARNING:tensorflow:Skipping full serialization of Keras layer <keras.layers.core.lambda_layer.Lambda object at 0x0000022A7A8B77C0>, because it is not built.\n",
      "W1217 19:03:22.266050  5836 save_impl.py:66] Skipping full serialization of Keras layer <keras.layers.core.lambda_layer.Lambda object at 0x0000022A7A8B77C0>, because it is not built.\n",
      "WARNING:tensorflow:Skipping full serialization of Keras layer <object_detection.core.freezable_batch_norm.FreezableBatchNorm object at 0x0000022BE5C87400>, because it is not built.\n",
      "W1217 19:03:22.266050  5836 save_impl.py:66] Skipping full serialization of Keras layer <object_detection.core.freezable_batch_norm.FreezableBatchNorm object at 0x0000022BE5C87400>, because it is not built.\n",
      "WARNING:tensorflow:Skipping full serialization of Keras layer <keras.layers.core.lambda_layer.Lambda object at 0x0000022BE5C87220>, because it is not built.\n",
      "W1217 19:03:22.266050  5836 save_impl.py:66] Skipping full serialization of Keras layer <keras.layers.core.lambda_layer.Lambda object at 0x0000022BE5C87220>, because it is not built.\n",
      "WARNING:tensorflow:Skipping full serialization of Keras layer <object_detection.core.freezable_batch_norm.FreezableBatchNorm object at 0x0000022A197F28B0>, because it is not built.\n",
      "W1217 19:03:22.266050  5836 save_impl.py:66] Skipping full serialization of Keras layer <object_detection.core.freezable_batch_norm.FreezableBatchNorm object at 0x0000022A197F28B0>, because it is not built.\n",
      "WARNING:tensorflow:Skipping full serialization of Keras layer <keras.layers.core.lambda_layer.Lambda object at 0x0000022A197F2C40>, because it is not built.\n",
      "W1217 19:03:22.266050  5836 save_impl.py:66] Skipping full serialization of Keras layer <keras.layers.core.lambda_layer.Lambda object at 0x0000022A197F2C40>, because it is not built.\n",
      "WARNING:tensorflow:Skipping full serialization of Keras layer <object_detection.core.freezable_batch_norm.FreezableBatchNorm object at 0x0000022A146F2E20>, because it is not built.\n",
      "W1217 19:03:22.266550  5836 save_impl.py:66] Skipping full serialization of Keras layer <object_detection.core.freezable_batch_norm.FreezableBatchNorm object at 0x0000022A146F2E20>, because it is not built.\n",
      "WARNING:tensorflow:Skipping full serialization of Keras layer <keras.layers.core.lambda_layer.Lambda object at 0x0000022A146F2430>, because it is not built.\n",
      "W1217 19:03:22.266550  5836 save_impl.py:66] Skipping full serialization of Keras layer <keras.layers.core.lambda_layer.Lambda object at 0x0000022A146F2430>, because it is not built.\n",
      "WARNING:tensorflow:Skipping full serialization of Keras layer <object_detection.core.freezable_batch_norm.FreezableBatchNorm object at 0x0000022A7A6DFFD0>, because it is not built.\n",
      "W1217 19:03:22.266550  5836 save_impl.py:66] Skipping full serialization of Keras layer <object_detection.core.freezable_batch_norm.FreezableBatchNorm object at 0x0000022A7A6DFFD0>, because it is not built.\n",
      "WARNING:tensorflow:Skipping full serialization of Keras layer <keras.layers.core.lambda_layer.Lambda object at 0x0000022A7AA85EB0>, because it is not built.\n",
      "W1217 19:03:22.266550  5836 save_impl.py:66] Skipping full serialization of Keras layer <keras.layers.core.lambda_layer.Lambda object at 0x0000022A7AA85EB0>, because it is not built.\n",
      "WARNING:tensorflow:Skipping full serialization of Keras layer <object_detection.core.freezable_batch_norm.FreezableBatchNorm object at 0x0000022BE5C79280>, because it is not built.\n",
      "W1217 19:03:22.266550  5836 save_impl.py:66] Skipping full serialization of Keras layer <object_detection.core.freezable_batch_norm.FreezableBatchNorm object at 0x0000022BE5C79280>, because it is not built.\n",
      "WARNING:tensorflow:Skipping full serialization of Keras layer <keras.layers.core.lambda_layer.Lambda object at 0x0000022BE5C793A0>, because it is not built.\n",
      "W1217 19:03:22.266550  5836 save_impl.py:66] Skipping full serialization of Keras layer <keras.layers.core.lambda_layer.Lambda object at 0x0000022BE5C793A0>, because it is not built.\n",
      "WARNING:tensorflow:Skipping full serialization of Keras layer <object_detection.core.freezable_batch_norm.FreezableBatchNorm object at 0x0000022BE5C799A0>, because it is not built.\n",
      "W1217 19:03:22.266550  5836 save_impl.py:66] Skipping full serialization of Keras layer <object_detection.core.freezable_batch_norm.FreezableBatchNorm object at 0x0000022BE5C799A0>, because it is not built.\n",
      "WARNING:tensorflow:Skipping full serialization of Keras layer <keras.layers.core.lambda_layer.Lambda object at 0x0000022BE5C79910>, because it is not built.\n",
      "W1217 19:03:22.266550  5836 save_impl.py:66] Skipping full serialization of Keras layer <keras.layers.core.lambda_layer.Lambda object at 0x0000022BE5C79910>, because it is not built.\n",
      "WARNING:tensorflow:Skipping full serialization of Keras layer <object_detection.core.freezable_batch_norm.FreezableBatchNorm object at 0x0000022BE5C79EE0>, because it is not built.\n",
      "W1217 19:03:22.266550  5836 save_impl.py:66] Skipping full serialization of Keras layer <object_detection.core.freezable_batch_norm.FreezableBatchNorm object at 0x0000022BE5C79EE0>, because it is not built.\n",
      "WARNING:tensorflow:Skipping full serialization of Keras layer <keras.layers.core.lambda_layer.Lambda object at 0x0000022BE5C79E50>, because it is not built.\n",
      "W1217 19:03:22.267050  5836 save_impl.py:66] Skipping full serialization of Keras layer <keras.layers.core.lambda_layer.Lambda object at 0x0000022BE5C79E50>, because it is not built.\n",
      "WARNING:tensorflow:Skipping full serialization of Keras layer <object_detection.core.freezable_batch_norm.FreezableBatchNorm object at 0x0000022A7A8DA220>, because it is not built.\n",
      "W1217 19:03:22.267050  5836 save_impl.py:66] Skipping full serialization of Keras layer <object_detection.core.freezable_batch_norm.FreezableBatchNorm object at 0x0000022A7A8DA220>, because it is not built.\n",
      "WARNING:tensorflow:Skipping full serialization of Keras layer <keras.layers.core.lambda_layer.Lambda object at 0x0000022A7A8DAEB0>, because it is not built.\n",
      "W1217 19:03:22.267050  5836 save_impl.py:66] Skipping full serialization of Keras layer <keras.layers.core.lambda_layer.Lambda object at 0x0000022A7A8DAEB0>, because it is not built.\n",
      "WARNING:tensorflow:Skipping full serialization of Keras layer <object_detection.core.freezable_batch_norm.FreezableBatchNorm object at 0x0000022A279A53A0>, because it is not built.\n",
      "W1217 19:03:22.267050  5836 save_impl.py:66] Skipping full serialization of Keras layer <object_detection.core.freezable_batch_norm.FreezableBatchNorm object at 0x0000022A279A53A0>, because it is not built.\n",
      "WARNING:tensorflow:Skipping full serialization of Keras layer <keras.layers.core.lambda_layer.Lambda object at 0x0000022A279A51F0>, because it is not built.\n",
      "W1217 19:03:22.267050  5836 save_impl.py:66] Skipping full serialization of Keras layer <keras.layers.core.lambda_layer.Lambda object at 0x0000022A279A51F0>, because it is not built.\n",
      "WARNING:tensorflow:Skipping full serialization of Keras layer <object_detection.core.freezable_batch_norm.FreezableBatchNorm object at 0x0000022A275CB5E0>, because it is not built.\n",
      "W1217 19:03:22.267050  5836 save_impl.py:66] Skipping full serialization of Keras layer <object_detection.core.freezable_batch_norm.FreezableBatchNorm object at 0x0000022A275CB5E0>, because it is not built.\n",
      "WARNING:tensorflow:Skipping full serialization of Keras layer <keras.layers.core.lambda_layer.Lambda object at 0x0000022A275CB190>, because it is not built.\n",
      "W1217 19:03:22.267050  5836 save_impl.py:66] Skipping full serialization of Keras layer <keras.layers.core.lambda_layer.Lambda object at 0x0000022A275CB190>, because it is not built.\n",
      "WARNING:tensorflow:Skipping full serialization of Keras layer <object_detection.core.freezable_batch_norm.FreezableBatchNorm object at 0x0000022A275BAFA0>, because it is not built.\n",
      "W1217 19:03:22.267050  5836 save_impl.py:66] Skipping full serialization of Keras layer <object_detection.core.freezable_batch_norm.FreezableBatchNorm object at 0x0000022A275BAFA0>, because it is not built.\n",
      "WARNING:tensorflow:Skipping full serialization of Keras layer <keras.layers.core.lambda_layer.Lambda object at 0x0000022A275BA7C0>, because it is not built.\n",
      "W1217 19:03:22.267050  5836 save_impl.py:66] Skipping full serialization of Keras layer <keras.layers.core.lambda_layer.Lambda object at 0x0000022A275BA7C0>, because it is not built.\n",
      "WARNING:tensorflow:Skipping full serialization of Keras layer <object_detection.core.freezable_batch_norm.FreezableBatchNorm object at 0x0000022A27575F40>, because it is not built.\n",
      "W1217 19:03:22.267551  5836 save_impl.py:66] Skipping full serialization of Keras layer <object_detection.core.freezable_batch_norm.FreezableBatchNorm object at 0x0000022A27575F40>, because it is not built.\n",
      "WARNING:tensorflow:Skipping full serialization of Keras layer <keras.layers.core.lambda_layer.Lambda object at 0x0000022A1921FCA0>, because it is not built.\n",
      "W1217 19:03:22.267551  5836 save_impl.py:66] Skipping full serialization of Keras layer <keras.layers.core.lambda_layer.Lambda object at 0x0000022A1921FCA0>, because it is not built.\n",
      "WARNING:tensorflow:Skipping full serialization of Keras layer <object_detection.core.freezable_batch_norm.FreezableBatchNorm object at 0x0000022A7A8D3CD0>, because it is not built.\n",
      "W1217 19:03:22.267551  5836 save_impl.py:66] Skipping full serialization of Keras layer <object_detection.core.freezable_batch_norm.FreezableBatchNorm object at 0x0000022A7A8D3CD0>, because it is not built.\n",
      "WARNING:tensorflow:Skipping full serialization of Keras layer <keras.layers.core.lambda_layer.Lambda object at 0x0000022A7A8D3F40>, because it is not built.\n",
      "W1217 19:03:22.267551  5836 save_impl.py:66] Skipping full serialization of Keras layer <keras.layers.core.lambda_layer.Lambda object at 0x0000022A7A8D3F40>, because it is not built.\n",
      "WARNING:tensorflow:Skipping full serialization of Keras layer <object_detection.core.freezable_batch_norm.FreezableBatchNorm object at 0x0000022A279B5C40>, because it is not built.\n",
      "W1217 19:03:22.267551  5836 save_impl.py:66] Skipping full serialization of Keras layer <object_detection.core.freezable_batch_norm.FreezableBatchNorm object at 0x0000022A279B5C40>, because it is not built.\n",
      "WARNING:tensorflow:Skipping full serialization of Keras layer <keras.layers.core.lambda_layer.Lambda object at 0x0000022A279B5400>, because it is not built.\n",
      "W1217 19:03:22.267551  5836 save_impl.py:66] Skipping full serialization of Keras layer <keras.layers.core.lambda_layer.Lambda object at 0x0000022A279B5400>, because it is not built.\n",
      "WARNING:tensorflow:Skipping full serialization of Keras layer <object_detection.core.freezable_batch_norm.FreezableBatchNorm object at 0x0000022A279B58B0>, because it is not built.\n",
      "W1217 19:03:22.267551  5836 save_impl.py:66] Skipping full serialization of Keras layer <object_detection.core.freezable_batch_norm.FreezableBatchNorm object at 0x0000022A279B58B0>, because it is not built.\n",
      "WARNING:tensorflow:Skipping full serialization of Keras layer <keras.layers.core.lambda_layer.Lambda object at 0x0000022A279B5B80>, because it is not built.\n",
      "W1217 19:03:22.267551  5836 save_impl.py:66] Skipping full serialization of Keras layer <keras.layers.core.lambda_layer.Lambda object at 0x0000022A279B5B80>, because it is not built.\n",
      "W1217 19:03:35.140253  5836 save.py:269] Found untraced functions such as WeightSharedConvolutionalBoxPredictor_layer_call_fn, WeightSharedConvolutionalBoxPredictor_layer_call_and_return_conditional_losses, WeightSharedConvolutionalBoxHead_layer_call_fn, WeightSharedConvolutionalBoxHead_layer_call_and_return_conditional_losses, WeightSharedConvolutionalClassHead_layer_call_fn while saving (showing 5 of 173). These functions will not be directly callable after loading.\n",
      "INFO:tensorflow:Assets written to: Tensorflow\\workspace\\models\\Image_proccessing_project\\export\\pipeline.config\\saved_model\\assets\n",
      "I1217 19:03:40.263431  5836 builder_impl.py:779] Assets written to: Tensorflow\\workspace\\models\\Image_proccessing_project\\export\\pipeline.config\\saved_model\\assets\n",
      "INFO:tensorflow:Writing pipeline config file to Tensorflow\\workspace\\models\\Image_proccessing_project\\export\\pipeline.config\\pipeline.config\n",
      "I1217 19:03:41.319724  5836 config_util.py:253] Writing pipeline config file to Tensorflow\\workspace\\models\\Image_proccessing_project\\export\\pipeline.config\\pipeline.config\n"
     ]
    }
   ],
   "source": [
    "!{command}"
   ]
  },
  {
   "cell_type": "markdown",
   "metadata": {
    "id": "wTPmdqaXpfDK"
   },
   "source": [
    "# 11. Conversion to TFJS"
   ]
  },
  {
   "cell_type": "code",
   "execution_count": 19,
   "metadata": {
    "colab": {
     "base_uri": "https://localhost:8080/"
    },
    "id": "gZ6UzY_fpfDK",
    "outputId": "0c84722e-1c2b-4002-d857-80827ade828a",
    "scrolled": true
   },
   "outputs": [
    {
     "name": "stdout",
     "output_type": "stream",
     "text": [
      "Collecting tensorflowjs\n",
      "  Using cached tensorflowjs-3.3.0-py3-none-any.whl (63 kB)\n",
      "Requirement already satisfied: six<2,>=1.12.0 in d:\\youtube\\od\\tfodcourse\\tfod\\lib\\site-packages (from tensorflowjs) (1.15.0)\n",
      "Collecting tensorflow-hub<0.10,>=0.7.0\n",
      "  Using cached tensorflow_hub-0.9.0-py2.py3-none-any.whl (103 kB)\n",
      "Requirement already satisfied: h5py<3,>=2.8.0 in d:\\youtube\\od\\tfodcourse\\tfod\\lib\\site-packages (from tensorflowjs) (2.10.0)\n",
      "Requirement already satisfied: tensorflow<3,>=2.1.0 in d:\\youtube\\od\\tfodcourse\\tfod\\lib\\site-packages (from tensorflowjs) (2.4.0)\n",
      "Requirement already satisfied: numpy>=1.7 in d:\\youtube\\od\\tfodcourse\\tfod\\lib\\site-packages (from h5py<3,>=2.8.0->tensorflowjs) (1.19.5)\n",
      "Requirement already satisfied: flatbuffers~=1.12.0 in d:\\youtube\\od\\tfodcourse\\tfod\\lib\\site-packages (from tensorflow<3,>=2.1.0->tensorflowjs) (1.12)\n",
      "Requirement already satisfied: gast==0.3.3 in d:\\youtube\\od\\tfodcourse\\tfod\\lib\\site-packages (from tensorflow<3,>=2.1.0->tensorflowjs) (0.3.3)\n",
      "Requirement already satisfied: wrapt~=1.12.1 in d:\\youtube\\od\\tfodcourse\\tfod\\lib\\site-packages (from tensorflow<3,>=2.1.0->tensorflowjs) (1.12.1)\n",
      "Requirement already satisfied: tensorboard~=2.4 in d:\\youtube\\od\\tfodcourse\\tfod\\lib\\site-packages (from tensorflow<3,>=2.1.0->tensorflowjs) (2.4.1)\n",
      "Requirement already satisfied: termcolor~=1.1.0 in d:\\youtube\\od\\tfodcourse\\tfod\\lib\\site-packages (from tensorflow<3,>=2.1.0->tensorflowjs) (1.1.0)\n",
      "Requirement already satisfied: protobuf>=3.9.2 in d:\\youtube\\od\\tfodcourse\\tfod\\lib\\site-packages (from tensorflow<3,>=2.1.0->tensorflowjs) (3.15.7)\n",
      "Requirement already satisfied: wheel~=0.35 in d:\\youtube\\od\\tfodcourse\\tfod\\lib\\site-packages (from tensorflow<3,>=2.1.0->tensorflowjs) (0.36.2)\n",
      "Requirement already satisfied: tensorflow-estimator<2.5.0,>=2.4.0rc0 in d:\\youtube\\od\\tfodcourse\\tfod\\lib\\site-packages (from tensorflow<3,>=2.1.0->tensorflowjs) (2.4.0)\n",
      "Requirement already satisfied: absl-py~=0.10 in d:\\youtube\\od\\tfodcourse\\tfod\\lib\\site-packages (from tensorflow<3,>=2.1.0->tensorflowjs) (0.12.0)\n",
      "Requirement already satisfied: opt-einsum~=3.3.0 in d:\\youtube\\od\\tfodcourse\\tfod\\lib\\site-packages (from tensorflow<3,>=2.1.0->tensorflowjs) (3.3.0)\n",
      "Requirement already satisfied: grpcio~=1.32.0 in d:\\youtube\\od\\tfodcourse\\tfod\\lib\\site-packages (from tensorflow<3,>=2.1.0->tensorflowjs) (1.32.0)\n",
      "Requirement already satisfied: keras-preprocessing~=1.1.2 in d:\\youtube\\od\\tfodcourse\\tfod\\lib\\site-packages (from tensorflow<3,>=2.1.0->tensorflowjs) (1.1.2)\n",
      "Requirement already satisfied: astunparse~=1.6.3 in d:\\youtube\\od\\tfodcourse\\tfod\\lib\\site-packages (from tensorflow<3,>=2.1.0->tensorflowjs) (1.6.3)\n",
      "Requirement already satisfied: typing-extensions~=3.7.4 in d:\\youtube\\od\\tfodcourse\\tfod\\lib\\site-packages\\typing_extensions-3.7.4.3-py3.7.egg (from tensorflow<3,>=2.1.0->tensorflowjs) (3.7.4.3)\n",
      "Requirement already satisfied: google-pasta~=0.2 in d:\\youtube\\od\\tfodcourse\\tfod\\lib\\site-packages (from tensorflow<3,>=2.1.0->tensorflowjs) (0.2.0)\n",
      "Requirement already satisfied: google-auth-oauthlib<0.5,>=0.4.1 in d:\\youtube\\od\\tfodcourse\\tfod\\lib\\site-packages (from tensorboard~=2.4->tensorflow<3,>=2.1.0->tensorflowjs) (0.4.4)\n",
      "Requirement already satisfied: werkzeug>=0.11.15 in d:\\youtube\\od\\tfodcourse\\tfod\\lib\\site-packages (from tensorboard~=2.4->tensorflow<3,>=2.1.0->tensorflowjs) (1.0.1)\n",
      "Requirement already satisfied: requests<3,>=2.21.0 in d:\\youtube\\od\\tfodcourse\\tfod\\lib\\site-packages\\requests-2.25.1-py3.7.egg (from tensorboard~=2.4->tensorflow<3,>=2.1.0->tensorflowjs) (2.25.1)\n",
      "Requirement already satisfied: google-auth<2,>=1.6.3 in d:\\youtube\\od\\tfodcourse\\tfod\\lib\\site-packages (from tensorboard~=2.4->tensorflow<3,>=2.1.0->tensorflowjs) (1.28.0)\n",
      "Requirement already satisfied: setuptools>=41.0.0 in d:\\youtube\\od\\tfodcourse\\tfod\\lib\\site-packages (from tensorboard~=2.4->tensorflow<3,>=2.1.0->tensorflowjs) (54.2.0)\n",
      "Requirement already satisfied: markdown>=2.6.8 in d:\\youtube\\od\\tfodcourse\\tfod\\lib\\site-packages (from tensorboard~=2.4->tensorflow<3,>=2.1.0->tensorflowjs) (3.3.4)\n",
      "Requirement already satisfied: tensorboard-plugin-wit>=1.6.0 in d:\\youtube\\od\\tfodcourse\\tfod\\lib\\site-packages (from tensorboard~=2.4->tensorflow<3,>=2.1.0->tensorflowjs) (1.8.0)\n",
      "Requirement already satisfied: rsa<5,>=3.1.4 in d:\\youtube\\od\\tfodcourse\\tfod\\lib\\site-packages (from google-auth<2,>=1.6.3->tensorboard~=2.4->tensorflow<3,>=2.1.0->tensorflowjs) (4.7.2)\n",
      "Requirement already satisfied: pyasn1-modules>=0.2.1 in d:\\youtube\\od\\tfodcourse\\tfod\\lib\\site-packages (from google-auth<2,>=1.6.3->tensorboard~=2.4->tensorflow<3,>=2.1.0->tensorflowjs) (0.2.8)\n",
      "Requirement already satisfied: cachetools<5.0,>=2.0.0 in d:\\youtube\\od\\tfodcourse\\tfod\\lib\\site-packages (from google-auth<2,>=1.6.3->tensorboard~=2.4->tensorflow<3,>=2.1.0->tensorflowjs) (4.2.1)\n",
      "Requirement already satisfied: requests-oauthlib>=0.7.0 in d:\\youtube\\od\\tfodcourse\\tfod\\lib\\site-packages (from google-auth-oauthlib<0.5,>=0.4.1->tensorboard~=2.4->tensorflow<3,>=2.1.0->tensorflowjs) (1.3.0)\n",
      "Requirement already satisfied: importlib-metadata in d:\\youtube\\od\\tfodcourse\\tfod\\lib\\site-packages (from markdown>=2.6.8->tensorboard~=2.4->tensorflow<3,>=2.1.0->tensorflowjs) (3.10.0)\n",
      "Requirement already satisfied: pyasn1<0.5.0,>=0.4.6 in d:\\youtube\\od\\tfodcourse\\tfod\\lib\\site-packages (from pyasn1-modules>=0.2.1->google-auth<2,>=1.6.3->tensorboard~=2.4->tensorflow<3,>=2.1.0->tensorflowjs) (0.4.8)\n",
      "Requirement already satisfied: certifi>=2017.4.17 in d:\\youtube\\od\\tfodcourse\\tfod\\lib\\site-packages (from requests<3,>=2.21.0->tensorboard~=2.4->tensorflow<3,>=2.1.0->tensorflowjs) (2020.12.5)\n",
      "Requirement already satisfied: chardet<5,>=3.0.2 in d:\\youtube\\od\\tfodcourse\\tfod\\lib\\site-packages (from requests<3,>=2.21.0->tensorboard~=2.4->tensorflow<3,>=2.1.0->tensorflowjs) (4.0.0)\n",
      "Requirement already satisfied: idna<3,>=2.5 in d:\\youtube\\od\\tfodcourse\\tfod\\lib\\site-packages (from requests<3,>=2.21.0->tensorboard~=2.4->tensorflow<3,>=2.1.0->tensorflowjs) (2.10)\n",
      "Requirement already satisfied: urllib3<1.27,>=1.21.1 in d:\\youtube\\od\\tfodcourse\\tfod\\lib\\site-packages (from requests<3,>=2.21.0->tensorboard~=2.4->tensorflow<3,>=2.1.0->tensorflowjs) (1.26.4)\n",
      "Requirement already satisfied: oauthlib>=3.0.0 in d:\\youtube\\od\\tfodcourse\\tfod\\lib\\site-packages (from requests-oauthlib>=0.7.0->google-auth-oauthlib<0.5,>=0.4.1->tensorboard~=2.4->tensorflow<3,>=2.1.0->tensorflowjs) (3.1.0)\n",
      "Requirement already satisfied: zipp>=0.5 in d:\\youtube\\od\\tfodcourse\\tfod\\lib\\site-packages (from importlib-metadata->markdown>=2.6.8->tensorboard~=2.4->tensorflow<3,>=2.1.0->tensorflowjs) (3.4.1)\n",
      "Installing collected packages: tensorflow-hub, tensorflowjs\n",
      "  Attempting uninstall: tensorflow-hub\n",
      "    Found existing installation: tensorflow-hub 0.11.0\n",
      "    Uninstalling tensorflow-hub-0.11.0:\n",
      "      Successfully uninstalled tensorflow-hub-0.11.0\n",
      "Successfully installed tensorflow-hub-0.9.0 tensorflowjs-3.3.0\n"
     ]
    }
   ],
   "source": [
    "!pip install tensorflowjs"
   ]
  },
  {
   "cell_type": "code",
   "execution_count": 20,
   "metadata": {
    "id": "0oxbVynHpfDK"
   },
   "outputs": [],
   "source": [
    "command = \"tensorflowjs_converter --input_format=tf_saved_model --output_node_names='detection_boxes,detection_classes,detection_features,detection_multiclass_scores,detection_scores,num_detections,raw_detection_boxes,raw_detection_scores' --output_format=tfjs_graph_model --signature_name=serving_default {} {}\".format(os.path.join(paths['OUTPUT_PATH'], 'saved_model'), paths['TFJS_PATH'])"
   ]
  },
  {
   "cell_type": "code",
   "execution_count": 21,
   "metadata": {
    "colab": {
     "base_uri": "https://localhost:8080/"
    },
    "id": "DB2AGNmJpfDK",
    "outputId": "fbc9f747-f511-47e8-df8f-5ea65cef0374"
   },
   "outputs": [
    {
     "name": "stdout",
     "output_type": "stream",
     "text": [
      "tensorflowjs_converter --input_format=tf_saved_model --output_node_names='detection_boxes,detection_classes,detection_features,detection_multiclass_scores,detection_scores,num_detections,raw_detection_boxes,raw_detection_scores' --output_format=tfjs_graph_model --signature_name=serving_default Tensorflow\\workspace\\models\\my_ssd_mobnet\\export\\saved_model Tensorflow\\workspace\\models\\my_ssd_mobnet\\tfjsexport\n"
     ]
    }
   ],
   "source": [
    "print(command)"
   ]
  },
  {
   "cell_type": "code",
   "execution_count": 22,
   "metadata": {
    "colab": {
     "base_uri": "https://localhost:8080/"
    },
    "id": "K7rfT4-hpfDK",
    "outputId": "532707fd-6feb-4bc6-84a3-325b5d16303c"
   },
   "outputs": [
    {
     "name": "stdout",
     "output_type": "stream",
     "text": [
      "Writing weight file Tensorflow\\workspace\\models\\my_ssd_mobnet\\tfjsexport\\model.json...\n"
     ]
    },
    {
     "name": "stderr",
     "output_type": "stream",
     "text": [
      "2021-04-03 11:54:23.153051: I tensorflow/stream_executor/platform/default/dso_loader.cc:49] Successfully opened dynamic library cudart64_110.dll\n",
      "2021-04-03 11:54:25.644887: I tensorflow/compiler/jit/xla_cpu_device.cc:41] Not creating XLA devices, tf_xla_enable_xla_devices not set\n",
      "2021-04-03 11:54:25.645576: I tensorflow/stream_executor/platform/default/dso_loader.cc:49] Successfully opened dynamic library nvcuda.dll\n",
      "2021-04-03 11:54:25.667969: I tensorflow/core/common_runtime/gpu/gpu_device.cc:1720] Found device 0 with properties: \n",
      "pciBusID: 0000:2b:00.0 name: GeForce RTX 2070 SUPER computeCapability: 7.5\n",
      "coreClock: 1.785GHz coreCount: 40 deviceMemorySize: 8.00GiB deviceMemoryBandwidth: 417.29GiB/s\n",
      "2021-04-03 11:54:25.668001: I tensorflow/stream_executor/platform/default/dso_loader.cc:49] Successfully opened dynamic library cudart64_110.dll\n",
      "2021-04-03 11:54:25.671400: I tensorflow/stream_executor/platform/default/dso_loader.cc:49] Successfully opened dynamic library cublas64_11.dll\n",
      "2021-04-03 11:54:25.671416: I tensorflow/stream_executor/platform/default/dso_loader.cc:49] Successfully opened dynamic library cublasLt64_11.dll\n",
      "2021-04-03 11:54:25.673240: I tensorflow/stream_executor/platform/default/dso_loader.cc:49] Successfully opened dynamic library cufft64_10.dll\n",
      "2021-04-03 11:54:25.673772: I tensorflow/stream_executor/platform/default/dso_loader.cc:49] Successfully opened dynamic library curand64_10.dll\n",
      "2021-04-03 11:54:25.677306: I tensorflow/stream_executor/platform/default/dso_loader.cc:49] Successfully opened dynamic library cusolver64_10.dll\n",
      "2021-04-03 11:54:25.678684: I tensorflow/stream_executor/platform/default/dso_loader.cc:49] Successfully opened dynamic library cusparse64_11.dll\n",
      "2021-04-03 11:54:25.679228: I tensorflow/stream_executor/platform/default/dso_loader.cc:49] Successfully opened dynamic library cudnn64_8.dll\n",
      "2021-04-03 11:54:25.679291: I tensorflow/core/common_runtime/gpu/gpu_device.cc:1862] Adding visible gpu devices: 0\n",
      "2021-04-03 11:54:25.679494: I tensorflow/core/platform/cpu_feature_guard.cc:142] This TensorFlow binary is optimized with oneAPI Deep Neural Network Library (oneDNN) to use the following CPU instructions in performance-critical operations:  AVX2\n",
      "To enable them in other operations, rebuild TensorFlow with the appropriate compiler flags.\n",
      "2021-04-03 11:54:25.680122: I tensorflow/core/common_runtime/gpu/gpu_device.cc:1720] Found device 0 with properties: \n",
      "pciBusID: 0000:2b:00.0 name: GeForce RTX 2070 SUPER computeCapability: 7.5\n",
      "coreClock: 1.785GHz coreCount: 40 deviceMemorySize: 8.00GiB deviceMemoryBandwidth: 417.29GiB/s\n",
      "2021-04-03 11:54:25.680135: I tensorflow/stream_executor/platform/default/dso_loader.cc:49] Successfully opened dynamic library cudart64_110.dll\n",
      "2021-04-03 11:54:25.680141: I tensorflow/stream_executor/platform/default/dso_loader.cc:49] Successfully opened dynamic library cublas64_11.dll\n",
      "2021-04-03 11:54:25.680148: I tensorflow/stream_executor/platform/default/dso_loader.cc:49] Successfully opened dynamic library cublasLt64_11.dll\n",
      "2021-04-03 11:54:25.680152: I tensorflow/stream_executor/platform/default/dso_loader.cc:49] Successfully opened dynamic library cufft64_10.dll\n",
      "2021-04-03 11:54:25.680158: I tensorflow/stream_executor/platform/default/dso_loader.cc:49] Successfully opened dynamic library curand64_10.dll\n",
      "2021-04-03 11:54:25.680163: I tensorflow/stream_executor/platform/default/dso_loader.cc:49] Successfully opened dynamic library cusolver64_10.dll\n",
      "2021-04-03 11:54:25.680167: I tensorflow/stream_executor/platform/default/dso_loader.cc:49] Successfully opened dynamic library cusparse64_11.dll\n",
      "2021-04-03 11:54:25.680171: I tensorflow/stream_executor/platform/default/dso_loader.cc:49] Successfully opened dynamic library cudnn64_8.dll\n",
      "2021-04-03 11:54:25.680197: I tensorflow/core/common_runtime/gpu/gpu_device.cc:1862] Adding visible gpu devices: 0\n",
      "2021-04-03 11:54:26.114383: I tensorflow/core/common_runtime/gpu/gpu_device.cc:1261] Device interconnect StreamExecutor with strength 1 edge matrix:\n",
      "2021-04-03 11:54:26.114403: I tensorflow/core/common_runtime/gpu/gpu_device.cc:1267]      0 \n",
      "2021-04-03 11:54:26.114407: I tensorflow/core/common_runtime/gpu/gpu_device.cc:1280] 0:   N \n",
      "2021-04-03 11:54:26.114533: I tensorflow/core/common_runtime/gpu/gpu_device.cc:1406] Created TensorFlow device (/job:localhost/replica:0/task:0/device:GPU:0 with 6611 MB memory) -> physical GPU (device: 0, name: GeForce RTX 2070 SUPER, pci bus id: 0000:2b:00.0, compute capability: 7.5)\n",
      "2021-04-03 11:54:26.114935: I tensorflow/compiler/jit/xla_gpu_device.cc:99] Not creating XLA devices, tf_xla_enable_xla_devices not set\n",
      "2021-04-03 11:54:34.068925: I tensorflow/core/grappler/devices.cc:69] Number of eligible GPUs (core count >= 8, compute capability >= 0.0): 1\n",
      "2021-04-03 11:54:34.069068: I tensorflow/core/grappler/clusters/single_machine.cc:356] Starting new session\n",
      "2021-04-03 11:54:34.070081: I tensorflow/core/common_runtime/gpu/gpu_device.cc:1720] Found device 0 with properties: \n",
      "pciBusID: 0000:2b:00.0 name: GeForce RTX 2070 SUPER computeCapability: 7.5\n",
      "coreClock: 1.785GHz coreCount: 40 deviceMemorySize: 8.00GiB deviceMemoryBandwidth: 417.29GiB/s\n",
      "2021-04-03 11:54:34.070099: I tensorflow/stream_executor/platform/default/dso_loader.cc:49] Successfully opened dynamic library cudart64_110.dll\n",
      "2021-04-03 11:54:34.070106: I tensorflow/stream_executor/platform/default/dso_loader.cc:49] Successfully opened dynamic library cublas64_11.dll\n",
      "2021-04-03 11:54:34.070112: I tensorflow/stream_executor/platform/default/dso_loader.cc:49] Successfully opened dynamic library cublasLt64_11.dll\n",
      "2021-04-03 11:54:34.070119: I tensorflow/stream_executor/platform/default/dso_loader.cc:49] Successfully opened dynamic library cufft64_10.dll\n",
      "2021-04-03 11:54:34.070123: I tensorflow/stream_executor/platform/default/dso_loader.cc:49] Successfully opened dynamic library curand64_10.dll\n",
      "2021-04-03 11:54:34.070130: I tensorflow/stream_executor/platform/default/dso_loader.cc:49] Successfully opened dynamic library cusolver64_10.dll\n",
      "2021-04-03 11:54:34.070134: I tensorflow/stream_executor/platform/default/dso_loader.cc:49] Successfully opened dynamic library cusparse64_11.dll\n",
      "2021-04-03 11:54:34.070141: I tensorflow/stream_executor/platform/default/dso_loader.cc:49] Successfully opened dynamic library cudnn64_8.dll\n",
      "2021-04-03 11:54:34.070164: I tensorflow/core/common_runtime/gpu/gpu_device.cc:1862] Adding visible gpu devices: 0\n",
      "2021-04-03 11:54:34.070202: I tensorflow/core/common_runtime/gpu/gpu_device.cc:1261] Device interconnect StreamExecutor with strength 1 edge matrix:\n",
      "2021-04-03 11:54:34.070208: I tensorflow/core/common_runtime/gpu/gpu_device.cc:1267]      0 \n",
      "2021-04-03 11:54:34.070211: I tensorflow/core/common_runtime/gpu/gpu_device.cc:1280] 0:   N \n",
      "2021-04-03 11:54:34.070267: I tensorflow/core/common_runtime/gpu/gpu_device.cc:1406] Created TensorFlow device (/job:localhost/replica:0/task:0/device:GPU:0 with 6611 MB memory) -> physical GPU (device: 0, name: GeForce RTX 2070 SUPER, pci bus id: 0000:2b:00.0, compute capability: 7.5)\n",
      "2021-04-03 11:54:34.070284: I tensorflow/compiler/jit/xla_gpu_device.cc:99] Not creating XLA devices, tf_xla_enable_xla_devices not set\n",
      "2021-04-03 11:54:34.396918: I tensorflow/core/grappler/optimizers/meta_optimizer.cc:928] Optimization results for grappler item: graph_to_optimize\n",
      "  function_optimizer: Graph size after: 4000 nodes (3591), 8430 edges (8014), time = 217.05ms.\n",
      "  function_optimizer: function_optimizer did nothing. time = 4.085ms.\n",
      "\n",
      "2021-04-03 11:54:37.417793: I tensorflow/core/grappler/optimizers/meta_optimizer.cc:928] Optimization results for grappler item: graph_to_optimize\n",
      "  debug_stripper: Graph size after: 3683 nodes (0), 8201 edges (0), time = 79.922ms.\n",
      "  model_pruner: Graph size after: 3232 nodes (-451), 7750 edges (-451), time = 125.865ms.\n",
      "  constant_folding: Graph size after: 1551 nodes (-1681), 5834 edges (-1916), time = 199.089ms.\n",
      "  arithmetic_optimizer: Graph size after: 1551 nodes (0), 5834 edges (0), time = 33.234ms.\n",
      "  dependency_optimizer: Graph size after: 1453 nodes (-98), 1650 edges (-4184), time = 22.074ms.\n",
      "  model_pruner: Graph size after: 1453 nodes (0), 1650 edges (0), time = 9.534ms.\n",
      "  constant_folding: Graph size after: 1453 nodes (0), 1650 edges (0), time = 29.71ms.\n",
      "  arithmetic_optimizer: Graph size after: 1453 nodes (0), 1650 edges (0), time = 22.603ms.\n",
      "  dependency_optimizer: Graph size after: 1453 nodes (0), 1650 edges (0), time = 14.027ms.\n",
      "  debug_stripper: debug_stripper did nothing. time = 1.378ms.\n",
      "  model_pruner: Graph size after: 1453 nodes (0), 1650 edges (0), time = 7.504ms.\n",
      "  constant_folding: Graph size after: 1453 nodes (0), 1650 edges (0), time = 29.06ms.\n",
      "  arithmetic_optimizer: Graph size after: 1453 nodes (0), 1650 edges (0), time = 23.745ms.\n",
      "  dependency_optimizer: Graph size after: 1453 nodes (0), 1650 edges (0), time = 12.714ms.\n",
      "  model_pruner: Graph size after: 1453 nodes (0), 1650 edges (0), time = 8.842ms.\n",
      "  constant_folding: Graph size after: 1453 nodes (0), 1650 edges (0), time = 29.59ms.\n",
      "  arithmetic_optimizer: Graph size after: 1453 nodes (0), 1650 edges (0), time = 23.085ms.\n",
      "  dependency_optimizer: Graph size after: 1453 nodes (0), 1650 edges (0), time = 14.073ms.\n",
      "\n",
      "2021-04-03 11:54:45.020557: I tensorflow/core/grappler/optimizers/meta_optimizer.cc:928] Optimization results for grappler item: graph_to_optimize\n",
      "  remapper: Graph size after: 1415 nodes (-114), 1308 edges (-114), time = 6.93ms.\n",
      "  constant_folding: Graph size after: 1111 nodes (-304), 1308 edges (0), time = 45.571ms.\n",
      "  arithmetic_optimizer: Graph size after: 1111 nodes (0), 1308 edges (0), time = 18.394ms.\n",
      "  dependency_optimizer: Graph size after: 1111 nodes (0), 1308 edges (0), time = 9.992ms.\n",
      "  remapper: Graph size after: 1111 nodes (0), 1308 edges (0), time = 5.143ms.\n",
      "  constant_folding: Graph size after: 1111 nodes (0), 1308 edges (0), time = 22.813ms.\n",
      "  arithmetic_optimizer: Graph size after: 1111 nodes (0), 1308 edges (0), time = 18.23ms.\n",
      "  dependency_optimizer: Graph size after: 1111 nodes (0), 1308 edges (0), time = 9.571ms.\n",
      "\n"
     ]
    }
   ],
   "source": [
    "!{command}"
   ]
  },
  {
   "cell_type": "code",
   "execution_count": null,
   "metadata": {
    "id": "o8_hm-itpfDK"
   },
   "outputs": [],
   "source": [
    "# Test Code: https://github.com/nicknochnack/RealTimeSignLanguageDetectionwithTFJS"
   ]
  },
  {
   "cell_type": "markdown",
   "metadata": {
    "id": "VtUw73FHpfDK"
   },
   "source": [
    "# 12. Conversion to TFLite"
   ]
  },
  {
   "cell_type": "code",
   "execution_count": 20,
   "metadata": {
    "id": "XviMtewLpfDK"
   },
   "outputs": [],
   "source": [
    "TFLITE_SCRIPT = os.path.join(paths['APIMODEL_PATH'], 'research', 'object_detection', 'export_tflite_graph_tf2.py ')"
   ]
  },
  {
   "cell_type": "code",
   "execution_count": 21,
   "metadata": {
    "id": "us86cjC4pfDL"
   },
   "outputs": [],
   "source": [
    "command = \"python {} --pipeline_config_path={} --trained_checkpoint_dir={} --output_directory={}\".format(TFLITE_SCRIPT ,files['PIPELINE_CONFIG'], paths['CHECKPOINT_PATH'], paths['TFLITE_PATH'])"
   ]
  },
  {
   "cell_type": "code",
   "execution_count": 22,
   "metadata": {
    "colab": {
     "base_uri": "https://localhost:8080/"
    },
    "id": "n1r5YO3rpfDL",
    "outputId": "5fcdf7a4-eee2-4365-f1ca-1751968379ea"
   },
   "outputs": [
    {
     "name": "stdout",
     "output_type": "stream",
     "text": [
      "python Tensorflow\\models\\research\\object_detection\\export_tflite_graph_tf2.py  --pipeline_config_path=Tensorflow\\workspace\\models\\my_ssd_mobnet_eyesYawning\\pipeline.config --trained_checkpoint_dir=Tensorflow\\workspace\\models\\my_ssd_mobnet_eyesYawning --output_directory=Tensorflow\\workspace\\models\\my_ssd_mobnet_eyesYawning\\tfliteexport\n"
     ]
    }
   ],
   "source": [
    "print(command)"
   ]
  },
  {
   "cell_type": "code",
   "execution_count": null,
   "metadata": {
    "colab": {
     "base_uri": "https://localhost:8080/"
    },
    "id": "I-xWpHN8pfDL",
    "outputId": "7f6bacd8-d077-43b5-c131-5b081fba24a4"
   },
   "outputs": [],
   "source": [
    "!{command}"
   ]
  },
  {
   "cell_type": "code",
   "execution_count": 24,
   "metadata": {
    "id": "iJfYMbN6pfDL"
   },
   "outputs": [],
   "source": [
    "FROZEN_TFLITE_PATH = os.path.join(paths['TFLITE_PATH'], 'saved_model')\n",
    "TFLITE_MODEL = os.path.join(paths['TFLITE_PATH'], 'saved_model', 'detect.tflite')"
   ]
  },
  {
   "cell_type": "code",
   "execution_count": 25,
   "metadata": {},
   "outputs": [],
   "source": [
    "command = \"tflite_convert \\\n",
    "--saved_model_dir={} \\\n",
    "--output_file={} \\\n",
    "--input_shapes=1,300,300,3 \\\n",
    "--input_arrays=normalized_input_image_tensor \\\n",
    "--output_arrays='TFLite_Detection_PostProcess','TFLite_Detection_PostProcess:1','TFLite_Detection_PostProcess:2','TFLite_Detection_PostProcess:3' \\\n",
    "--inference_type=FLOAT \\\n",
    "--allow_custom_ops\".format(FROZEN_TFLITE_PATH, TFLITE_MODEL, )"
   ]
  },
  {
   "cell_type": "code",
   "execution_count": 26,
   "metadata": {
    "colab": {
     "base_uri": "https://localhost:8080/"
    },
    "id": "E8GwUeoFpfDL",
    "outputId": "fac43ea4-cc85-471b-a362-e994b06fd583"
   },
   "outputs": [
    {
     "name": "stdout",
     "output_type": "stream",
     "text": [
      "tflite_convert --saved_model_dir=Tensorflow\\workspace\\models\\my_ssd_mobnet_eyesYawning\\tfliteexport\\saved_model --output_file=Tensorflow\\workspace\\models\\my_ssd_mobnet_eyesYawning\\tfliteexport\\saved_model\\detect.tflite --input_shapes=1,300,300,3 --input_arrays=normalized_input_image_tensor --output_arrays='TFLite_Detection_PostProcess','TFLite_Detection_PostProcess:1','TFLite_Detection_PostProcess:2','TFLite_Detection_PostProcess:3' --inference_type=FLOAT --allow_custom_ops\n"
     ]
    }
   ],
   "source": [
    "print(command)"
   ]
  },
  {
   "cell_type": "code",
   "execution_count": 27,
   "metadata": {
    "colab": {
     "base_uri": "https://localhost:8080/"
    },
    "id": "Nbd7gqHMpfDL",
    "outputId": "7c8fe6d5-2415-4641-8548-39d425c202f7"
   },
   "outputs": [
    {
     "name": "stdout",
     "output_type": "stream",
     "text": [
      "Estimated count of arithmetic ops: 1.706 G  ops, equivalently 0.853 G  MACs\n"
     ]
    },
    {
     "name": "stderr",
     "output_type": "stream",
     "text": [
      "2023-11-11 14:15:31.074107: I tensorflow/core/platform/cpu_feature_guard.cc:193] This TensorFlow binary is optimized with oneAPI Deep Neural Network Library (oneDNN) to use the following CPU instructions in performance-critical operations:  AVX AVX2\n",
      "To enable them in other operations, rebuild TensorFlow with the appropriate compiler flags.\n",
      "2023-11-11 14:15:31.805042: I tensorflow/core/common_runtime/gpu/gpu_device.cc:1616] Created device /job:localhost/replica:0/task:0/device:GPU:0 with 5973 MB memory:  -> device: 0, name: NVIDIA GeForce RTX 2070 SUPER, pci bus id: 0000:07:00.0, compute capability: 7.5\n",
      "2023-11-11 14:15:41.429832: W tensorflow/compiler/mlir/lite/python/tf_tfl_flatbuffer_helpers.cc:362] Ignored output_format.\n",
      "2023-11-11 14:15:41.429981: W tensorflow/compiler/mlir/lite/python/tf_tfl_flatbuffer_helpers.cc:365] Ignored drop_control_dependency.\n",
      "2023-11-11 14:15:41.430875: I tensorflow/cc/saved_model/reader.cc:45] Reading SavedModel from: Tensorflow\\workspace\\models\\my_ssd_mobnet_eyesYawning\\tfliteexport\\saved_model\n",
      "2023-11-11 14:15:41.511462: I tensorflow/cc/saved_model/reader.cc:89] Reading meta graph with tags { serve }\n",
      "2023-11-11 14:15:41.511612: I tensorflow/cc/saved_model/reader.cc:130] Reading SavedModel debug info (if present) from: Tensorflow\\workspace\\models\\my_ssd_mobnet_eyesYawning\\tfliteexport\\saved_model\n",
      "2023-11-11 14:15:41.728108: I tensorflow/compiler/mlir/mlir_graph_optimization_pass.cc:354] MLIR V1 optimization pass is not enabled\n",
      "2023-11-11 14:15:41.777959: I tensorflow/cc/saved_model/loader.cc:229] Restoring SavedModel bundle.\n",
      "2023-11-11 14:15:42.729033: I tensorflow/cc/saved_model/loader.cc:213] Running initialization op on SavedModel bundle at path: Tensorflow\\workspace\\models\\my_ssd_mobnet_eyesYawning\\tfliteexport\\saved_model\n",
      "2023-11-11 14:15:43.080190: I tensorflow/cc/saved_model/loader.cc:305] SavedModel load for tags { serve }; Status: success: OK. Took 1649304 microseconds.\n",
      "2023-11-11 14:15:43.949636: I tensorflow/compiler/mlir/tensorflow/utils/dump_mlir_util.cc:268] disabling MLIR crash reproducer, set env var `MLIR_CRASH_REPRODUCER_DIRECTORY` to enable.\n",
      "2023-11-11 14:15:44.776604: I tensorflow/compiler/mlir/lite/flatbuffer_export.cc:1989] Estimated count of arithmetic ops: 1.706 G  ops, equivalently 0.853 G  MACs\n",
      "\n"
     ]
    }
   ],
   "source": [
    "!{command}"
   ]
  },
  {
   "cell_type": "markdown",
   "metadata": {
    "id": "5NQqZRdA21Uc"
   },
   "source": [
    "# 13. Zip and Export Models "
   ]
  },
  {
   "cell_type": "code",
   "execution_count": null,
   "metadata": {
    "id": "tTVTGCQp2ZJJ"
   },
   "outputs": [],
   "source": [
    "!tar -czf models.tar.gz {paths['CHECKPOINT_PATH']}"
   ]
  },
  {
   "cell_type": "code",
   "execution_count": null,
   "metadata": {
    "colab": {
     "base_uri": "https://localhost:8080/"
    },
    "id": "whShhB0x3PYJ",
    "outputId": "b773201d-35c9-46a8-b893-4a76bd4d5d97"
   },
   "outputs": [],
   "source": [
    "from google.colab import drive\n",
    "drive.mount('/content/drive')"
   ]
  }
 ],
 "metadata": {
  "accelerator": "GPU",
  "colab": {
   "name": "3. Training and Detection.ipynb",
   "provenance": []
  },
  "kernelspec": {
   "display_name": "Python 3 (ipykernel)",
   "language": "python",
   "name": "python3"
  },
  "language_info": {
   "codemirror_mode": {
    "name": "ipython",
    "version": 3
   },
   "file_extension": ".py",
   "mimetype": "text/x-python",
   "name": "python",
   "nbconvert_exporter": "python",
   "pygments_lexer": "ipython3",
   "version": "3.8.10"
  }
 },
 "nbformat": 4,
 "nbformat_minor": 4
}
